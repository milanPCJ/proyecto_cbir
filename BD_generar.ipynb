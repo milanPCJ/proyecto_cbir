{
  "nbformat": 4,
  "nbformat_minor": 0,
  "metadata": {
    "colab": {
      "provenance": [],
      "gpuType": "T4"
    },
    "kernelspec": {
      "name": "python3",
      "display_name": "Python 3"
    },
    "language_info": {
      "name": "python"
    },
    "accelerator": "GPU"
  },
  "cells": [
    {
      "cell_type": "markdown",
      "source": [
        "# Proyecto CBIR Milan Campos Alejandro Salvador\n",
        "\n",
        "### Notebook para la generación de vector Fais y extracción de características con los 2 métodos implementados."
      ],
      "metadata": {
        "id": "3TpqaK4TYCY0"
      }
    },
    {
      "cell_type": "markdown",
      "source": [
        "## Instalación de dependencias e imports necesarios"
      ],
      "metadata": {
        "id": "9sF-LhFcpjyO"
      }
    },
    {
      "cell_type": "code",
      "source": [
        "# ---------------------------------------------\n",
        "# Paso 0: Instalar librerías faltantes\n",
        "# ---------------------------------------------\n",
        "\n",
        "!pip install faiss-cpu  # Instalamos FAISS con soporte para GPU\n",
        "!pip install tensorflow==2.9.2  # Aseguramos compatibilidad con Keras\n",
        "!pip install keras==2.9.0\n",
        "!pip install scikit-image  # Para skimage\n",
        "!pip install rarfile  # Si no lo instalaste antes\n",
        "!pip install PyWavelets\n",
        "!pip install umap-learn"
      ],
      "metadata": {
        "colab": {
          "base_uri": "https://localhost:8080/"
        },
        "collapsed": true,
        "id": "SrZfa5OsjOzD",
        "outputId": "8604e722-9c26-401c-e5ef-d3ffb46f0157"
      },
      "execution_count": 16,
      "outputs": [
        {
          "output_type": "stream",
          "name": "stdout",
          "text": [
            "Requirement already satisfied: faiss-cpu in /usr/local/lib/python3.10/dist-packages (1.9.0.post1)\n",
            "Requirement already satisfied: numpy<3.0,>=1.25.0 in /usr/local/lib/python3.10/dist-packages (from faiss-cpu) (1.26.4)\n",
            "Requirement already satisfied: packaging in /usr/local/lib/python3.10/dist-packages (from faiss-cpu) (24.2)\n",
            "Requirement already satisfied: tensorflow==2.9.2 in /usr/local/lib/python3.10/dist-packages (2.9.2)\n",
            "Requirement already satisfied: absl-py>=1.0.0 in /usr/local/lib/python3.10/dist-packages (from tensorflow==2.9.2) (1.4.0)\n",
            "Requirement already satisfied: astunparse>=1.6.0 in /usr/local/lib/python3.10/dist-packages (from tensorflow==2.9.2) (1.6.3)\n",
            "Requirement already satisfied: flatbuffers<2,>=1.12 in /usr/local/lib/python3.10/dist-packages (from tensorflow==2.9.2) (1.12)\n",
            "Requirement already satisfied: gast<=0.4.0,>=0.2.1 in /usr/local/lib/python3.10/dist-packages (from tensorflow==2.9.2) (0.4.0)\n",
            "Requirement already satisfied: google-pasta>=0.1.1 in /usr/local/lib/python3.10/dist-packages (from tensorflow==2.9.2) (0.2.0)\n",
            "Requirement already satisfied: grpcio<2.0,>=1.24.3 in /usr/local/lib/python3.10/dist-packages (from tensorflow==2.9.2) (1.68.0)\n",
            "Requirement already satisfied: h5py>=2.9.0 in /usr/local/lib/python3.10/dist-packages (from tensorflow==2.9.2) (3.12.1)\n",
            "Requirement already satisfied: keras<2.10.0,>=2.9.0rc0 in /usr/local/lib/python3.10/dist-packages (from tensorflow==2.9.2) (2.9.0)\n",
            "Requirement already satisfied: keras-preprocessing>=1.1.1 in /usr/local/lib/python3.10/dist-packages (from tensorflow==2.9.2) (1.1.2)\n",
            "Requirement already satisfied: libclang>=13.0.0 in /usr/local/lib/python3.10/dist-packages (from tensorflow==2.9.2) (18.1.1)\n",
            "Requirement already satisfied: numpy>=1.20 in /usr/local/lib/python3.10/dist-packages (from tensorflow==2.9.2) (1.26.4)\n",
            "Requirement already satisfied: opt-einsum>=2.3.2 in /usr/local/lib/python3.10/dist-packages (from tensorflow==2.9.2) (3.4.0)\n",
            "Requirement already satisfied: packaging in /usr/local/lib/python3.10/dist-packages (from tensorflow==2.9.2) (24.2)\n",
            "Requirement already satisfied: protobuf<3.20,>=3.9.2 in /usr/local/lib/python3.10/dist-packages (from tensorflow==2.9.2) (3.19.6)\n",
            "Requirement already satisfied: setuptools in /usr/local/lib/python3.10/dist-packages (from tensorflow==2.9.2) (75.1.0)\n",
            "Requirement already satisfied: six>=1.12.0 in /usr/local/lib/python3.10/dist-packages (from tensorflow==2.9.2) (1.16.0)\n",
            "Requirement already satisfied: tensorboard<2.10,>=2.9 in /usr/local/lib/python3.10/dist-packages (from tensorflow==2.9.2) (2.9.1)\n",
            "Requirement already satisfied: tensorflow-io-gcs-filesystem>=0.23.1 in /usr/local/lib/python3.10/dist-packages (from tensorflow==2.9.2) (0.37.1)\n",
            "Requirement already satisfied: tensorflow-estimator<2.10.0,>=2.9.0rc0 in /usr/local/lib/python3.10/dist-packages (from tensorflow==2.9.2) (2.9.0)\n",
            "Requirement already satisfied: termcolor>=1.1.0 in /usr/local/lib/python3.10/dist-packages (from tensorflow==2.9.2) (2.5.0)\n",
            "Requirement already satisfied: typing-extensions>=3.6.6 in /usr/local/lib/python3.10/dist-packages (from tensorflow==2.9.2) (4.12.2)\n",
            "Requirement already satisfied: wrapt>=1.11.0 in /usr/local/lib/python3.10/dist-packages (from tensorflow==2.9.2) (1.16.0)\n",
            "Requirement already satisfied: wheel<1.0,>=0.23.0 in /usr/local/lib/python3.10/dist-packages (from astunparse>=1.6.0->tensorflow==2.9.2) (0.45.0)\n",
            "Requirement already satisfied: google-auth<3,>=1.6.3 in /usr/local/lib/python3.10/dist-packages (from tensorboard<2.10,>=2.9->tensorflow==2.9.2) (2.27.0)\n",
            "Requirement already satisfied: google-auth-oauthlib<0.5,>=0.4.1 in /usr/local/lib/python3.10/dist-packages (from tensorboard<2.10,>=2.9->tensorflow==2.9.2) (0.4.6)\n",
            "Requirement already satisfied: markdown>=2.6.8 in /usr/local/lib/python3.10/dist-packages (from tensorboard<2.10,>=2.9->tensorflow==2.9.2) (3.7)\n",
            "Requirement already satisfied: requests<3,>=2.21.0 in /usr/local/lib/python3.10/dist-packages (from tensorboard<2.10,>=2.9->tensorflow==2.9.2) (2.32.3)\n",
            "Requirement already satisfied: tensorboard-data-server<0.7.0,>=0.6.0 in /usr/local/lib/python3.10/dist-packages (from tensorboard<2.10,>=2.9->tensorflow==2.9.2) (0.6.1)\n",
            "Requirement already satisfied: tensorboard-plugin-wit>=1.6.0 in /usr/local/lib/python3.10/dist-packages (from tensorboard<2.10,>=2.9->tensorflow==2.9.2) (1.8.1)\n",
            "Requirement already satisfied: werkzeug>=1.0.1 in /usr/local/lib/python3.10/dist-packages (from tensorboard<2.10,>=2.9->tensorflow==2.9.2) (3.1.3)\n",
            "Requirement already satisfied: cachetools<6.0,>=2.0.0 in /usr/local/lib/python3.10/dist-packages (from google-auth<3,>=1.6.3->tensorboard<2.10,>=2.9->tensorflow==2.9.2) (5.5.0)\n",
            "Requirement already satisfied: pyasn1-modules>=0.2.1 in /usr/local/lib/python3.10/dist-packages (from google-auth<3,>=1.6.3->tensorboard<2.10,>=2.9->tensorflow==2.9.2) (0.4.1)\n",
            "Requirement already satisfied: rsa<5,>=3.1.4 in /usr/local/lib/python3.10/dist-packages (from google-auth<3,>=1.6.3->tensorboard<2.10,>=2.9->tensorflow==2.9.2) (4.9)\n",
            "Requirement already satisfied: requests-oauthlib>=0.7.0 in /usr/local/lib/python3.10/dist-packages (from google-auth-oauthlib<0.5,>=0.4.1->tensorboard<2.10,>=2.9->tensorflow==2.9.2) (1.3.1)\n",
            "Requirement already satisfied: charset-normalizer<4,>=2 in /usr/local/lib/python3.10/dist-packages (from requests<3,>=2.21.0->tensorboard<2.10,>=2.9->tensorflow==2.9.2) (3.4.0)\n",
            "Requirement already satisfied: idna<4,>=2.5 in /usr/local/lib/python3.10/dist-packages (from requests<3,>=2.21.0->tensorboard<2.10,>=2.9->tensorflow==2.9.2) (3.10)\n",
            "Requirement already satisfied: urllib3<3,>=1.21.1 in /usr/local/lib/python3.10/dist-packages (from requests<3,>=2.21.0->tensorboard<2.10,>=2.9->tensorflow==2.9.2) (2.2.3)\n",
            "Requirement already satisfied: certifi>=2017.4.17 in /usr/local/lib/python3.10/dist-packages (from requests<3,>=2.21.0->tensorboard<2.10,>=2.9->tensorflow==2.9.2) (2024.8.30)\n",
            "Requirement already satisfied: MarkupSafe>=2.1.1 in /usr/local/lib/python3.10/dist-packages (from werkzeug>=1.0.1->tensorboard<2.10,>=2.9->tensorflow==2.9.2) (3.0.2)\n",
            "Requirement already satisfied: pyasn1<0.7.0,>=0.4.6 in /usr/local/lib/python3.10/dist-packages (from pyasn1-modules>=0.2.1->google-auth<3,>=1.6.3->tensorboard<2.10,>=2.9->tensorflow==2.9.2) (0.6.1)\n",
            "Requirement already satisfied: oauthlib>=3.0.0 in /usr/local/lib/python3.10/dist-packages (from requests-oauthlib>=0.7.0->google-auth-oauthlib<0.5,>=0.4.1->tensorboard<2.10,>=2.9->tensorflow==2.9.2) (3.2.2)\n",
            "Requirement already satisfied: keras==2.9.0 in /usr/local/lib/python3.10/dist-packages (2.9.0)\n",
            "Requirement already satisfied: scikit-image in /usr/local/lib/python3.10/dist-packages (0.24.0)\n",
            "Requirement already satisfied: numpy>=1.23 in /usr/local/lib/python3.10/dist-packages (from scikit-image) (1.26.4)\n",
            "Requirement already satisfied: scipy>=1.9 in /usr/local/lib/python3.10/dist-packages (from scikit-image) (1.13.1)\n",
            "Requirement already satisfied: networkx>=2.8 in /usr/local/lib/python3.10/dist-packages (from scikit-image) (3.4.2)\n",
            "Requirement already satisfied: pillow>=9.1 in /usr/local/lib/python3.10/dist-packages (from scikit-image) (11.0.0)\n",
            "Requirement already satisfied: imageio>=2.33 in /usr/local/lib/python3.10/dist-packages (from scikit-image) (2.36.0)\n",
            "Requirement already satisfied: tifffile>=2022.8.12 in /usr/local/lib/python3.10/dist-packages (from scikit-image) (2024.9.20)\n",
            "Requirement already satisfied: packaging>=21 in /usr/local/lib/python3.10/dist-packages (from scikit-image) (24.2)\n",
            "Requirement already satisfied: lazy-loader>=0.4 in /usr/local/lib/python3.10/dist-packages (from scikit-image) (0.4)\n",
            "Requirement already satisfied: rarfile in /usr/local/lib/python3.10/dist-packages (4.2)\n",
            "Requirement already satisfied: PyWavelets in /usr/local/lib/python3.10/dist-packages (1.7.0)\n",
            "Requirement already satisfied: numpy<3,>=1.23 in /usr/local/lib/python3.10/dist-packages (from PyWavelets) (1.26.4)\n",
            "Collecting umap-learn\n",
            "  Downloading umap_learn-0.5.7-py3-none-any.whl.metadata (21 kB)\n",
            "Requirement already satisfied: numpy>=1.17 in /usr/local/lib/python3.10/dist-packages (from umap-learn) (1.26.4)\n",
            "Requirement already satisfied: scipy>=1.3.1 in /usr/local/lib/python3.10/dist-packages (from umap-learn) (1.13.1)\n",
            "Requirement already satisfied: scikit-learn>=0.22 in /usr/local/lib/python3.10/dist-packages (from umap-learn) (1.5.2)\n",
            "Requirement already satisfied: numba>=0.51.2 in /usr/local/lib/python3.10/dist-packages (from umap-learn) (0.60.0)\n",
            "Collecting pynndescent>=0.5 (from umap-learn)\n",
            "  Downloading pynndescent-0.5.13-py3-none-any.whl.metadata (6.8 kB)\n",
            "Requirement already satisfied: tqdm in /usr/local/lib/python3.10/dist-packages (from umap-learn) (4.66.6)\n",
            "Requirement already satisfied: llvmlite<0.44,>=0.43.0dev0 in /usr/local/lib/python3.10/dist-packages (from numba>=0.51.2->umap-learn) (0.43.0)\n",
            "Requirement already satisfied: joblib>=0.11 in /usr/local/lib/python3.10/dist-packages (from pynndescent>=0.5->umap-learn) (1.4.2)\n",
            "Requirement already satisfied: threadpoolctl>=3.1.0 in /usr/local/lib/python3.10/dist-packages (from scikit-learn>=0.22->umap-learn) (3.5.0)\n",
            "Downloading umap_learn-0.5.7-py3-none-any.whl (88 kB)\n",
            "\u001b[2K   \u001b[90m━━━━━━━━━━━━━━━━━━━━━━━━━━━━━━━━━━━━━━━━\u001b[0m \u001b[32m88.8/88.8 kB\u001b[0m \u001b[31m6.3 MB/s\u001b[0m eta \u001b[36m0:00:00\u001b[0m\n",
            "\u001b[?25hDownloading pynndescent-0.5.13-py3-none-any.whl (56 kB)\n",
            "\u001b[2K   \u001b[90m━━━━━━━━━━━━━━━━━━━━━━━━━━━━━━━━━━━━━━━━\u001b[0m \u001b[32m56.9/56.9 kB\u001b[0m \u001b[31m6.1 MB/s\u001b[0m eta \u001b[36m0:00:00\u001b[0m\n",
            "\u001b[?25hInstalling collected packages: pynndescent, umap-learn\n",
            "Successfully installed pynndescent-0.5.13 umap-learn-0.5.7\n"
          ]
        }
      ]
    },
    {
      "cell_type": "code",
      "source": [
        "import os\n",
        "import cv2\n",
        "import numpy as np\n",
        "from tqdm import tqdm\n",
        "from sklearn.preprocessing import StandardScaler\n",
        "import joblib\n",
        "import faiss\n",
        "from tensorflow.keras.applications.vgg16 import VGG16, preprocess_input\n",
        "from tensorflow.keras.preprocessing import image\n",
        "from tensorflow.keras.models import Model\n",
        "from skimage.feature import local_binary_pattern, hog\n",
        "from sklearn.cluster import MiniBatchKMeans\n",
        "import pandas as pd\n",
        "import warnings\n",
        "import logging\n",
        "from sklearn.decomposition import PCA\n",
        "import pywt\n",
        "import umap"
      ],
      "metadata": {
        "id": "0yuh7OMuBi7z"
      },
      "execution_count": 39,
      "outputs": []
    },
    {
      "cell_type": "code",
      "source": [
        "# Ignorar advertencias de PIL\n",
        "warnings.filterwarnings(\"ignore\", category=UserWarning, module=\"PIL\")\n",
        "\n",
        "# ---------------------------------------------\n",
        "# Paso 1: Montar Google Drive\n",
        "# ---------------------------------------------\n",
        "from google.colab import drive\n",
        "drive.mount('/content/drive')\n",
        "\n",
        "# Definir la ruta a la carpeta de índices\n",
        "DB_PATH = '/content/indices'\n",
        "os.makedirs(DB_PATH, exist_ok=True)\n",
        "\n",
        "# Definir la carpeta de Google Drive para respaldos\n",
        "drive_folder = '/content/drive/MyDrive/indices'\n",
        "os.makedirs(drive_folder, exist_ok=True)\n",
        "\n",
        "print(\"Preparación inicial completada.\")"
      ],
      "metadata": {
        "id": "Ra63LcyRBuyJ",
        "colab": {
          "base_uri": "https://localhost:8080/"
        },
        "outputId": "ff2d18b7-e598-4c9c-f12a-05b3be03caa5"
      },
      "execution_count": 40,
      "outputs": [
        {
          "output_type": "stream",
          "name": "stdout",
          "text": [
            "Drive already mounted at /content/drive; to attempt to forcibly remount, call drive.mount(\"/content/drive\", force_remount=True).\n",
            "Preparación inicial completada.\n"
          ]
        }
      ]
    },
    {
      "cell_type": "markdown",
      "source": [
        "### Importar la base de datos de las imágenes para entrenamiento"
      ],
      "metadata": {
        "id": "7aSBiNc-prIf"
      }
    },
    {
      "cell_type": "code",
      "source": [
        "# ---------------------------------------------\n",
        "# Bloque 2: Extraer el Archivo .rar\n",
        "# ---------------------------------------------\n",
        "\n",
        "# Ruta al archivo .rar en Google Drive\n",
        "rar_path = '/content/drive/MyDrive/ING/CBIR/TRAIN.rar'  # Ajusta esta ruta si es necesario\n",
        "\n",
        "# Ruta donde deseas extraer los archivos\n",
        "extract_path = '/content/database'  # Puedes cambiar esta ruta si lo deseas\n",
        "\n",
        "# Asegurarse de que la carpeta de extracción existe\n",
        "os.makedirs(extract_path, exist_ok=True)\n",
        "\n",
        "# Instalar 'unrar' si no está instalado\n",
        "!apt-get install unrar -y\n",
        "\n",
        "# Extraer el archivo .rar\n",
        "!unrar x -y \"{rar_path}\" \"{extract_path}/\"\n",
        "\n",
        "print(f'Archivos extraídos en {extract_path}')\n"
      ],
      "metadata": {
        "collapsed": true,
        "id": "mgoXhT5VBxW0",
        "colab": {
          "base_uri": "https://localhost:8080/"
        },
        "outputId": "b110ca8d-bc88-4936-ab76-a3af80f6c1af"
      },
      "execution_count": 41,
      "outputs": [
        {
          "output_type": "stream",
          "name": "stdout",
          "text": [
            "Reading package lists... Done\n",
            "Building dependency tree... Done\n",
            "Reading state information... Done\n",
            "unrar is already the newest version (1:6.1.5-1).\n",
            "0 upgraded, 0 newly installed, 0 to remove and 49 not upgraded.\n",
            "\n",
            "UNRAR 6.11 beta 1 freeware      Copyright (c) 1993-2022 Alexander Roshal\n",
            "\n",
            "\n",
            "Extracting from /content/drive/MyDrive/ING/CBIR/TRAIN.rar\n",
            "\n",
            "Extracting  /content/database/TRAIN/Bosque/11640.jpg                     \b\b\b\b  0%\b\b\b\b\b  OK \n",
            "Extracting  /content/database/TRAIN/Bosque/11656.jpg                     \b\b\b\b  1%\b\b\b\b\b  OK \n",
            "Extracting  /content/database/TRAIN/Bosque/12126.jpg                     \b\b\b\b  2%\b\b\b\b\b  OK \n",
            "Extracting  /content/database/TRAIN/Bosque/12346.jpg                     \b\b\b\b  2%\b\b\b\b\b  OK \n",
            "Extracting  /content/database/TRAIN/Bosque/12474.jpg                     \b\b\b\b  3%\b\b\b\b\b  OK \n",
            "Extracting  /content/database/TRAIN/Bosque/13386.jpg                     \b\b\b\b  4%\b\b\b\b\b  OK \n",
            "Extracting  /content/database/TRAIN/Bosque/13503.jpg                     \b\b\b\b  5%\b\b\b\b\b  OK \n",
            "Extracting  /content/database/TRAIN/Bosque/14455.jpg                     \b\b\b\b  5%\b\b\b\b\b  OK \n",
            "Extracting  /content/database/TRAIN/Bosque/14459.jpg                     \b\b\b\b  6%\b\b\b\b\b  OK \n",
            "Extracting  /content/database/TRAIN/Bosque/15372.jpg                     \b\b\b\b  7%\b\b\b\b\b  OK \n",
            "Extracting  /content/database/TRAIN/Bosque/15498.jpg                     \b\b\b\b  8%\b\b\b\b\b  OK \n",
            "Extracting  /content/database/TRAIN/Bosque/17107.jpg                     \b\b\b\b  8%\b\b\b\b\b  OK \n",
            "Extracting  /content/database/TRAIN/Bosque/17396.jpg                     \b\b\b\b  9%\b\b\b\b\b  OK \n",
            "Extracting  /content/database/TRAIN/Bosque/17454.jpg                     \b\b\b\b 10%\b\b\b\b\b  OK \n",
            "Extracting  /content/database/TRAIN/Bosque/18267.jpg                     \b\b\b\b 10%\b\b\b\b\b  OK \n",
            "Extracting  /content/database/TRAIN/Bosque/18341.jpg                     \b\b\b\b 11%\b\b\b\b\b  OK \n",
            "Extracting  /content/database/TRAIN/Bosque/19070.jpg                     \b\b\b\b 12%\b\b\b\b\b  OK \n",
            "Extracting  /content/database/TRAIN/Bosque/19138.jpg                     \b\b\b\b 13%\b\b\b\b\b  OK \n",
            "Extracting  /content/database/TRAIN/Bosque/19192.jpg                     \b\b\b\b 13%\b\b\b\b\b  OK \n",
            "Extracting  /content/database/TRAIN/Bosque/19196.jpg                     \b\b\b\b 14%\b\b\b\b\b  OK \n",
            "Extracting  /content/database/TRAIN/Bosque/19202.jpg                     \b\b\b\b 15%\b\b\b\b\b  OK \n",
            "Extracting  /content/database/TRAIN/Bosque/19359.jpg                     \b\b\b\b 16%\b\b\b\b\b  OK \n",
            "Extracting  /content/database/TRAIN/Bosque/19406.jpg                     \b\b\b\b 17%\b\b\b\b\b  OK \n",
            "Extracting  /content/database/TRAIN/Bosque/19508.jpg                     \b\b\b\b 17%\b\b\b\b\b  OK \n",
            "Extracting  /content/database/TRAIN/Bosque/19546.jpg                     \b\b\b\b 18%\b\b\b\b\b  OK \n",
            "Extracting  /content/database/TRAIN/Bosque/19640.jpg                     \b\b\b\b 19%\b\b\b\b\b  OK \n",
            "Extracting  /content/database/TRAIN/Bosque/19663.jpg                     \b\b\b\b 20%\b\b\b\b\b  OK \n",
            "Extracting  /content/database/TRAIN/Bosque/19730.jpg                     \b\b\b\b 21%\b\b\b\b\b  OK \n",
            "Extracting  /content/database/TRAIN/Bosque/8906.jpg                      \b\b\b\b 21%\b\b\b\b\b  OK \n",
            "Extracting  /content/database/TRAIN/Bosque/9923.jpg                      \b\b\b\b 22%\b\b\b\b\b  OK \n",
            "Extracting  /content/database/TRAIN/Calles/11060.jpg                     \b\b\b\b 22%\b\b\b\b\b  OK \n",
            "Extracting  /content/database/TRAIN/Calles/12210.jpg                     \b\b\b\b 23%\b\b\b\b\b  OK \n",
            "Extracting  /content/database/TRAIN/Calles/1246.jpg                      \b\b\b\b 24%\b\b\b\b\b  OK \n",
            "Extracting  /content/database/TRAIN/Calles/1280.jpg                      \b\b\b\b 24%\b\b\b\b\b  OK \n",
            "Extracting  /content/database/TRAIN/Calles/1385.jpg                      \b\b\b\b 25%\b\b\b\b\b  OK \n",
            "Extracting  /content/database/TRAIN/Calles/1589.jpg                      \b\b\b\b 25%\b\b\b\b\b  OK \n",
            "Extracting  /content/database/TRAIN/Calles/1774.jpg                      \b\b\b\b 26%\b\b\b\b\b  OK \n",
            "Extracting  /content/database/TRAIN/Calles/1908.jpg                      \b\b\b\b 27%\b\b\b\b\b  OK \n",
            "Extracting  /content/database/TRAIN/Calles/1984.jpg                      \b\b\b\b 27%\b\b\b\b\b  OK \n",
            "Extracting  /content/database/TRAIN/Calles/228.jpg                       \b\b\b\b 28%\b\b\b\b\b  OK \n",
            "Extracting  /content/database/TRAIN/Calles/2453.jpg                      \b\b\b\b 28%\b\b\b\b\b  OK \n",
            "Extracting  /content/database/TRAIN/Calles/2683.jpg                      \b\b\b\b 29%\b\b\b\b\b  OK \n",
            "Extracting  /content/database/TRAIN/Calles/3137.jpg                      \b\b\b\b 29%\b\b\b\b\b  OK \n",
            "Extracting  /content/database/TRAIN/Calles/3222.jpg                      \b\b\b\b 30%\b\b\b\b\b  OK \n",
            "Extracting  /content/database/TRAIN/Calles/338.jpg                       \b\b\b\b 30%\b\b\b\b\b  OK \n",
            "Extracting  /content/database/TRAIN/Calles/35.jpg                        \b\b\b\b 31%\b\b\b\b\b  OK \n",
            "Extracting  /content/database/TRAIN/Calles/370.jpg                       \b\b\b\b 32%\b\b\b\b\b  OK \n",
            "Extracting  /content/database/TRAIN/Calles/3797.jpg                      \b\b\b\b 32%\b\b\b\b\b  OK \n",
            "Extracting  /content/database/TRAIN/Calles/3870.jpg                      \b\b\b\b 33%\b\b\b\b\b  OK \n",
            "Extracting  /content/database/TRAIN/Calles/5026.jpg                      \b\b\b\b 33%\b\b\b\b\b  OK \n",
            "Extracting  /content/database/TRAIN/Calles/5039.jpg                      \b\b\b\b 34%\b\b\b\b\b  OK \n",
            "Extracting  /content/database/TRAIN/Calles/5694.jpg                      \b\b\b\b 34%\b\b\b\b\b  OK \n",
            "Extracting  /content/database/TRAIN/Calles/5768.jpg                      \b\b\b\b 35%\b\b\b\b\b  OK \n",
            "Extracting  /content/database/TRAIN/Calles/6155.jpg                      \b\b\b\b 35%\b\b\b\b\b  OK \n",
            "Extracting  /content/database/TRAIN/Calles/7023.jpg                      \b\b\b\b 36%\b\b\b\b\b  OK \n",
            "Extracting  /content/database/TRAIN/Calles/80.jpg                        \b\b\b\b 36%\b\b\b\b\b  OK \n",
            "Extracting  /content/database/TRAIN/Calles/8345.jpg                      \b\b\b\b 37%\b\b\b\b\b  OK \n",
            "Extracting  /content/database/TRAIN/Calles/8533.jpg                      \b\b\b\b 38%\b\b\b\b\b  OK \n",
            "Extracting  /content/database/TRAIN/Calles/8907.jpg                      \b\b\b\b 38%\b\b\b\b\b  OK \n",
            "Extracting  /content/database/TRAIN/Calles/9089.jpg                      \b\b\b\b 39%\b\b\b\b\b  OK \n",
            "Extracting  /content/database/TRAIN/Edificios/1012.jpg                   \b\b\b\b 39%\b\b\b\b\b  OK \n",
            "Extracting  /content/database/TRAIN/Edificios/112.jpg                    \b\b\b\b 40%\b\b\b\b\b  OK \n",
            "Extracting  /content/database/TRAIN/Edificios/1429.jpg                   \b\b\b\b 40%\b\b\b\b\b  OK \n",
            "Extracting  /content/database/TRAIN/Edificios/1503.jpg                   \b\b\b\b 41%\b\b\b\b\b  OK \n",
            "Extracting  /content/database/TRAIN/Edificios/1859.jpg                   \b\b\b\b 42%\b\b\b\b\b  OK \n",
            "Extracting  /content/database/TRAIN/Edificios/2558.jpg                   \b\b\b\b 42%\b\b\b\b\b  OK \n",
            "Extracting  /content/database/TRAIN/Edificios/2691.jpg                   \b\b\b\b 43%\b\b\b\b\b  OK \n",
            "Extracting  /content/database/TRAIN/Edificios/2961.jpg                   \b\b\b\b 43%\b\b\b\b\b  OK \n",
            "Extracting  /content/database/TRAIN/Edificios/3000.jpg                   \b\b\b\b 44%\b\b\b\b\b  OK \n",
            "Extracting  /content/database/TRAIN/Edificios/318.jpg                    \b\b\b\b 44%\b\b\b\b\b  OK \n",
            "Extracting  /content/database/TRAIN/Edificios/3989.jpg                   \b\b\b\b 45%\b\b\b\b\b  OK \n",
            "Extracting  /content/database/TRAIN/Edificios/4012.jpg                   \b\b\b\b 46%\b\b\b\b\b  OK \n",
            "Extracting  /content/database/TRAIN/Edificios/4075.jpg                   \b\b\b\b 46%\b\b\b\b\b  OK \n",
            "Extracting  /content/database/TRAIN/Edificios/4392.jpg                   \b\b\b\b 47%\b\b\b\b\b  OK \n",
            "Extracting  /content/database/TRAIN/Edificios/4466.jpg                   \b\b\b\b 47%\b\b\b\b\b  OK \n",
            "Extracting  /content/database/TRAIN/Edificios/4481.jpg                   \b\b\b\b 48%\b\b\b\b\b  OK \n",
            "Extracting  /content/database/TRAIN/Edificios/4558.jpg                   \b\b\b\b 48%\b\b\b\b\b  OK \n",
            "Extracting  /content/database/TRAIN/Edificios/4796.jpg                   \b\b\b\b 49%\b\b\b\b\b  OK \n",
            "Extracting  /content/database/TRAIN/Edificios/4932.jpg                   \b\b\b\b 49%\b\b\b\b\b  OK \n",
            "Extracting  /content/database/TRAIN/Edificios/4961.jpg                   \b\b\b\b 50%\b\b\b\b\b  OK \n",
            "Extracting  /content/database/TRAIN/Edificios/5291.jpg                   \b\b\b\b 50%\b\b\b\b\b  OK \n",
            "Extracting  /content/database/TRAIN/Edificios/53.jpg                     \b\b\b\b 51%\b\b\b\b\b  OK \n",
            "Extracting  /content/database/TRAIN/Edificios/6525.jpg                   \b\b\b\b 52%\b\b\b\b\b  OK \n",
            "Extracting  /content/database/TRAIN/Edificios/66.jpg                     \b\b\b\b 52%\b\b\b\b\b  OK \n",
            "Extracting  /content/database/TRAIN/Edificios/6773.jpg                   \b\b\b\b 53%\b\b\b\b\b  OK \n",
            "Extracting  /content/database/TRAIN/Edificios/7143.jpg                   \b\b\b\b 54%\b\b\b\b\b  OK \n",
            "Extracting  /content/database/TRAIN/Edificios/7530.jpg                   \b\b\b\b 54%\b\b\b\b\b  OK \n",
            "Extracting  /content/database/TRAIN/Edificios/7547.jpg                   \b\b\b\b 55%\b\b\b\b\b  OK \n",
            "Extracting  /content/database/TRAIN/Edificios/967.jpg                    \b\b\b\b 55%\b\b\b\b\b  OK \n",
            "Extracting  /content/database/TRAIN/Edificios/991.jpg                    \b\b\b\b 56%\b\b\b\b\b  OK \n",
            "Extracting  /content/database/TRAIN/Glaciares/10412.jpg                  \b\b\b\b 56%\b\b\b\b\b  OK \n",
            "Extracting  /content/database/TRAIN/Glaciares/10663.jpg                  \b\b\b\b 57%\b\b\b\b\b  OK \n",
            "Extracting  /content/database/TRAIN/Glaciares/12492.jpg                  \b\b\b\b 57%\b\b\b\b\b  OK \n",
            "Extracting  /content/database/TRAIN/Glaciares/12583.jpg                  \b\b\b\b 58%\b\b\b\b\b  OK \n",
            "Extracting  /content/database/TRAIN/Glaciares/12647.jpg                  \b\b\b\b 58%\b\b\b\b\b  OK \n",
            "Extracting  /content/database/TRAIN/Glaciares/13.jpg                     \b\b\b\b 59%\b\b\b\b\b  OK \n",
            "Extracting  /content/database/TRAIN/Glaciares/14214.jpg                  \b\b\b\b 59%\b\b\b\b\b  OK \n",
            "Extracting  /content/database/TRAIN/Glaciares/14256.jpg                  \b\b\b\b 60%\b\b\b\b\b  OK \n",
            "Extracting  /content/database/TRAIN/Glaciares/14331.jpg                  \b\b\b\b 61%\b\b\b\b\b  OK \n",
            "Extracting  /content/database/TRAIN/Glaciares/16239.jpg                  \b\b\b\b 61%\b\b\b\b\b  OK \n",
            "Extracting  /content/database/TRAIN/Glaciares/16268.jpg                  \b\b\b\b 62%\b\b\b\b\b  OK \n",
            "Extracting  /content/database/TRAIN/Glaciares/16296.jpg                  \b\b\b\b 62%\b\b\b\b\b  OK \n",
            "Extracting  /content/database/TRAIN/Glaciares/16771.jpg                  \b\b\b\b 63%\b\b\b\b\b  OK \n",
            "Extracting  /content/database/TRAIN/Glaciares/16856.jpg                  \b\b\b\b 63%\b\b\b\b\b  OK \n",
            "Extracting  /content/database/TRAIN/Glaciares/17301.jpg                  \b\b\b\b 64%\b\b\b\b\b  OK \n",
            "Extracting  /content/database/TRAIN/Glaciares/17432.jpg                  \b\b\b\b 64%\b\b\b\b\b  OK \n",
            "Extracting  /content/database/TRAIN/Glaciares/17766.jpg                  \b\b\b\b 65%\b\b\b\b\b  OK \n",
            "Extracting  /content/database/TRAIN/Glaciares/17783.jpg                  \b\b\b\b 65%\b\b\b\b\b  OK \n",
            "Extracting  /content/database/TRAIN/Glaciares/17795.jpg                  \b\b\b\b 66%\b\b\b\b\b  OK \n",
            "Extracting  /content/database/TRAIN/Glaciares/18199.jpg                  \b\b\b\b 66%\b\b\b\b\b  OK \n",
            "Extracting  /content/database/TRAIN/Glaciares/18221.jpg                  \b\b\b\b 67%\b\b\b\b\b  OK \n",
            "Extracting  /content/database/TRAIN/Glaciares/18597.jpg                  \b\b\b\b 67%\b\b\b\b\b  OK \n",
            "Extracting  /content/database/TRAIN/Glaciares/18785.jpg                  \b\b\b\b 68%\b\b\b\b\b  OK \n",
            "Extracting  /content/database/TRAIN/Glaciares/24.jpg                     \b\b\b\b 69%\b\b\b\b\b  OK \n",
            "Extracting  /content/database/TRAIN/Glaciares/2950.jpg                   \b\b\b\b 69%\b\b\b\b\b  OK \n",
            "Extracting  /content/database/TRAIN/Glaciares/3008.jpg                   \b\b\b\b 69%\b\b\b\b\b  OK \n",
            "Extracting  /content/database/TRAIN/Glaciares/3106.jpg                   \b\b\b\b 70%\b\b\b\b\b  OK \n",
            "Extracting  /content/database/TRAIN/Glaciares/7030.jpg                   \b\b\b\b 71%\b\b\b\b\b  OK \n",
            "Extracting  /content/database/TRAIN/Glaciares/7164.jpg                   \b\b\b\b 71%\b\b\b\b\b  OK \n",
            "Extracting  /content/database/TRAIN/Glaciares/7239.jpg                   \b\b\b\b 72%\b\b\b\b\b  OK \n",
            "Extracting  /content/database/TRAIN/Montaña/1336.jpg                     \b\b\b\b 72%\b\b\b\b\b  OK \n",
            "Extracting  /content/database/TRAIN/Montaña/1380.jpg                     \b\b\b\b 72%\b\b\b\b\b  OK \n",
            "Extracting  /content/database/TRAIN/Montaña/1607.jpg                     \b\b\b\b 73%\b\b\b\b\b  OK \n",
            "Extracting  /content/database/TRAIN/Montaña/1813.jpg                     \b\b\b\b 73%\b\b\b\b\b  OK \n",
            "Extracting  /content/database/TRAIN/Montaña/2448.jpg                     \b\b\b\b 74%\b\b\b\b\b  OK \n",
            "Extracting  /content/database/TRAIN/Montaña/245.jpg                      \b\b\b\b 75%\b\b\b\b\b  OK \n",
            "Extracting  /content/database/TRAIN/Montaña/2517.jpg                     \b\b\b\b 75%\b\b\b\b\b  OK \n",
            "Extracting  /content/database/TRAIN/Montaña/2976.jpg                     \b\b\b\b 76%\b\b\b\b\b  OK \n",
            "Extracting  /content/database/TRAIN/Montaña/301.jpg                      \b\b\b\b 76%\b\b\b\b\b  OK \n",
            "Extracting  /content/database/TRAIN/Montaña/3039.jpg                     \b\b\b\b 77%\b\b\b\b\b  OK \n",
            "Extracting  /content/database/TRAIN/Montaña/313.jpg                      \b\b\b\b 77%\b\b\b\b\b  OK \n",
            "Extracting  /content/database/TRAIN/Montaña/3592.jpg                     \b\b\b\b 78%\b\b\b\b\b  OK \n",
            "Extracting  /content/database/TRAIN/Montaña/3733.jpg                     \b\b\b\b 78%\b\b\b\b\b  OK \n",
            "Extracting  /content/database/TRAIN/Montaña/4311.jpg                     \b\b\b\b 79%\b\b\b\b\b  OK \n",
            "Extracting  /content/database/TRAIN/Montaña/4913.jpg                     \b\b\b\b 79%\b\b\b\b\b  OK \n",
            "Extracting  /content/database/TRAIN/Montaña/4953.jpg                     \b\b\b\b 80%\b\b\b\b\b  OK \n",
            "Extracting  /content/database/TRAIN/Montaña/5611.jpg                     \b\b\b\b 80%\b\b\b\b\b  OK \n",
            "Extracting  /content/database/TRAIN/Montaña/5764.jpg                     \b\b\b\b 81%\b\b\b\b\b  OK \n",
            "Extracting  /content/database/TRAIN/Montaña/6440.jpg                     \b\b\b\b 81%\b\b\b\b\b  OK \n",
            "Extracting  /content/database/TRAIN/Montaña/6813.jpg                     \b\b\b\b 82%\b\b\b\b\b  OK \n",
            "Extracting  /content/database/TRAIN/Montaña/7359.jpg                     \b\b\b\b 82%\b\b\b\b\b  OK \n",
            "Extracting  /content/database/TRAIN/Montaña/7820.jpg                     \b\b\b\b 83%\b\b\b\b\b  OK \n",
            "Extracting  /content/database/TRAIN/Montaña/7881.jpg                     \b\b\b\b 83%\b\b\b\b\b  OK \n",
            "Extracting  /content/database/TRAIN/Montaña/8536.jpg                     \b\b\b\b 84%\b\b\b\b\b  OK \n",
            "Extracting  /content/database/TRAIN/Montaña/8573.jpg                     \b\b\b\b 84%\b\b\b\b\b  OK \n",
            "Extracting  /content/database/TRAIN/Montaña/860.jpg                      \b\b\b\b 85%\b\b\b\b\b  OK \n",
            "Extracting  /content/database/TRAIN/Montaña/9068.jpg                     \b\b\b\b 85%\b\b\b\b\b  OK \n",
            "Extracting  /content/database/TRAIN/Montaña/9311.jpg                     \b\b\b\b 86%\b\b\b\b\b  OK \n",
            "Extracting  /content/database/TRAIN/Montaña/9560.jpg                     \b\b\b\b 87%\b\b\b\b\b  OK \n",
            "Extracting  /content/database/TRAIN/Montaña/9793.jpg                     \b\b\b\b 87%\b\b\b\b\b  OK \n",
            "Extracting  /content/database/TRAIN/Oceano/10595.jpg                     \b\b\b\b 87%\b\b\b\b\b  OK \n",
            "Extracting  /content/database/TRAIN/Oceano/10596.jpg                     \b\b\b\b 88%\b\b\b\b\b  OK \n",
            "Extracting  /content/database/TRAIN/Oceano/10686.jpg                     \b\b\b\b 88%\b\b\b\b\b  OK \n",
            "Extracting  /content/database/TRAIN/Oceano/1484.jpg                      \b\b\b\b 89%\b\b\b\b\b  OK \n",
            "Extracting  /content/database/TRAIN/Oceano/1807.jpg                      \b\b\b\b 89%\b\b\b\b\b  OK \n",
            "Extracting  /content/database/TRAIN/Oceano/20.jpg                        \b\b\b\b 90%\b\b\b\b\b  OK \n",
            "Extracting  /content/database/TRAIN/Oceano/2061.jpg                      \b\b\b\b 90%\b\b\b\b\b  OK \n",
            "Extracting  /content/database/TRAIN/Oceano/248.jpg                       \b\b\b\b 91%\b\b\b\b\b  OK \n",
            "Extracting  /content/database/TRAIN/Oceano/2546.jpg                      \b\b\b\b 91%\b\b\b\b\b  OK \n",
            "Extracting  /content/database/TRAIN/Oceano/2594.jpg                      \b\b\b\b 91%\b\b\b\b\b  OK \n",
            "Extracting  /content/database/TRAIN/Oceano/2937.jpg                      \b\b\b\b 92%\b\b\b\b\b  OK \n",
            "Extracting  /content/database/TRAIN/Oceano/2944.jpg                      \b\b\b\b 92%\b\b\b\b\b  OK \n",
            "Extracting  /content/database/TRAIN/Oceano/4199.jpg                      \b\b\b\b 92%\b\b\b\b\b  OK \n",
            "Extracting  /content/database/TRAIN/Oceano/4645.jpg                      \b\b\b\b 93%\b\b\b\b\b  OK \n",
            "Extracting  /content/database/TRAIN/Oceano/4936.jpg                      \b\b\b\b 93%\b\b\b\b\b  OK \n",
            "Extracting  /content/database/TRAIN/Oceano/5256.jpg                      \b\b\b\b 93%\b\b\b\b\b  OK \n",
            "Extracting  /content/database/TRAIN/Oceano/5584.jpg                      \b\b\b\b 94%\b\b\b\b\b  OK \n",
            "Extracting  /content/database/TRAIN/Oceano/5748.jpg                      \b\b\b\b 94%\b\b\b\b\b  OK \n",
            "Extracting  /content/database/TRAIN/Oceano/5858.jpg                      \b\b\b\b 95%\b\b\b\b\b  OK \n",
            "Extracting  /content/database/TRAIN/Oceano/6197.jpg                      \b\b\b\b 95%\b\b\b\b\b  OK \n",
            "Extracting  /content/database/TRAIN/Oceano/6955.jpg                      \b\b\b\b 95%\b\b\b\b\b  OK \n",
            "Extracting  /content/database/TRAIN/Oceano/7.jpg                         \b\b\b\b 96%\b\b\b\b\b  OK \n",
            "Extracting  /content/database/TRAIN/Oceano/7725.jpg                      \b\b\b\b 96%\b\b\b\b\b  OK \n",
            "Extracting  /content/database/TRAIN/Oceano/786.jpg                       \b\b\b\b 97%\b\b\b\b\b  OK \n",
            "Extracting  /content/database/TRAIN/Oceano/7948.jpg                      \b\b\b\b 97%\b\b\b\b\b  OK \n",
            "Extracting  /content/database/TRAIN/Oceano/8028.jpg                      \b\b\b\b 98%\b\b\b\b\b  OK \n",
            "Extracting  /content/database/TRAIN/Oceano/8499.jpg                      \b\b\b\b 98%\b\b\b\b\b  OK \n",
            "Extracting  /content/database/TRAIN/Oceano/8502.jpg                      \b\b\b\b 99%\b\b\b\b\b  OK \n",
            "Extracting  /content/database/TRAIN/Oceano/907.jpg                       \b\b\b\b 99%\b\b\b\b\b  OK \n",
            "Extracting  /content/database/TRAIN/Oceano/9106.jpg                      \b\b\b\b 99%\b\b\b\b\b  OK \n",
            "All OK\n",
            "Archivos extraídos en /content/database\n"
          ]
        }
      ]
    },
    {
      "cell_type": "markdown",
      "source": [
        "## Función para la reducción de ruido de las imágenes"
      ],
      "metadata": {
        "id": "lkqTwGh7pwRf"
      }
    },
    {
      "cell_type": "code",
      "source": [
        "def reducir_ruido_handcrafted(image):\n",
        "    # Convertir la imagen a escala de grises (si no lo está ya)\n",
        "    if len(image.shape) == 3:  # Si la imagen tiene 3 canales (BGR)\n",
        "        image = cv2.cvtColor(image, cv2.COLOR_BGR2GRAY)\n",
        "\n",
        "    # Aplicar un filtro bilateral para preservar bordes\n",
        "    denoised_image = cv2.bilateralFilter(image, d=9, sigmaColor=75, sigmaSpace=75)\n",
        "\n",
        "    # Convertir la imagen a color (RGB) si está en escala de grises\n",
        "    if len(denoised_image.shape) == 2:  # Si la imagen tiene un solo canal (grayscale)\n",
        "        denoised_image = cv2.cvtColor(denoised_image, cv2.COLOR_GRAY2BGR)\n",
        "\n",
        "    return denoised_image"
      ],
      "metadata": {
        "id": "mWvKHcLVWmqg"
      },
      "execution_count": 79,
      "outputs": []
    },
    {
      "cell_type": "markdown",
      "source": [
        "## Desarrollo de las clases de extracción de características"
      ],
      "metadata": {
        "id": "GV3cl0LSVpMP"
      }
    },
    {
      "cell_type": "code",
      "source": [
        "# ---------------------------------------------\n",
        "# Paso 3: Definir Clases y Funciones de Extracción de Características\n",
        "# ---------------------------------------------\n",
        "\n",
        "class Handcrafted:\n",
        "    def __init__(self, imagen, target_size=(150, 150)):\n",
        "        imagen0 = cv2.imread(imagen)\n",
        "        imagen = reducir_ruido_handcrafted(imagen0)\n",
        "        if imagen is None:\n",
        "            raise ValueError(f\"No se pudo leer la imagen {imagen}\")\n",
        "        if imagen.shape[1] != target_size[0] or imagen.shape[0] != target_size[1]:\n",
        "            self.imagen_color = cv2.resize(imagen, target_size)\n",
        "        else:\n",
        "            self.imagen_color = imagen\n",
        "        self.imagen_grayscale = cv2.cvtColor(self.imagen_color, cv2.COLOR_BGR2GRAY)\n",
        "\n",
        "        # Inicialización de vectores de características\n",
        "        self.vector_color = []\n",
        "        self.vector_textura = []\n",
        "        self.vector_forma = []\n",
        "        self.vector_hog = []\n",
        "        self.vector_histograma_color = []\n",
        "        self.vector_sobel = []\n",
        "        self.vector_fft = []\n",
        "        self.vector_hu = []\n",
        "        self.vector_wavelet = []\n",
        "\n",
        "    def extraccion_color_dcd(self, num_colores_dominantes=8, max_samples=10000):\n",
        "      imagen_norm = self.imagen_color.astype(np.float32) / 255.0\n",
        "      # Asegurar que los píxeles están en el rango [0, 1]\n",
        "      pixels = imagen_norm.reshape(-1, 3)\n",
        "\n",
        "      # Reducir la cantidad de píxeles usados en K-Means mediante muestreo\n",
        "      if len(pixels) > max_samples:\n",
        "          indices = np.random.choice(len(pixels), max_samples, replace=False)\n",
        "          pixels_sample = pixels[indices]\n",
        "      else:\n",
        "          pixels_sample = pixels\n",
        "\n",
        "      # Aplicar K-Means para encontrar colores dominantes\n",
        "      kmeans = MiniBatchKMeans(n_clusters=num_colores_dominantes, n_init=12, batch_size=1000)\n",
        "      labels = kmeans.fit_predict(pixels_sample)\n",
        "      colores_dominantes = kmeans.cluster_centers_\n",
        "\n",
        "      # Calcular las frecuencias de cada clúster\n",
        "      frecuencias = np.bincount(labels, minlength=num_colores_dominantes)\n",
        "      frecuencias_normalizadas = frecuencias / frecuencias.sum()\n",
        "\n",
        "      # Concatenar los colores dominantes y sus frecuencias\n",
        "      self.vector_color = np.concatenate([colores_dominantes.flatten(), frecuencias_normalizadas]).astype(np.float32)\n",
        "\n",
        "      print(f\"Vector Color DCD: {len(self.vector_color)}\")\n",
        "\n",
        "    def extraccion_textura_ldrp(self, radio=3, puntos=40, metodo='uniform'):\n",
        "        ldrp = local_binary_pattern(self.imagen_grayscale, puntos, radio, method=metodo)\n",
        "        hist, _ = np.histogram(ldrp.ravel(), bins=np.arange(0, puntos + 3), range=(0, puntos + 2))\n",
        "        self.vector_textura = (hist / hist.sum()).astype(np.float32)  # Normalización opcional global\n",
        "        print(f\"Vector Textura LDRP: {len(self.vector_textura)}\")\n",
        "\n",
        "    def extraccion_forma(self, max_contornos=16):\n",
        "        _, binary_image = cv2.threshold(self.imagen_grayscale, 128, 255, cv2.THRESH_BINARY)\n",
        "        contours, _ = cv2.findContours(binary_image, cv2.RETR_EXTERNAL, cv2.CHAIN_APPROX_SIMPLE)\n",
        "        forma_features = []\n",
        "\n",
        "        for contour in contours[:max_contornos]:\n",
        "            area = cv2.contourArea(contour)\n",
        "            perimeter = cv2.arcLength(contour, True)\n",
        "            x, y, w, h = cv2.boundingRect(contour)\n",
        "            aspect_ratio = float(w) / h if h != 0 else 0\n",
        "            circularity = (4 * np.pi * area) / (perimeter ** 2) if perimeter != 0 else 0\n",
        "            forma_features.extend([area, perimeter, aspect_ratio, circularity])\n",
        "\n",
        "        while len(forma_features) < max_contornos * 4:\n",
        "            forma_features.extend([0, 0, 0, 0])\n",
        "\n",
        "        self.vector_forma = np.array(forma_features, dtype=np.float32)\n",
        "        print(f\"Vector Forma: {len(self.vector_forma)}\")\n",
        "\n",
        "    def extraccion_caracteristicas_HOG(self, orientaciones=6, pixeles_por_celda=(28, 28), celdas_por_bloque=(1, 1)):\n",
        "        imagen_norm = self.imagen_grayscale.astype(np.float32) / 255.0\n",
        "        fd = hog(\n",
        "            imagen_norm,\n",
        "            orientations=orientaciones,\n",
        "            pixels_per_cell=pixeles_por_celda,\n",
        "            cells_per_block=celdas_por_bloque,\n",
        "            feature_vector=True\n",
        "        )\n",
        "        self.vector_hog = np.array(fd, dtype=np.float32)\n",
        "        print(f\"Vector HOG: {len(self.vector_hog)}\")\n",
        "\n",
        "    def extraccion_histograma_color(self, bins=64):\n",
        "        # Asegurar que la imagen está en formato uint8\n",
        "        imagen_color_uint8 = self.imagen_color\n",
        "        if imagen_color_uint8.dtype != np.uint8:\n",
        "            imagen_color_uint8 = (imagen_color_uint8 * 255).astype(np.uint8)\n",
        "\n",
        "        histograma = []\n",
        "        for i in range(3):  # Canales B, G, R\n",
        "            hist = cv2.calcHist([imagen_color_uint8], [i], None, [bins], [0, 256])\n",
        "            hist = hist.flatten()\n",
        "            histograma.extend(hist)\n",
        "        self.vector_histograma_color = np.array(histograma, dtype=np.float32)\n",
        "\n",
        "        print(f\"Vector Histograma Color: {len(self.vector_histograma_color)}\")\n",
        "\n",
        "    def extraccion_sobel(self, bins=64):\n",
        "        imagen_norm = self.imagen_grayscale.astype(np.float32) / 255.0\n",
        "        sobelx = cv2.Sobel(imagen_norm, cv2.CV_64F, 1, 0, ksize=3)\n",
        "        sobely = cv2.Sobel(imagen_norm, cv2.CV_64F, 0, 1, ksize=3)\n",
        "        magnitude = np.sqrt(sobelx**2 + sobely**2)\n",
        "        hist, _ = np.histogram(magnitude, bins=bins)\n",
        "        self.vector_sobel = hist.astype(np.float32)\n",
        "        print(f\"Vector Sobel Histogram: {len(self.vector_sobel)}\")\n",
        "\n",
        "    def extraccion_fft(self, bins=64):\n",
        "        imagen_norm = self.imagen_grayscale.astype(np.float32) / 255.0\n",
        "        f_transform = np.fft.fft2(imagen_norm)\n",
        "        f_shift = np.fft.fftshift(f_transform)\n",
        "        magnitude_spectrum = 20 * np.log(np.abs(f_shift) + 1e-7)\n",
        "        hist, _ = np.histogram(magnitude_spectrum, bins=bins)\n",
        "        self.vector_fft = hist.astype(np.float32)\n",
        "        print(f\"Vector FFT Histogram: {len(self.vector_fft)}\")\n",
        "\n",
        "    def extraccion_hu_moments(self):\n",
        "        moments = cv2.moments(self.imagen_grayscale)\n",
        "        hu_moments = cv2.HuMoments(moments).flatten()\n",
        "\n",
        "        # Normalizar los Momentos de Hu aplicando la transformación logarítmica\n",
        "        epsilon = 1e-7  # Pequeño valor para evitar log(0)\n",
        "        hu_moments_log = -np.sign(hu_moments) * np.log10(np.abs(hu_moments) + epsilon)\n",
        "\n",
        "        # Guardar el resultado normalizado\n",
        "        self.vector_hu = hu_moments_log.astype(np.float32)\n",
        "        print(f\"Vector Hu Moments (Normalizados): {len(self.vector_hu)}\")\n",
        "\n",
        "    def extraccion_wavelet(self, wavelet='db1', niveles=3):\n",
        "        coeffs = pywt.wavedec2(self.imagen_grayscale, wavelet=wavelet, level=niveles)\n",
        "        wavelet_features = []\n",
        "        for level in coeffs[1:]:\n",
        "            cH, cV, cD = level\n",
        "            wavelet_features.extend([\n",
        "                cH.mean(), cH.std(),\n",
        "                cV.mean(), cV.std(),\n",
        "                cD.mean(), cD.std()\n",
        "            ])\n",
        "        self.vector_wavelet = np.array(wavelet_features, dtype=np.float32)\n",
        "        print(f\"Vector Wavelet: {len(self.vector_wavelet)}\")\n",
        "\n",
        "\n",
        "    def concatenar_caracteristicas(self):\n",
        "        \"\"\"\n",
        "        Concatenar todas las características extraídas.\n",
        "        \"\"\"\n",
        "        concatenated_vector = np.concatenate((\n",
        "            self.vector_color,\n",
        "            self.vector_textura,\n",
        "            self.vector_forma,\n",
        "            self.vector_hog,\n",
        "            self.vector_histograma_color,\n",
        "            self.vector_sobel,\n",
        "            self.vector_fft,\n",
        "            self.vector_hu,\n",
        "            self.vector_wavelet,\n",
        "        ))\n",
        "        print('largo_vector_concatenado', len(concatenated_vector))\n",
        "\n",
        "        #print(f\"Tamaño del vector concatenado: {len(concatenated_vector)}\")\n",
        "        return concatenated_vector\n"
      ],
      "metadata": {
        "id": "vQgPlfpD-Kjz"
      },
      "execution_count": 85,
      "outputs": []
    },
    {
      "cell_type": "code",
      "source": [
        "# Cargar el modelo VGG16 con la capa conv5_3 como salida\n",
        "def load_VGG16_model():\n",
        "    base_model = VGG16(weights='imagenet')\n",
        "    # Modificar el modelo para que la salida sea la capa conv5_3\n",
        "    model = Model(inputs=base_model.input, outputs=base_model.get_layer('block5_conv3').output)\n",
        "    return model\n",
        "\n",
        "# Función para extraer características de la capa conv5_3\n",
        "def extract_features_VGG16(image_path, model):\n",
        "    # Cargar y preprocesar la imagen\n",
        "    img = image.load_img(image_path, target_size=(224, 224))\n",
        "    img_array = image.img_to_array(img)\n",
        "    img_array = np.expand_dims(img_array, axis=0)\n",
        "    img_array = preprocess_input(img_array)\n",
        "\n",
        "    # Obtener las características de la capa conv5_3\n",
        "    features = model.predict(img_array)\n",
        "\n",
        "    # Aplanar las características para convertirlas en un vector\n",
        "    features_flattened = features.flatten()\n",
        "\n",
        "    return features_flattened\n",
        "\n",
        "def normalizar_l2(vector):\n",
        "    norm = np.linalg.norm(vector)\n",
        "    if norm == 0:\n",
        "        return vector\n",
        "    return vector / norm"
      ],
      "metadata": {
        "id": "nrjURl-SNDuo"
      },
      "execution_count": 86,
      "outputs": []
    },
    {
      "cell_type": "markdown",
      "source": [
        "## Recuperacion de imagenes y clases\n",
        "\n",
        "\n"
      ],
      "metadata": {
        "id": "aGUxS9lFGaq1"
      }
    },
    {
      "cell_type": "code",
      "source": [
        "# ---------------------------------------------\n",
        "# Bloque 5: Recopilación de Rutas de Imágenes y Etiquetas y Creación de CSV\n",
        "# ---------------------------------------------\n",
        "\n",
        "# Ruta a la base de datos de imágenes\n",
        "database_path = '/content/database'  # Ajusta según sea necesario\n",
        "\n",
        "# Listas para rutas y etiquetas\n",
        "all_image_paths = []\n",
        "all_labels = []\n",
        "\n",
        "# Recorrer todas las carpetas y subcarpetas para recopilar rutas de imágenes y etiquetas\n",
        "for root, dirs, files in os.walk(database_path):\n",
        "    for file in files:\n",
        "        if file.lower().endswith(('.png', '.jpg', '.jpeg', '.bmp', '.tiff')):\n",
        "            img_path = os.path.join(root, file)\n",
        "            all_image_paths.append(img_path)\n",
        "            # Extraer la etiqueta (nombre de la carpeta que contiene la imagen)\n",
        "            label = os.path.basename(os.path.dirname(img_path))\n",
        "            all_labels.append(label)\n",
        "\n",
        "print(f\"Total de imágenes encontradas: {len(all_image_paths)}\")\n",
        "\n",
        "# Crear un DataFrame y guardarlo como CSV\n",
        "df = pd.DataFrame({\n",
        "    'image_path': all_image_paths,\n",
        "    'label': all_labels\n",
        "})\n",
        "\n",
        "csv_path = os.path.join(DB_PATH, 'images_labels.csv')\n",
        "df.to_csv(csv_path, index=False)\n",
        "print(f\"Archivo CSV creado en {csv_path}\")\n"
      ],
      "metadata": {
        "id": "z6peYrg7WZGg",
        "colab": {
          "base_uri": "https://localhost:8080/"
        },
        "outputId": "b876e2c8-9676-4809-f643-a992ccf6792f"
      },
      "execution_count": 87,
      "outputs": [
        {
          "output_type": "stream",
          "name": "stdout",
          "text": [
            "Total de imágenes encontradas: 180\n",
            "Archivo CSV creado en /content/indices/images_labels.csv\n"
          ]
        }
      ]
    },
    {
      "cell_type": "markdown",
      "source": [
        "## Extracción de Características y Generación de Índices FAISS"
      ],
      "metadata": {
        "id": "sb_jY1kdWhuY"
      }
    },
    {
      "cell_type": "code",
      "source": [
        "# ---------------------------------------------\n",
        "# Bloque 6: Extracción de Características y Generación de Índices FAISS\n",
        "# ---------------------------------------------\n",
        "# Inicializar listas para almacenar características\n",
        "caracteristicas_handcrafted = []\n",
        "caracteristicas_vgg16 = []\n",
        "\n",
        "# Cargar el modelo VGG16 una sola vez\n",
        "vgg_model = load_VGG16_model()\n",
        "\n",
        "# Extraer características y almacenar rutas y etiquetas en el DataFrame\n",
        "for idx, row in tqdm(df.iterrows(), total=df.shape[0]):\n",
        "    img_path = row['image_path']\n",
        "    label = row['label']\n",
        "    try:\n",
        "        # Extraer características Handcrafted\n",
        "        extraccion = Handcrafted(img_path)\n",
        "        extraccion.extraccion_color_dcd()\n",
        "        extraccion.extraccion_textura_ldrp()\n",
        "        extraccion.extraccion_forma()\n",
        "        extraccion.extraccion_caracteristicas_HOG()\n",
        "        extraccion.extraccion_histograma_color()\n",
        "        extraccion.extraccion_sobel()\n",
        "        extraccion.extraccion_fft()\n",
        "        extraccion.extraccion_hu_moments()\n",
        "        extraccion.extraccion_wavelet()\n",
        "        vector_handcrafted = extraccion.concatenar_caracteristicas()\n",
        "        caracteristicas_handcrafted.append(vector_handcrafted)\n",
        "\n",
        "        # Extraer características con VGG16 (CNN)\n",
        "        vector_vgg16 = extract_features_VGG16(img_path, vgg_model)\n",
        "        vector_vgg16_norm = normalizar_l2(vector_vgg16)\n",
        "        caracteristicas_vgg16.append(vector_vgg16_norm)\n",
        "\n",
        "    except Exception as e:\n",
        "        logging.error(f\"Error procesando {img_path}: {e}\")\n",
        "\n",
        "# Convertir las listas de características a matrices NumPy\n",
        "caracteristicas_handcrafted_np = np.array(caracteristicas_handcrafted, dtype='float32')\n",
        "caracteristicas_vgg16_np = np.array(caracteristicas_vgg16, dtype='float32')\n",
        "\n",
        "logging.info(f\"Se han extraído {len(caracteristicas_handcrafted_np)} vectores Handcrafted y {len(caracteristicas_vgg16_np)} vectores VGG16.\")\n",
        "\n"
      ],
      "metadata": {
        "id": "oqjLKAq-Wi6l",
        "colab": {
          "base_uri": "https://localhost:8080/"
        },
        "outputId": "452d451f-d9f3-48aa-ca07-fa3c10f1bed1"
      },
      "execution_count": 94,
      "outputs": [
        {
          "output_type": "stream",
          "name": "stderr",
          "text": [
            "\r  0%|          | 0/180 [00:00<?, ?it/s]"
          ]
        },
        {
          "output_type": "stream",
          "name": "stdout",
          "text": [
            "Vector Color DCD: 32\n",
            "Vector Textura LDRP: 42\n",
            "Vector Forma: 64\n",
            "Vector HOG: 150\n",
            "Vector Histograma Color: 192\n",
            "Vector Sobel Histogram: 64\n",
            "Vector FFT Histogram: 64\n",
            "Vector Hu Moments (Normalizados): 7\n",
            "Vector Wavelet: 18\n",
            "largo_vector_concatenado 633\n",
            "1/1 [==============================] - 1s 998ms/step\n"
          ]
        },
        {
          "output_type": "stream",
          "name": "stderr",
          "text": [
            "\r  1%|          | 1/180 [00:01<03:31,  1.18s/it]"
          ]
        },
        {
          "output_type": "stream",
          "name": "stdout",
          "text": [
            "Vector Color DCD: 32\n",
            "Vector Textura LDRP: 42\n",
            "Vector Forma: 64\n",
            "Vector HOG: 150\n",
            "Vector Histograma Color: 192\n",
            "Vector Sobel Histogram: 64\n",
            "Vector FFT Histogram: 64\n",
            "Vector Hu Moments (Normalizados): 7\n",
            "Vector Wavelet: 18\n",
            "largo_vector_concatenado 633\n",
            "1/1 [==============================] - 1s 885ms/step\n"
          ]
        },
        {
          "output_type": "stream",
          "name": "stderr",
          "text": [
            "\r  1%|          | 2/180 [00:02<03:18,  1.12s/it]"
          ]
        },
        {
          "output_type": "stream",
          "name": "stdout",
          "text": [
            "Vector Color DCD: 32\n",
            "Vector Textura LDRP: 42\n",
            "Vector Forma: 64\n",
            "Vector HOG: 150\n",
            "Vector Histograma Color: 192\n",
            "Vector Sobel Histogram: 64\n",
            "Vector FFT Histogram: 64\n",
            "Vector Hu Moments (Normalizados): 7\n",
            "Vector Wavelet: 18\n",
            "largo_vector_concatenado 633\n",
            "1/1 [==============================] - 1s 816ms/step\n"
          ]
        },
        {
          "output_type": "stream",
          "name": "stderr",
          "text": [
            "\r  2%|▏         | 3/180 [00:03<03:07,  1.06s/it]"
          ]
        },
        {
          "output_type": "stream",
          "name": "stdout",
          "text": [
            "Vector Color DCD: 32\n",
            "Vector Textura LDRP: 42\n",
            "Vector Forma: 64\n",
            "Vector HOG: 150\n",
            "Vector Histograma Color: 192\n",
            "Vector Sobel Histogram: 64\n",
            "Vector FFT Histogram: 64\n",
            "Vector Hu Moments (Normalizados): 7\n",
            "Vector Wavelet: 18\n",
            "largo_vector_concatenado 633\n",
            "1/1 [==============================] - 1s 851ms/step\n"
          ]
        },
        {
          "output_type": "stream",
          "name": "stderr",
          "text": [
            "\r  2%|▏         | 4/180 [00:04<03:05,  1.06s/it]"
          ]
        },
        {
          "output_type": "stream",
          "name": "stdout",
          "text": [
            "Vector Color DCD: 32\n",
            "Vector Textura LDRP: 42\n",
            "Vector Forma: 64\n",
            "Vector HOG: 150\n",
            "Vector Histograma Color: 192\n",
            "Vector Sobel Histogram: 64\n",
            "Vector FFT Histogram: 64\n",
            "Vector Hu Moments (Normalizados): 7\n",
            "Vector Wavelet: 18\n",
            "largo_vector_concatenado 633\n",
            "1/1 [==============================] - 1s 845ms/step\n"
          ]
        },
        {
          "output_type": "stream",
          "name": "stderr",
          "text": [
            "\r  3%|▎         | 5/180 [00:05<03:02,  1.05s/it]"
          ]
        },
        {
          "output_type": "stream",
          "name": "stdout",
          "text": [
            "Vector Color DCD: 32\n",
            "Vector Textura LDRP: 42\n",
            "Vector Forma: 64\n",
            "Vector HOG: 150\n",
            "Vector Histograma Color: 192\n",
            "Vector Sobel Histogram: 64\n",
            "Vector FFT Histogram: 64\n",
            "Vector Hu Moments (Normalizados): 7\n",
            "Vector Wavelet: 18\n",
            "largo_vector_concatenado 633\n",
            "1/1 [==============================] - 0s 495ms/step\n"
          ]
        },
        {
          "output_type": "stream",
          "name": "stderr",
          "text": [
            "\r  3%|▎         | 6/180 [00:05<02:37,  1.10it/s]"
          ]
        },
        {
          "output_type": "stream",
          "name": "stdout",
          "text": [
            "Vector Color DCD: 32\n",
            "Vector Textura LDRP: 42\n",
            "Vector Forma: 64\n",
            "Vector HOG: 150\n",
            "Vector Histograma Color: 192\n",
            "Vector Sobel Histogram: 64\n",
            "Vector FFT Histogram: 64\n",
            "Vector Hu Moments (Normalizados): 7\n",
            "Vector Wavelet: 18\n",
            "largo_vector_concatenado 633\n",
            "1/1 [==============================] - 0s 478ms/step\n"
          ]
        },
        {
          "output_type": "stream",
          "name": "stderr",
          "text": [
            "\r  4%|▍         | 7/180 [00:06<02:19,  1.24it/s]"
          ]
        },
        {
          "output_type": "stream",
          "name": "stdout",
          "text": [
            "Vector Color DCD: 32\n",
            "Vector Textura LDRP: 42\n",
            "Vector Forma: 64\n",
            "Vector HOG: 150\n",
            "Vector Histograma Color: 192\n",
            "Vector Sobel Histogram: 64\n",
            "Vector FFT Histogram: 64\n",
            "Vector Hu Moments (Normalizados): 7\n",
            "Vector Wavelet: 18\n",
            "largo_vector_concatenado 633\n",
            "1/1 [==============================] - 0s 487ms/step\n"
          ]
        },
        {
          "output_type": "stream",
          "name": "stderr",
          "text": [
            "\r  4%|▍         | 8/180 [00:07<02:08,  1.34it/s]"
          ]
        },
        {
          "output_type": "stream",
          "name": "stdout",
          "text": [
            "Vector Color DCD: 32\n",
            "Vector Textura LDRP: 42\n",
            "Vector Forma: 64\n",
            "Vector HOG: 150\n",
            "Vector Histograma Color: 192\n",
            "Vector Sobel Histogram: 64\n",
            "Vector FFT Histogram: 64\n",
            "Vector Hu Moments (Normalizados): 7\n",
            "Vector Wavelet: 18\n",
            "largo_vector_concatenado 633\n",
            "1/1 [==============================] - 0s 493ms/step\n"
          ]
        },
        {
          "output_type": "stream",
          "name": "stderr",
          "text": [
            "\r  5%|▌         | 9/180 [00:07<02:00,  1.42it/s]"
          ]
        },
        {
          "output_type": "stream",
          "name": "stdout",
          "text": [
            "Vector Color DCD: 32\n",
            "Vector Textura LDRP: 42\n",
            "Vector Forma: 64\n",
            "Vector HOG: 150\n",
            "Vector Histograma Color: 192\n",
            "Vector Sobel Histogram: 64\n",
            "Vector FFT Histogram: 64\n",
            "Vector Hu Moments (Normalizados): 7\n",
            "Vector Wavelet: 18\n",
            "largo_vector_concatenado 633\n",
            "1/1 [==============================] - 0s 474ms/step\n"
          ]
        },
        {
          "output_type": "stream",
          "name": "stderr",
          "text": [
            "\r  6%|▌         | 10/180 [00:08<01:53,  1.49it/s]"
          ]
        },
        {
          "output_type": "stream",
          "name": "stdout",
          "text": [
            "Vector Color DCD: 32\n",
            "Vector Textura LDRP: 42\n",
            "Vector Forma: 64\n",
            "Vector HOG: 150\n",
            "Vector Histograma Color: 192\n",
            "Vector Sobel Histogram: 64\n",
            "Vector FFT Histogram: 64\n",
            "Vector Hu Moments (Normalizados): 7\n",
            "Vector Wavelet: 18\n",
            "largo_vector_concatenado 633\n",
            "1/1 [==============================] - 0s 490ms/step\n"
          ]
        },
        {
          "output_type": "stream",
          "name": "stderr",
          "text": [
            "\r  6%|▌         | 11/180 [00:09<01:50,  1.53it/s]"
          ]
        },
        {
          "output_type": "stream",
          "name": "stdout",
          "text": [
            "Vector Color DCD: 32\n",
            "Vector Textura LDRP: 42\n",
            "Vector Forma: 64\n",
            "Vector HOG: 150\n",
            "Vector Histograma Color: 192\n",
            "Vector Sobel Histogram: 64\n",
            "Vector FFT Histogram: 64\n",
            "Vector Hu Moments (Normalizados): 7\n",
            "Vector Wavelet: 18\n",
            "largo_vector_concatenado 633\n",
            "1/1 [==============================] - 0s 475ms/step\n"
          ]
        },
        {
          "output_type": "stream",
          "name": "stderr",
          "text": [
            "\r  7%|▋         | 12/180 [00:09<01:47,  1.57it/s]"
          ]
        },
        {
          "output_type": "stream",
          "name": "stdout",
          "text": [
            "Vector Color DCD: 32\n",
            "Vector Textura LDRP: 42\n",
            "Vector Forma: 64\n",
            "Vector HOG: 150\n",
            "Vector Histograma Color: 192\n",
            "Vector Sobel Histogram: 64\n",
            "Vector FFT Histogram: 64\n",
            "Vector Hu Moments (Normalizados): 7\n",
            "Vector Wavelet: 18\n",
            "largo_vector_concatenado 633\n",
            "1/1 [==============================] - 0s 475ms/step\n"
          ]
        },
        {
          "output_type": "stream",
          "name": "stderr",
          "text": [
            "\r  7%|▋         | 13/180 [00:10<01:45,  1.58it/s]"
          ]
        },
        {
          "output_type": "stream",
          "name": "stdout",
          "text": [
            "Vector Color DCD: 32\n",
            "Vector Textura LDRP: 42\n",
            "Vector Forma: 64\n",
            "Vector HOG: 150\n",
            "Vector Histograma Color: 192\n",
            "Vector Sobel Histogram: 64\n",
            "Vector FFT Histogram: 64\n",
            "Vector Hu Moments (Normalizados): 7\n",
            "Vector Wavelet: 18\n",
            "largo_vector_concatenado 633\n",
            "1/1 [==============================] - 0s 490ms/step\n"
          ]
        },
        {
          "output_type": "stream",
          "name": "stderr",
          "text": [
            "\r  8%|▊         | 14/180 [00:10<01:43,  1.60it/s]"
          ]
        },
        {
          "output_type": "stream",
          "name": "stdout",
          "text": [
            "Vector Color DCD: 32\n",
            "Vector Textura LDRP: 42\n",
            "Vector Forma: 64\n",
            "Vector HOG: 150\n",
            "Vector Histograma Color: 192\n",
            "Vector Sobel Histogram: 64\n",
            "Vector FFT Histogram: 64\n",
            "Vector Hu Moments (Normalizados): 7\n",
            "Vector Wavelet: 18\n",
            "largo_vector_concatenado 633\n",
            "1/1 [==============================] - 0s 475ms/step\n"
          ]
        },
        {
          "output_type": "stream",
          "name": "stderr",
          "text": [
            "\r  8%|▊         | 15/180 [00:11<01:42,  1.61it/s]"
          ]
        },
        {
          "output_type": "stream",
          "name": "stdout",
          "text": [
            "Vector Color DCD: 32\n",
            "Vector Textura LDRP: 42\n",
            "Vector Forma: 64\n",
            "Vector HOG: 150\n",
            "Vector Histograma Color: 192\n",
            "Vector Sobel Histogram: 64\n",
            "Vector FFT Histogram: 64\n",
            "Vector Hu Moments (Normalizados): 7\n",
            "Vector Wavelet: 18\n",
            "largo_vector_concatenado 633\n",
            "1/1 [==============================] - 0s 496ms/step\n"
          ]
        },
        {
          "output_type": "stream",
          "name": "stderr",
          "text": [
            "\r  9%|▉         | 16/180 [00:12<01:41,  1.62it/s]"
          ]
        },
        {
          "output_type": "stream",
          "name": "stdout",
          "text": [
            "Vector Color DCD: 32\n",
            "Vector Textura LDRP: 42\n",
            "Vector Forma: 64\n",
            "Vector HOG: 150\n",
            "Vector Histograma Color: 192\n",
            "Vector Sobel Histogram: 64\n",
            "Vector FFT Histogram: 64\n",
            "Vector Hu Moments (Normalizados): 7\n",
            "Vector Wavelet: 18\n",
            "largo_vector_concatenado 633\n",
            "1/1 [==============================] - 0s 469ms/step\n"
          ]
        },
        {
          "output_type": "stream",
          "name": "stderr",
          "text": [
            "\r  9%|▉         | 17/180 [00:12<01:39,  1.64it/s]"
          ]
        },
        {
          "output_type": "stream",
          "name": "stdout",
          "text": [
            "Vector Color DCD: 32\n",
            "Vector Textura LDRP: 42\n",
            "Vector Forma: 64\n",
            "Vector HOG: 150\n",
            "Vector Histograma Color: 192\n",
            "Vector Sobel Histogram: 64\n",
            "Vector FFT Histogram: 64\n",
            "Vector Hu Moments (Normalizados): 7\n",
            "Vector Wavelet: 18\n",
            "largo_vector_concatenado 633\n",
            "1/1 [==============================] - 0s 490ms/step\n"
          ]
        },
        {
          "output_type": "stream",
          "name": "stderr",
          "text": [
            "\r 10%|█         | 18/180 [00:13<01:39,  1.63it/s]"
          ]
        },
        {
          "output_type": "stream",
          "name": "stdout",
          "text": [
            "Vector Color DCD: 32\n",
            "Vector Textura LDRP: 42\n",
            "Vector Forma: 64\n",
            "Vector HOG: 150\n",
            "Vector Histograma Color: 192\n",
            "Vector Sobel Histogram: 64\n",
            "Vector FFT Histogram: 64\n",
            "Vector Hu Moments (Normalizados): 7\n",
            "Vector Wavelet: 18\n",
            "largo_vector_concatenado 633\n",
            "1/1 [==============================] - 0s 481ms/step\n"
          ]
        },
        {
          "output_type": "stream",
          "name": "stderr",
          "text": [
            "\r 11%|█         | 19/180 [00:13<01:38,  1.64it/s]"
          ]
        },
        {
          "output_type": "stream",
          "name": "stdout",
          "text": [
            "Vector Color DCD: 32\n",
            "Vector Textura LDRP: 42\n",
            "Vector Forma: 64\n",
            "Vector HOG: 150\n",
            "Vector Histograma Color: 192\n",
            "Vector Sobel Histogram: 64\n",
            "Vector FFT Histogram: 64\n",
            "Vector Hu Moments (Normalizados): 7\n",
            "Vector Wavelet: 18\n",
            "largo_vector_concatenado 633\n",
            "1/1 [==============================] - 0s 475ms/step\n"
          ]
        },
        {
          "output_type": "stream",
          "name": "stderr",
          "text": [
            "\r 11%|█         | 20/180 [00:14<01:37,  1.64it/s]"
          ]
        },
        {
          "output_type": "stream",
          "name": "stdout",
          "text": [
            "Vector Color DCD: 32\n",
            "Vector Textura LDRP: 42\n",
            "Vector Forma: 64\n",
            "Vector HOG: 150\n",
            "Vector Histograma Color: 192\n",
            "Vector Sobel Histogram: 64\n",
            "Vector FFT Histogram: 64\n",
            "Vector Hu Moments (Normalizados): 7\n",
            "Vector Wavelet: 18\n",
            "largo_vector_concatenado 633\n",
            "1/1 [==============================] - 0s 493ms/step\n"
          ]
        },
        {
          "output_type": "stream",
          "name": "stderr",
          "text": [
            "\r 12%|█▏        | 21/180 [00:15<01:37,  1.63it/s]"
          ]
        },
        {
          "output_type": "stream",
          "name": "stdout",
          "text": [
            "Vector Color DCD: 32\n",
            "Vector Textura LDRP: 42\n",
            "Vector Forma: 64\n",
            "Vector HOG: 150\n",
            "Vector Histograma Color: 192\n",
            "Vector Sobel Histogram: 64\n",
            "Vector FFT Histogram: 64\n",
            "Vector Hu Moments (Normalizados): 7\n",
            "Vector Wavelet: 18\n",
            "largo_vector_concatenado 633\n",
            "1/1 [==============================] - 1s 655ms/step\n"
          ]
        },
        {
          "output_type": "stream",
          "name": "stderr",
          "text": [
            "\r 12%|█▏        | 22/180 [00:15<01:44,  1.51it/s]"
          ]
        },
        {
          "output_type": "stream",
          "name": "stdout",
          "text": [
            "Vector Color DCD: 32\n",
            "Vector Textura LDRP: 42\n",
            "Vector Forma: 64\n",
            "Vector HOG: 150\n",
            "Vector Histograma Color: 192\n",
            "Vector Sobel Histogram: 64\n",
            "Vector FFT Histogram: 64\n",
            "Vector Hu Moments (Normalizados): 7\n",
            "Vector Wavelet: 18\n",
            "largo_vector_concatenado 633\n",
            "1/1 [==============================] - 1s 860ms/step\n"
          ]
        },
        {
          "output_type": "stream",
          "name": "stderr",
          "text": [
            "\r 13%|█▎        | 23/180 [00:16<02:01,  1.29it/s]"
          ]
        },
        {
          "output_type": "stream",
          "name": "stdout",
          "text": [
            "Vector Color DCD: 32\n",
            "Vector Textura LDRP: 42\n",
            "Vector Forma: 64\n",
            "Vector HOG: 150\n",
            "Vector Histograma Color: 192\n",
            "Vector Sobel Histogram: 64\n",
            "Vector FFT Histogram: 64\n",
            "Vector Hu Moments (Normalizados): 7\n",
            "Vector Wavelet: 18\n",
            "largo_vector_concatenado 633\n",
            "1/1 [==============================] - 1s 861ms/step\n"
          ]
        },
        {
          "output_type": "stream",
          "name": "stderr",
          "text": [
            "\r 13%|█▎        | 24/180 [00:17<02:14,  1.16it/s]"
          ]
        },
        {
          "output_type": "stream",
          "name": "stdout",
          "text": [
            "Vector Color DCD: 32\n",
            "Vector Textura LDRP: 42\n",
            "Vector Forma: 64\n",
            "Vector HOG: 150\n",
            "Vector Histograma Color: 192\n",
            "Vector Sobel Histogram: 64\n",
            "Vector FFT Histogram: 64\n",
            "Vector Hu Moments (Normalizados): 7\n",
            "Vector Wavelet: 18\n",
            "largo_vector_concatenado 633\n",
            "1/1 [==============================] - 1s 864ms/step\n"
          ]
        },
        {
          "output_type": "stream",
          "name": "stderr",
          "text": [
            "\r 14%|█▍        | 25/180 [00:19<02:22,  1.09it/s]"
          ]
        },
        {
          "output_type": "stream",
          "name": "stdout",
          "text": [
            "Vector Color DCD: 32\n",
            "Vector Textura LDRP: 42\n",
            "Vector Forma: 64\n",
            "Vector HOG: 150\n",
            "Vector Histograma Color: 192\n",
            "Vector Sobel Histogram: 64\n",
            "Vector FFT Histogram: 64\n",
            "Vector Hu Moments (Normalizados): 7\n",
            "Vector Wavelet: 18\n",
            "largo_vector_concatenado 633\n",
            "1/1 [==============================] - 1s 950ms/step\n"
          ]
        },
        {
          "output_type": "stream",
          "name": "stderr",
          "text": [
            "\r 14%|█▍        | 26/180 [00:20<02:32,  1.01it/s]"
          ]
        },
        {
          "output_type": "stream",
          "name": "stdout",
          "text": [
            "Vector Color DCD: 32\n",
            "Vector Textura LDRP: 42\n",
            "Vector Forma: 64\n",
            "Vector HOG: 150\n",
            "Vector Histograma Color: 192\n",
            "Vector Sobel Histogram: 64\n",
            "Vector FFT Histogram: 64\n",
            "Vector Hu Moments (Normalizados): 7\n",
            "Vector Wavelet: 18\n",
            "largo_vector_concatenado 633\n",
            "1/1 [==============================] - 1s 807ms/step\n"
          ]
        },
        {
          "output_type": "stream",
          "name": "stderr",
          "text": [
            "\r 15%|█▌        | 27/180 [00:21<02:31,  1.01it/s]"
          ]
        },
        {
          "output_type": "stream",
          "name": "stdout",
          "text": [
            "Vector Color DCD: 32\n",
            "Vector Textura LDRP: 42\n",
            "Vector Forma: 64\n",
            "Vector HOG: 150\n",
            "Vector Histograma Color: 192\n",
            "Vector Sobel Histogram: 64\n",
            "Vector FFT Histogram: 64\n",
            "Vector Hu Moments (Normalizados): 7\n",
            "Vector Wavelet: 18\n",
            "largo_vector_concatenado 633\n",
            "1/1 [==============================] - 0s 482ms/step\n"
          ]
        },
        {
          "output_type": "stream",
          "name": "stderr",
          "text": [
            "\r 16%|█▌        | 28/180 [00:21<02:13,  1.14it/s]"
          ]
        },
        {
          "output_type": "stream",
          "name": "stdout",
          "text": [
            "Vector Color DCD: 32\n",
            "Vector Textura LDRP: 42\n",
            "Vector Forma: 64\n",
            "Vector HOG: 150\n",
            "Vector Histograma Color: 192\n",
            "Vector Sobel Histogram: 64\n",
            "Vector FFT Histogram: 64\n",
            "Vector Hu Moments (Normalizados): 7\n",
            "Vector Wavelet: 18\n",
            "largo_vector_concatenado 633\n",
            "1/1 [==============================] - 0s 486ms/step\n"
          ]
        },
        {
          "output_type": "stream",
          "name": "stderr",
          "text": [
            "\r 16%|█▌        | 29/180 [00:22<02:00,  1.25it/s]"
          ]
        },
        {
          "output_type": "stream",
          "name": "stdout",
          "text": [
            "Vector Color DCD: 32\n",
            "Vector Textura LDRP: 42\n",
            "Vector Forma: 64\n",
            "Vector HOG: 150\n",
            "Vector Histograma Color: 192\n",
            "Vector Sobel Histogram: 64\n",
            "Vector FFT Histogram: 64\n",
            "Vector Hu Moments (Normalizados): 7\n",
            "Vector Wavelet: 18\n",
            "largo_vector_concatenado 633\n",
            "1/1 [==============================] - 0s 477ms/step\n"
          ]
        },
        {
          "output_type": "stream",
          "name": "stderr",
          "text": [
            "\r 17%|█▋        | 30/180 [00:22<01:50,  1.36it/s]"
          ]
        },
        {
          "output_type": "stream",
          "name": "stdout",
          "text": [
            "Vector Color DCD: 32\n",
            "Vector Textura LDRP: 42\n",
            "Vector Forma: 64\n",
            "Vector HOG: 150\n",
            "Vector Histograma Color: 192\n",
            "Vector Sobel Histogram: 64\n",
            "Vector FFT Histogram: 64\n",
            "Vector Hu Moments (Normalizados): 7\n",
            "Vector Wavelet: 18\n",
            "largo_vector_concatenado 633\n",
            "1/1 [==============================] - 0s 490ms/step\n"
          ]
        },
        {
          "output_type": "stream",
          "name": "stderr",
          "text": [
            "\r 17%|█▋        | 31/180 [00:23<01:45,  1.42it/s]"
          ]
        },
        {
          "output_type": "stream",
          "name": "stdout",
          "text": [
            "Vector Color DCD: 32\n",
            "Vector Textura LDRP: 42\n",
            "Vector Forma: 64\n",
            "Vector HOG: 150\n",
            "Vector Histograma Color: 192\n",
            "Vector Sobel Histogram: 64\n",
            "Vector FFT Histogram: 64\n",
            "Vector Hu Moments (Normalizados): 7\n",
            "Vector Wavelet: 18\n",
            "largo_vector_concatenado 633\n",
            "1/1 [==============================] - 0s 473ms/step\n"
          ]
        },
        {
          "output_type": "stream",
          "name": "stderr",
          "text": [
            "\r 18%|█▊        | 32/180 [00:24<01:39,  1.48it/s]"
          ]
        },
        {
          "output_type": "stream",
          "name": "stdout",
          "text": [
            "Vector Color DCD: 32\n",
            "Vector Textura LDRP: 42\n",
            "Vector Forma: 64\n",
            "Vector HOG: 150\n",
            "Vector Histograma Color: 192\n",
            "Vector Sobel Histogram: 64\n",
            "Vector FFT Histogram: 64\n",
            "Vector Hu Moments (Normalizados): 7\n",
            "Vector Wavelet: 18\n",
            "largo_vector_concatenado 633\n",
            "1/1 [==============================] - 0s 477ms/step\n"
          ]
        },
        {
          "output_type": "stream",
          "name": "stderr",
          "text": [
            "\r 18%|█▊        | 33/180 [00:24<01:36,  1.52it/s]"
          ]
        },
        {
          "output_type": "stream",
          "name": "stdout",
          "text": [
            "Vector Color DCD: 32\n",
            "Vector Textura LDRP: 42\n",
            "Vector Forma: 64\n",
            "Vector HOG: 150\n",
            "Vector Histograma Color: 192\n",
            "Vector Sobel Histogram: 64\n",
            "Vector FFT Histogram: 64\n",
            "Vector Hu Moments (Normalizados): 7\n",
            "Vector Wavelet: 18\n",
            "largo_vector_concatenado 633\n",
            "1/1 [==============================] - 0s 487ms/step\n"
          ]
        },
        {
          "output_type": "stream",
          "name": "stderr",
          "text": [
            "\r 19%|█▉        | 34/180 [00:25<01:33,  1.55it/s]"
          ]
        },
        {
          "output_type": "stream",
          "name": "stdout",
          "text": [
            "Vector Color DCD: 32\n",
            "Vector Textura LDRP: 42\n",
            "Vector Forma: 64\n",
            "Vector HOG: 150\n",
            "Vector Histograma Color: 192\n",
            "Vector Sobel Histogram: 64\n",
            "Vector FFT Histogram: 64\n",
            "Vector Hu Moments (Normalizados): 7\n",
            "Vector Wavelet: 18\n",
            "largo_vector_concatenado 633\n",
            "1/1 [==============================] - 0s 483ms/step\n"
          ]
        },
        {
          "output_type": "stream",
          "name": "stderr",
          "text": [
            "\r 19%|█▉        | 35/180 [00:26<01:31,  1.59it/s]"
          ]
        },
        {
          "output_type": "stream",
          "name": "stdout",
          "text": [
            "Vector Color DCD: 32\n",
            "Vector Textura LDRP: 42\n",
            "Vector Forma: 64\n",
            "Vector HOG: 150\n",
            "Vector Histograma Color: 192\n",
            "Vector Sobel Histogram: 64\n",
            "Vector FFT Histogram: 64\n",
            "Vector Hu Moments (Normalizados): 7\n",
            "Vector Wavelet: 18\n",
            "largo_vector_concatenado 633\n",
            "1/1 [==============================] - 0s 484ms/step\n"
          ]
        },
        {
          "output_type": "stream",
          "name": "stderr",
          "text": [
            "\r 20%|██        | 36/180 [00:26<01:29,  1.60it/s]"
          ]
        },
        {
          "output_type": "stream",
          "name": "stdout",
          "text": [
            "Vector Color DCD: 32\n",
            "Vector Textura LDRP: 42\n",
            "Vector Forma: 64\n",
            "Vector HOG: 150\n",
            "Vector Histograma Color: 192\n",
            "Vector Sobel Histogram: 64\n",
            "Vector FFT Histogram: 64\n",
            "Vector Hu Moments (Normalizados): 7\n",
            "Vector Wavelet: 18\n",
            "largo_vector_concatenado 633\n",
            "1/1 [==============================] - 0s 476ms/step\n"
          ]
        },
        {
          "output_type": "stream",
          "name": "stderr",
          "text": [
            "\r 21%|██        | 37/180 [00:27<01:28,  1.62it/s]"
          ]
        },
        {
          "output_type": "stream",
          "name": "stdout",
          "text": [
            "Vector Color DCD: 32\n",
            "Vector Textura LDRP: 42\n",
            "Vector Forma: 64\n",
            "Vector HOG: 150\n",
            "Vector Histograma Color: 192\n",
            "Vector Sobel Histogram: 64\n",
            "Vector FFT Histogram: 64\n",
            "Vector Hu Moments (Normalizados): 7\n",
            "Vector Wavelet: 18\n",
            "largo_vector_concatenado 633\n",
            "1/1 [==============================] - 0s 496ms/step\n"
          ]
        },
        {
          "output_type": "stream",
          "name": "stderr",
          "text": [
            "\r 21%|██        | 38/180 [00:27<01:27,  1.62it/s]"
          ]
        },
        {
          "output_type": "stream",
          "name": "stdout",
          "text": [
            "Vector Color DCD: 32\n",
            "Vector Textura LDRP: 42\n",
            "Vector Forma: 64\n",
            "Vector HOG: 150\n",
            "Vector Histograma Color: 192\n",
            "Vector Sobel Histogram: 64\n",
            "Vector FFT Histogram: 64\n",
            "Vector Hu Moments (Normalizados): 7\n",
            "Vector Wavelet: 18\n",
            "largo_vector_concatenado 633\n",
            "1/1 [==============================] - 0s 495ms/step\n"
          ]
        },
        {
          "output_type": "stream",
          "name": "stderr",
          "text": [
            "\r 22%|██▏       | 39/180 [00:28<01:27,  1.62it/s]"
          ]
        },
        {
          "output_type": "stream",
          "name": "stdout",
          "text": [
            "Vector Color DCD: 32\n",
            "Vector Textura LDRP: 42\n",
            "Vector Forma: 64\n",
            "Vector HOG: 150\n",
            "Vector Histograma Color: 192\n",
            "Vector Sobel Histogram: 64\n",
            "Vector FFT Histogram: 64\n",
            "Vector Hu Moments (Normalizados): 7\n",
            "Vector Wavelet: 18\n",
            "largo_vector_concatenado 633\n",
            "1/1 [==============================] - 0s 481ms/step\n"
          ]
        },
        {
          "output_type": "stream",
          "name": "stderr",
          "text": [
            "\r 22%|██▏       | 40/180 [00:29<01:26,  1.62it/s]"
          ]
        },
        {
          "output_type": "stream",
          "name": "stdout",
          "text": [
            "Vector Color DCD: 32\n",
            "Vector Textura LDRP: 42\n",
            "Vector Forma: 64\n",
            "Vector HOG: 150\n",
            "Vector Histograma Color: 192\n",
            "Vector Sobel Histogram: 64\n",
            "Vector FFT Histogram: 64\n",
            "Vector Hu Moments (Normalizados): 7\n",
            "Vector Wavelet: 18\n",
            "largo_vector_concatenado 633\n",
            "1/1 [==============================] - 1s 506ms/step\n"
          ]
        },
        {
          "output_type": "stream",
          "name": "stderr",
          "text": [
            "\r 23%|██▎       | 41/180 [00:29<01:26,  1.62it/s]"
          ]
        },
        {
          "output_type": "stream",
          "name": "stdout",
          "text": [
            "Vector Color DCD: 32\n",
            "Vector Textura LDRP: 42\n",
            "Vector Forma: 64\n",
            "Vector HOG: 150\n",
            "Vector Histograma Color: 192\n",
            "Vector Sobel Histogram: 64\n",
            "Vector FFT Histogram: 64\n",
            "Vector Hu Moments (Normalizados): 7\n",
            "Vector Wavelet: 18\n",
            "largo_vector_concatenado 633\n",
            "1/1 [==============================] - 0s 473ms/step\n"
          ]
        },
        {
          "output_type": "stream",
          "name": "stderr",
          "text": [
            "\r 23%|██▎       | 42/180 [00:30<01:24,  1.64it/s]"
          ]
        },
        {
          "output_type": "stream",
          "name": "stdout",
          "text": [
            "Vector Color DCD: 32\n",
            "Vector Textura LDRP: 42\n",
            "Vector Forma: 64\n",
            "Vector HOG: 150\n",
            "Vector Histograma Color: 192\n",
            "Vector Sobel Histogram: 64\n",
            "Vector FFT Histogram: 64\n",
            "Vector Hu Moments (Normalizados): 7\n",
            "Vector Wavelet: 18\n",
            "largo_vector_concatenado 633\n",
            "1/1 [==============================] - 0s 492ms/step\n"
          ]
        },
        {
          "output_type": "stream",
          "name": "stderr",
          "text": [
            "\r 24%|██▍       | 43/180 [00:30<01:23,  1.64it/s]"
          ]
        },
        {
          "output_type": "stream",
          "name": "stdout",
          "text": [
            "Vector Color DCD: 32\n",
            "Vector Textura LDRP: 42\n",
            "Vector Forma: 64\n",
            "Vector HOG: 150\n",
            "Vector Histograma Color: 192\n",
            "Vector Sobel Histogram: 64\n",
            "Vector FFT Histogram: 64\n",
            "Vector Hu Moments (Normalizados): 7\n",
            "Vector Wavelet: 18\n",
            "largo_vector_concatenado 633\n",
            "1/1 [==============================] - 1s 811ms/step\n"
          ]
        },
        {
          "output_type": "stream",
          "name": "stderr",
          "text": [
            "\r 24%|██▍       | 44/180 [00:31<01:36,  1.41it/s]"
          ]
        },
        {
          "output_type": "stream",
          "name": "stdout",
          "text": [
            "Vector Color DCD: 32\n",
            "Vector Textura LDRP: 42\n",
            "Vector Forma: 64\n",
            "Vector HOG: 150\n",
            "Vector Histograma Color: 192\n",
            "Vector Sobel Histogram: 64\n",
            "Vector FFT Histogram: 64\n",
            "Vector Hu Moments (Normalizados): 7\n",
            "Vector Wavelet: 18\n",
            "largo_vector_concatenado 633\n",
            "1/1 [==============================] - 1s 835ms/step\n"
          ]
        },
        {
          "output_type": "stream",
          "name": "stderr",
          "text": [
            "\r 25%|██▌       | 45/180 [00:32<01:47,  1.25it/s]"
          ]
        },
        {
          "output_type": "stream",
          "name": "stdout",
          "text": [
            "Vector Color DCD: 32\n",
            "Vector Textura LDRP: 42\n",
            "Vector Forma: 64\n",
            "Vector HOG: 150\n",
            "Vector Histograma Color: 192\n",
            "Vector Sobel Histogram: 64\n",
            "Vector FFT Histogram: 64\n",
            "Vector Hu Moments (Normalizados): 7\n",
            "Vector Wavelet: 18\n",
            "largo_vector_concatenado 633\n",
            "1/1 [==============================] - 1s 873ms/step\n"
          ]
        },
        {
          "output_type": "stream",
          "name": "stderr",
          "text": [
            "\r 26%|██▌       | 46/180 [00:33<01:57,  1.14it/s]"
          ]
        },
        {
          "output_type": "stream",
          "name": "stdout",
          "text": [
            "Vector Color DCD: 32\n",
            "Vector Textura LDRP: 42\n",
            "Vector Forma: 64\n",
            "Vector HOG: 150\n",
            "Vector Histograma Color: 192\n",
            "Vector Sobel Histogram: 64\n",
            "Vector FFT Histogram: 64\n",
            "Vector Hu Moments (Normalizados): 7\n",
            "Vector Wavelet: 18\n",
            "largo_vector_concatenado 633\n",
            "1/1 [==============================] - 1s 829ms/step\n"
          ]
        },
        {
          "output_type": "stream",
          "name": "stderr",
          "text": [
            "\r 26%|██▌       | 47/180 [00:34<02:00,  1.10it/s]"
          ]
        },
        {
          "output_type": "stream",
          "name": "stdout",
          "text": [
            "Vector Color DCD: 32\n",
            "Vector Textura LDRP: 42\n",
            "Vector Forma: 64\n",
            "Vector HOG: 150\n",
            "Vector Histograma Color: 192\n",
            "Vector Sobel Histogram: 64\n",
            "Vector FFT Histogram: 64\n",
            "Vector Hu Moments (Normalizados): 7\n",
            "Vector Wavelet: 18\n",
            "largo_vector_concatenado 633\n",
            "1/1 [==============================] - 2s 2s/step\n"
          ]
        },
        {
          "output_type": "stream",
          "name": "stderr",
          "text": [
            "\r 27%|██▋       | 48/180 [00:36<02:44,  1.25s/it]"
          ]
        },
        {
          "output_type": "stream",
          "name": "stdout",
          "text": [
            "Vector Color DCD: 32\n",
            "Vector Textura LDRP: 42\n",
            "Vector Forma: 64\n",
            "Vector HOG: 150\n",
            "Vector Histograma Color: 192\n",
            "Vector Sobel Histogram: 64\n",
            "Vector FFT Histogram: 64\n",
            "Vector Hu Moments (Normalizados): 7\n",
            "Vector Wavelet: 18\n",
            "largo_vector_concatenado 633\n",
            "1/1 [==============================] - 0s 480ms/step\n"
          ]
        },
        {
          "output_type": "stream",
          "name": "stderr",
          "text": [
            "\r 27%|██▋       | 49/180 [00:37<02:18,  1.06s/it]"
          ]
        },
        {
          "output_type": "stream",
          "name": "stdout",
          "text": [
            "Vector Color DCD: 32\n",
            "Vector Textura LDRP: 42\n",
            "Vector Forma: 64\n",
            "Vector HOG: 150\n",
            "Vector Histograma Color: 192\n",
            "Vector Sobel Histogram: 64\n",
            "Vector FFT Histogram: 64\n",
            "Vector Hu Moments (Normalizados): 7\n",
            "Vector Wavelet: 18\n",
            "largo_vector_concatenado 633\n",
            "1/1 [==============================] - 0s 494ms/step\n"
          ]
        },
        {
          "output_type": "stream",
          "name": "stderr",
          "text": [
            "\r 28%|██▊       | 50/180 [00:38<02:00,  1.08it/s]"
          ]
        },
        {
          "output_type": "stream",
          "name": "stdout",
          "text": [
            "Vector Color DCD: 32\n",
            "Vector Textura LDRP: 42\n",
            "Vector Forma: 64\n",
            "Vector HOG: 150\n",
            "Vector Histograma Color: 192\n",
            "Vector Sobel Histogram: 64\n",
            "Vector FFT Histogram: 64\n",
            "Vector Hu Moments (Normalizados): 7\n",
            "Vector Wavelet: 18\n",
            "largo_vector_concatenado 633\n",
            "1/1 [==============================] - 0s 480ms/step\n"
          ]
        },
        {
          "output_type": "stream",
          "name": "stderr",
          "text": [
            "\r 28%|██▊       | 51/180 [00:38<01:47,  1.21it/s]"
          ]
        },
        {
          "output_type": "stream",
          "name": "stdout",
          "text": [
            "Vector Color DCD: 32\n",
            "Vector Textura LDRP: 42\n",
            "Vector Forma: 64\n",
            "Vector HOG: 150\n",
            "Vector Histograma Color: 192\n",
            "Vector Sobel Histogram: 64\n",
            "Vector FFT Histogram: 64\n",
            "Vector Hu Moments (Normalizados): 7\n",
            "Vector Wavelet: 18\n",
            "largo_vector_concatenado 633\n",
            "1/1 [==============================] - 0s 494ms/step\n"
          ]
        },
        {
          "output_type": "stream",
          "name": "stderr",
          "text": [
            "\r 29%|██▉       | 52/180 [00:39<01:37,  1.31it/s]"
          ]
        },
        {
          "output_type": "stream",
          "name": "stdout",
          "text": [
            "Vector Color DCD: 32\n",
            "Vector Textura LDRP: 42\n",
            "Vector Forma: 64\n",
            "Vector HOG: 150\n",
            "Vector Histograma Color: 192\n",
            "Vector Sobel Histogram: 64\n",
            "Vector FFT Histogram: 64\n",
            "Vector Hu Moments (Normalizados): 7\n",
            "Vector Wavelet: 18\n",
            "largo_vector_concatenado 633\n",
            "1/1 [==============================] - 0s 479ms/step\n"
          ]
        },
        {
          "output_type": "stream",
          "name": "stderr",
          "text": [
            "\r 29%|██▉       | 53/180 [00:40<01:30,  1.40it/s]"
          ]
        },
        {
          "output_type": "stream",
          "name": "stdout",
          "text": [
            "Vector Color DCD: 32\n",
            "Vector Textura LDRP: 42\n",
            "Vector Forma: 64\n",
            "Vector HOG: 150\n",
            "Vector Histograma Color: 192\n",
            "Vector Sobel Histogram: 64\n",
            "Vector FFT Histogram: 64\n",
            "Vector Hu Moments (Normalizados): 7\n",
            "Vector Wavelet: 18\n",
            "largo_vector_concatenado 633\n",
            "1/1 [==============================] - 0s 475ms/step\n"
          ]
        },
        {
          "output_type": "stream",
          "name": "stderr",
          "text": [
            "\r 30%|███       | 54/180 [00:40<01:26,  1.46it/s]"
          ]
        },
        {
          "output_type": "stream",
          "name": "stdout",
          "text": [
            "Vector Color DCD: 32\n",
            "Vector Textura LDRP: 42\n",
            "Vector Forma: 64\n",
            "Vector HOG: 150\n",
            "Vector Histograma Color: 192\n",
            "Vector Sobel Histogram: 64\n",
            "Vector FFT Histogram: 64\n",
            "Vector Hu Moments (Normalizados): 7\n",
            "Vector Wavelet: 18\n",
            "largo_vector_concatenado 633\n",
            "1/1 [==============================] - 0s 492ms/step\n"
          ]
        },
        {
          "output_type": "stream",
          "name": "stderr",
          "text": [
            "\r 31%|███       | 55/180 [00:41<01:22,  1.51it/s]"
          ]
        },
        {
          "output_type": "stream",
          "name": "stdout",
          "text": [
            "Vector Color DCD: 32\n",
            "Vector Textura LDRP: 42\n",
            "Vector Forma: 64\n",
            "Vector HOG: 150\n",
            "Vector Histograma Color: 192\n",
            "Vector Sobel Histogram: 64\n",
            "Vector FFT Histogram: 64\n",
            "Vector Hu Moments (Normalizados): 7\n",
            "Vector Wavelet: 18\n",
            "largo_vector_concatenado 633\n",
            "1/1 [==============================] - 0s 484ms/step\n"
          ]
        },
        {
          "output_type": "stream",
          "name": "stderr",
          "text": [
            "\r 31%|███       | 56/180 [00:41<01:20,  1.55it/s]"
          ]
        },
        {
          "output_type": "stream",
          "name": "stdout",
          "text": [
            "Vector Color DCD: 32\n",
            "Vector Textura LDRP: 42\n",
            "Vector Forma: 64\n",
            "Vector HOG: 150\n",
            "Vector Histograma Color: 192\n",
            "Vector Sobel Histogram: 64\n",
            "Vector FFT Histogram: 64\n",
            "Vector Hu Moments (Normalizados): 7\n",
            "Vector Wavelet: 18\n",
            "largo_vector_concatenado 633\n",
            "1/1 [==============================] - 0s 489ms/step\n"
          ]
        },
        {
          "output_type": "stream",
          "name": "stderr",
          "text": [
            "\r 32%|███▏      | 57/180 [00:42<01:18,  1.57it/s]"
          ]
        },
        {
          "output_type": "stream",
          "name": "stdout",
          "text": [
            "Vector Color DCD: 32\n",
            "Vector Textura LDRP: 42\n",
            "Vector Forma: 64\n",
            "Vector HOG: 150\n",
            "Vector Histograma Color: 192\n",
            "Vector Sobel Histogram: 64\n",
            "Vector FFT Histogram: 64\n",
            "Vector Hu Moments (Normalizados): 7\n",
            "Vector Wavelet: 18\n",
            "largo_vector_concatenado 633\n",
            "1/1 [==============================] - 0s 484ms/step\n"
          ]
        },
        {
          "output_type": "stream",
          "name": "stderr",
          "text": [
            "\r 32%|███▏      | 58/180 [00:43<01:16,  1.60it/s]"
          ]
        },
        {
          "output_type": "stream",
          "name": "stdout",
          "text": [
            "Vector Color DCD: 32\n",
            "Vector Textura LDRP: 42\n",
            "Vector Forma: 64\n",
            "Vector HOG: 150\n",
            "Vector Histograma Color: 192\n",
            "Vector Sobel Histogram: 64\n",
            "Vector FFT Histogram: 64\n",
            "Vector Hu Moments (Normalizados): 7\n",
            "Vector Wavelet: 18\n",
            "largo_vector_concatenado 633\n",
            "1/1 [==============================] - 0s 482ms/step\n"
          ]
        },
        {
          "output_type": "stream",
          "name": "stderr",
          "text": [
            "\r 33%|███▎      | 59/180 [00:43<01:15,  1.60it/s]"
          ]
        },
        {
          "output_type": "stream",
          "name": "stdout",
          "text": [
            "Vector Color DCD: 32\n",
            "Vector Textura LDRP: 42\n",
            "Vector Forma: 64\n",
            "Vector HOG: 150\n",
            "Vector Histograma Color: 192\n",
            "Vector Sobel Histogram: 64\n",
            "Vector FFT Histogram: 64\n",
            "Vector Hu Moments (Normalizados): 7\n",
            "Vector Wavelet: 18\n",
            "largo_vector_concatenado 633\n",
            "1/1 [==============================] - 0s 493ms/step\n"
          ]
        },
        {
          "output_type": "stream",
          "name": "stderr",
          "text": [
            "\r 33%|███▎      | 60/180 [00:44<01:15,  1.60it/s]"
          ]
        },
        {
          "output_type": "stream",
          "name": "stdout",
          "text": [
            "Vector Color DCD: 32\n",
            "Vector Textura LDRP: 42\n",
            "Vector Forma: 64\n",
            "Vector HOG: 150\n",
            "Vector Histograma Color: 192\n",
            "Vector Sobel Histogram: 64\n",
            "Vector FFT Histogram: 64\n",
            "Vector Hu Moments (Normalizados): 7\n",
            "Vector Wavelet: 18\n",
            "largo_vector_concatenado 633\n",
            "1/1 [==============================] - 0s 478ms/step\n"
          ]
        },
        {
          "output_type": "stream",
          "name": "stderr",
          "text": [
            "\r 34%|███▍      | 61/180 [00:44<01:13,  1.61it/s]"
          ]
        },
        {
          "output_type": "stream",
          "name": "stdout",
          "text": [
            "Vector Color DCD: 32\n",
            "Vector Textura LDRP: 42\n",
            "Vector Forma: 64\n",
            "Vector HOG: 150\n",
            "Vector Histograma Color: 192\n",
            "Vector Sobel Histogram: 64\n",
            "Vector FFT Histogram: 64\n",
            "Vector Hu Moments (Normalizados): 7\n",
            "Vector Wavelet: 18\n",
            "largo_vector_concatenado 633\n",
            "1/1 [==============================] - 0s 493ms/step\n"
          ]
        },
        {
          "output_type": "stream",
          "name": "stderr",
          "text": [
            "\r 34%|███▍      | 62/180 [00:45<01:13,  1.61it/s]"
          ]
        },
        {
          "output_type": "stream",
          "name": "stdout",
          "text": [
            "Vector Color DCD: 32\n",
            "Vector Textura LDRP: 42\n",
            "Vector Forma: 64\n",
            "Vector HOG: 150\n",
            "Vector Histograma Color: 192\n",
            "Vector Sobel Histogram: 64\n",
            "Vector FFT Histogram: 64\n",
            "Vector Hu Moments (Normalizados): 7\n",
            "Vector Wavelet: 18\n",
            "largo_vector_concatenado 633\n",
            "1/1 [==============================] - 0s 479ms/step\n"
          ]
        },
        {
          "output_type": "stream",
          "name": "stderr",
          "text": [
            "\r 35%|███▌      | 63/180 [00:46<01:11,  1.63it/s]"
          ]
        },
        {
          "output_type": "stream",
          "name": "stdout",
          "text": [
            "Vector Color DCD: 32\n",
            "Vector Textura LDRP: 42\n",
            "Vector Forma: 64\n",
            "Vector HOG: 150\n",
            "Vector Histograma Color: 192\n",
            "Vector Sobel Histogram: 64\n",
            "Vector FFT Histogram: 64\n",
            "Vector Hu Moments (Normalizados): 7\n",
            "Vector Wavelet: 18\n",
            "largo_vector_concatenado 633\n",
            "1/1 [==============================] - 0s 488ms/step\n"
          ]
        },
        {
          "output_type": "stream",
          "name": "stderr",
          "text": [
            "\r 36%|███▌      | 64/180 [00:46<01:11,  1.63it/s]"
          ]
        },
        {
          "output_type": "stream",
          "name": "stdout",
          "text": [
            "Vector Color DCD: 32\n",
            "Vector Textura LDRP: 42\n",
            "Vector Forma: 64\n",
            "Vector HOG: 150\n",
            "Vector Histograma Color: 192\n",
            "Vector Sobel Histogram: 64\n",
            "Vector FFT Histogram: 64\n",
            "Vector Hu Moments (Normalizados): 7\n",
            "Vector Wavelet: 18\n",
            "largo_vector_concatenado 633\n",
            "1/1 [==============================] - 1s 680ms/step\n"
          ]
        },
        {
          "output_type": "stream",
          "name": "stderr",
          "text": [
            "\r 36%|███▌      | 65/180 [00:47<01:16,  1.49it/s]"
          ]
        },
        {
          "output_type": "stream",
          "name": "stdout",
          "text": [
            "Vector Color DCD: 32\n",
            "Vector Textura LDRP: 42\n",
            "Vector Forma: 64\n",
            "Vector HOG: 150\n",
            "Vector Histograma Color: 192\n",
            "Vector Sobel Histogram: 64\n",
            "Vector FFT Histogram: 64\n",
            "Vector Hu Moments (Normalizados): 7\n",
            "Vector Wavelet: 18\n",
            "largo_vector_concatenado 633\n",
            "1/1 [==============================] - 1s 876ms/step\n"
          ]
        },
        {
          "output_type": "stream",
          "name": "stderr",
          "text": [
            "\r 37%|███▋      | 66/180 [00:48<01:29,  1.27it/s]"
          ]
        },
        {
          "output_type": "stream",
          "name": "stdout",
          "text": [
            "Vector Color DCD: 32\n",
            "Vector Textura LDRP: 42\n",
            "Vector Forma: 64\n",
            "Vector HOG: 150\n",
            "Vector Histograma Color: 192\n",
            "Vector Sobel Histogram: 64\n",
            "Vector FFT Histogram: 64\n",
            "Vector Hu Moments (Normalizados): 7\n",
            "Vector Wavelet: 18\n",
            "largo_vector_concatenado 633\n",
            "1/1 [==============================] - 1s 855ms/step\n"
          ]
        },
        {
          "output_type": "stream",
          "name": "stderr",
          "text": [
            "\r 37%|███▋      | 67/180 [00:49<01:37,  1.16it/s]"
          ]
        },
        {
          "output_type": "stream",
          "name": "stdout",
          "text": [
            "Vector Color DCD: 32\n",
            "Vector Textura LDRP: 42\n",
            "Vector Forma: 64\n",
            "Vector HOG: 150\n",
            "Vector Histograma Color: 192\n",
            "Vector Sobel Histogram: 64\n",
            "Vector FFT Histogram: 64\n",
            "Vector Hu Moments (Normalizados): 7\n",
            "Vector Wavelet: 18\n",
            "largo_vector_concatenado 633\n",
            "1/1 [==============================] - 1s 850ms/step\n"
          ]
        },
        {
          "output_type": "stream",
          "name": "stderr",
          "text": [
            "\r 38%|███▊      | 68/180 [00:50<01:41,  1.10it/s]"
          ]
        },
        {
          "output_type": "stream",
          "name": "stdout",
          "text": [
            "Vector Color DCD: 32\n",
            "Vector Textura LDRP: 42\n",
            "Vector Forma: 64\n",
            "Vector HOG: 150\n",
            "Vector Histograma Color: 192\n",
            "Vector Sobel Histogram: 64\n",
            "Vector FFT Histogram: 64\n",
            "Vector Hu Moments (Normalizados): 7\n",
            "Vector Wavelet: 18\n",
            "largo_vector_concatenado 633\n",
            "1/1 [==============================] - 1s 928ms/step\n"
          ]
        },
        {
          "output_type": "stream",
          "name": "stderr",
          "text": [
            "\r 38%|███▊      | 69/180 [00:51<01:47,  1.03it/s]"
          ]
        },
        {
          "output_type": "stream",
          "name": "stdout",
          "text": [
            "Vector Color DCD: 32\n",
            "Vector Textura LDRP: 42\n",
            "Vector Forma: 64\n",
            "Vector HOG: 150\n",
            "Vector Histograma Color: 192\n",
            "Vector Sobel Histogram: 64\n",
            "Vector FFT Histogram: 64\n",
            "Vector Hu Moments (Normalizados): 7\n",
            "Vector Wavelet: 18\n",
            "largo_vector_concatenado 633\n",
            "1/1 [==============================] - 1s 607ms/step\n"
          ]
        },
        {
          "output_type": "stream",
          "name": "stderr",
          "text": [
            "\r 39%|███▉      | 70/180 [00:52<01:43,  1.07it/s]"
          ]
        },
        {
          "output_type": "stream",
          "name": "stdout",
          "text": [
            "Vector Color DCD: 32\n",
            "Vector Textura LDRP: 42\n",
            "Vector Forma: 64\n",
            "Vector HOG: 150\n",
            "Vector Histograma Color: 192\n",
            "Vector Sobel Histogram: 64\n",
            "Vector FFT Histogram: 64\n",
            "Vector Hu Moments (Normalizados): 7\n",
            "Vector Wavelet: 18\n",
            "largo_vector_concatenado 633\n",
            "1/1 [==============================] - 0s 488ms/step\n"
          ]
        },
        {
          "output_type": "stream",
          "name": "stderr",
          "text": [
            "\r 39%|███▉      | 71/180 [00:53<01:32,  1.18it/s]"
          ]
        },
        {
          "output_type": "stream",
          "name": "stdout",
          "text": [
            "Vector Color DCD: 32\n",
            "Vector Textura LDRP: 42\n",
            "Vector Forma: 64\n",
            "Vector HOG: 150\n",
            "Vector Histograma Color: 192\n",
            "Vector Sobel Histogram: 64\n",
            "Vector FFT Histogram: 64\n",
            "Vector Hu Moments (Normalizados): 7\n",
            "Vector Wavelet: 18\n",
            "largo_vector_concatenado 633\n",
            "1/1 [==============================] - 0s 500ms/step\n"
          ]
        },
        {
          "output_type": "stream",
          "name": "stderr",
          "text": [
            "\r 40%|████      | 72/180 [00:53<01:24,  1.28it/s]"
          ]
        },
        {
          "output_type": "stream",
          "name": "stdout",
          "text": [
            "Vector Color DCD: 32\n",
            "Vector Textura LDRP: 42\n",
            "Vector Forma: 64\n",
            "Vector HOG: 150\n",
            "Vector Histograma Color: 192\n",
            "Vector Sobel Histogram: 64\n",
            "Vector FFT Histogram: 64\n",
            "Vector Hu Moments (Normalizados): 7\n",
            "Vector Wavelet: 18\n",
            "largo_vector_concatenado 633\n",
            "1/1 [==============================] - 0s 477ms/step\n"
          ]
        },
        {
          "output_type": "stream",
          "name": "stderr",
          "text": [
            "\r 41%|████      | 73/180 [00:54<01:17,  1.38it/s]"
          ]
        },
        {
          "output_type": "stream",
          "name": "stdout",
          "text": [
            "Vector Color DCD: 32\n",
            "Vector Textura LDRP: 42\n",
            "Vector Forma: 64\n",
            "Vector HOG: 150\n",
            "Vector Histograma Color: 192\n",
            "Vector Sobel Histogram: 64\n",
            "Vector FFT Histogram: 64\n",
            "Vector Hu Moments (Normalizados): 7\n",
            "Vector Wavelet: 18\n",
            "largo_vector_concatenado 633\n",
            "1/1 [==============================] - 0s 498ms/step\n"
          ]
        },
        {
          "output_type": "stream",
          "name": "stderr",
          "text": [
            "\r 41%|████      | 74/180 [00:55<01:13,  1.44it/s]"
          ]
        },
        {
          "output_type": "stream",
          "name": "stdout",
          "text": [
            "Vector Color DCD: 32\n",
            "Vector Textura LDRP: 42\n",
            "Vector Forma: 64\n",
            "Vector HOG: 150\n",
            "Vector Histograma Color: 192\n",
            "Vector Sobel Histogram: 64\n",
            "Vector FFT Histogram: 64\n",
            "Vector Hu Moments (Normalizados): 7\n",
            "Vector Wavelet: 18\n",
            "largo_vector_concatenado 633\n",
            "1/1 [==============================] - 0s 476ms/step\n"
          ]
        },
        {
          "output_type": "stream",
          "name": "stderr",
          "text": [
            "\r 42%|████▏     | 75/180 [00:55<01:09,  1.50it/s]"
          ]
        },
        {
          "output_type": "stream",
          "name": "stdout",
          "text": [
            "Vector Color DCD: 32\n",
            "Vector Textura LDRP: 42\n",
            "Vector Forma: 64\n",
            "Vector HOG: 150\n",
            "Vector Histograma Color: 192\n",
            "Vector Sobel Histogram: 64\n",
            "Vector FFT Histogram: 64\n",
            "Vector Hu Moments (Normalizados): 7\n",
            "Vector Wavelet: 18\n",
            "largo_vector_concatenado 633\n",
            "1/1 [==============================] - 0s 478ms/step\n"
          ]
        },
        {
          "output_type": "stream",
          "name": "stderr",
          "text": [
            "\r 42%|████▏     | 76/180 [00:56<01:07,  1.54it/s]"
          ]
        },
        {
          "output_type": "stream",
          "name": "stdout",
          "text": [
            "Vector Color DCD: 32\n",
            "Vector Textura LDRP: 42\n",
            "Vector Forma: 64\n",
            "Vector HOG: 150\n",
            "Vector Histograma Color: 192\n",
            "Vector Sobel Histogram: 64\n",
            "Vector FFT Histogram: 64\n",
            "Vector Hu Moments (Normalizados): 7\n",
            "Vector Wavelet: 18\n",
            "largo_vector_concatenado 633\n",
            "1/1 [==============================] - 0s 492ms/step\n"
          ]
        },
        {
          "output_type": "stream",
          "name": "stderr",
          "text": [
            "\r 43%|████▎     | 77/180 [00:56<01:05,  1.56it/s]"
          ]
        },
        {
          "output_type": "stream",
          "name": "stdout",
          "text": [
            "Vector Color DCD: 32\n",
            "Vector Textura LDRP: 42\n",
            "Vector Forma: 64\n",
            "Vector HOG: 150\n",
            "Vector Histograma Color: 192\n",
            "Vector Sobel Histogram: 64\n",
            "Vector FFT Histogram: 64\n",
            "Vector Hu Moments (Normalizados): 7\n",
            "Vector Wavelet: 18\n",
            "largo_vector_concatenado 633\n",
            "1/1 [==============================] - 0s 475ms/step\n"
          ]
        },
        {
          "output_type": "stream",
          "name": "stderr",
          "text": [
            "\r 43%|████▎     | 78/180 [00:57<01:04,  1.59it/s]"
          ]
        },
        {
          "output_type": "stream",
          "name": "stdout",
          "text": [
            "Vector Color DCD: 32\n",
            "Vector Textura LDRP: 42\n",
            "Vector Forma: 64\n",
            "Vector HOG: 150\n",
            "Vector Histograma Color: 192\n",
            "Vector Sobel Histogram: 64\n",
            "Vector FFT Histogram: 64\n",
            "Vector Hu Moments (Normalizados): 7\n",
            "Vector Wavelet: 18\n",
            "largo_vector_concatenado 633\n",
            "1/1 [==============================] - 0s 499ms/step\n"
          ]
        },
        {
          "output_type": "stream",
          "name": "stderr",
          "text": [
            "\r 44%|████▍     | 79/180 [00:58<01:03,  1.59it/s]"
          ]
        },
        {
          "output_type": "stream",
          "name": "stdout",
          "text": [
            "Vector Color DCD: 32\n",
            "Vector Textura LDRP: 42\n",
            "Vector Forma: 64\n",
            "Vector HOG: 150\n",
            "Vector Histograma Color: 192\n",
            "Vector Sobel Histogram: 64\n",
            "Vector FFT Histogram: 64\n",
            "Vector Hu Moments (Normalizados): 7\n",
            "Vector Wavelet: 18\n",
            "largo_vector_concatenado 633\n",
            "1/1 [==============================] - 0s 483ms/step\n"
          ]
        },
        {
          "output_type": "stream",
          "name": "stderr",
          "text": [
            "\r 44%|████▍     | 80/180 [00:58<01:02,  1.61it/s]"
          ]
        },
        {
          "output_type": "stream",
          "name": "stdout",
          "text": [
            "Vector Color DCD: 32\n",
            "Vector Textura LDRP: 42\n",
            "Vector Forma: 64\n",
            "Vector HOG: 150\n",
            "Vector Histograma Color: 192\n",
            "Vector Sobel Histogram: 64\n",
            "Vector FFT Histogram: 64\n",
            "Vector Hu Moments (Normalizados): 7\n",
            "Vector Wavelet: 18\n",
            "largo_vector_concatenado 633\n",
            "1/1 [==============================] - 0s 485ms/step\n"
          ]
        },
        {
          "output_type": "stream",
          "name": "stderr",
          "text": [
            "\r 45%|████▌     | 81/180 [00:59<01:01,  1.61it/s]"
          ]
        },
        {
          "output_type": "stream",
          "name": "stdout",
          "text": [
            "Vector Color DCD: 32\n",
            "Vector Textura LDRP: 42\n",
            "Vector Forma: 64\n",
            "Vector HOG: 150\n",
            "Vector Histograma Color: 192\n",
            "Vector Sobel Histogram: 64\n",
            "Vector FFT Histogram: 64\n",
            "Vector Hu Moments (Normalizados): 7\n",
            "Vector Wavelet: 18\n",
            "largo_vector_concatenado 633\n",
            "1/1 [==============================] - 1s 501ms/step\n"
          ]
        },
        {
          "output_type": "stream",
          "name": "stderr",
          "text": [
            "\r 46%|████▌     | 82/180 [01:00<01:00,  1.61it/s]"
          ]
        },
        {
          "output_type": "stream",
          "name": "stdout",
          "text": [
            "Vector Color DCD: 32\n",
            "Vector Textura LDRP: 42\n",
            "Vector Forma: 64\n",
            "Vector HOG: 150\n",
            "Vector Histograma Color: 192\n",
            "Vector Sobel Histogram: 64\n",
            "Vector FFT Histogram: 64\n",
            "Vector Hu Moments (Normalizados): 7\n",
            "Vector Wavelet: 18\n",
            "largo_vector_concatenado 633\n",
            "1/1 [==============================] - 0s 481ms/step\n"
          ]
        },
        {
          "output_type": "stream",
          "name": "stderr",
          "text": [
            "\r 46%|████▌     | 83/180 [01:00<00:59,  1.62it/s]"
          ]
        },
        {
          "output_type": "stream",
          "name": "stdout",
          "text": [
            "Vector Color DCD: 32\n",
            "Vector Textura LDRP: 42\n",
            "Vector Forma: 64\n",
            "Vector HOG: 150\n",
            "Vector Histograma Color: 192\n",
            "Vector Sobel Histogram: 64\n",
            "Vector FFT Histogram: 64\n",
            "Vector Hu Moments (Normalizados): 7\n",
            "Vector Wavelet: 18\n",
            "largo_vector_concatenado 633\n",
            "1/1 [==============================] - 0s 491ms/step\n"
          ]
        },
        {
          "output_type": "stream",
          "name": "stderr",
          "text": [
            "\r 47%|████▋     | 84/180 [01:01<00:59,  1.62it/s]"
          ]
        },
        {
          "output_type": "stream",
          "name": "stdout",
          "text": [
            "Vector Color DCD: 32\n",
            "Vector Textura LDRP: 42\n",
            "Vector Forma: 64\n",
            "Vector HOG: 150\n",
            "Vector Histograma Color: 192\n",
            "Vector Sobel Histogram: 64\n",
            "Vector FFT Histogram: 64\n",
            "Vector Hu Moments (Normalizados): 7\n",
            "Vector Wavelet: 18\n",
            "largo_vector_concatenado 633\n",
            "1/1 [==============================] - 1s 515ms/step\n"
          ]
        },
        {
          "output_type": "stream",
          "name": "stderr",
          "text": [
            "\r 47%|████▋     | 85/180 [01:01<00:59,  1.61it/s]"
          ]
        },
        {
          "output_type": "stream",
          "name": "stdout",
          "text": [
            "Vector Color DCD: 32\n",
            "Vector Textura LDRP: 42\n",
            "Vector Forma: 64\n",
            "Vector HOG: 150\n",
            "Vector Histograma Color: 192\n",
            "Vector Sobel Histogram: 64\n",
            "Vector FFT Histogram: 64\n",
            "Vector Hu Moments (Normalizados): 7\n",
            "Vector Wavelet: 18\n",
            "largo_vector_concatenado 633\n",
            "1/1 [==============================] - 1s 557ms/step\n"
          ]
        },
        {
          "output_type": "stream",
          "name": "stderr",
          "text": [
            "\r 48%|████▊     | 86/180 [01:02<01:00,  1.56it/s]"
          ]
        },
        {
          "output_type": "stream",
          "name": "stdout",
          "text": [
            "Vector Color DCD: 32\n",
            "Vector Textura LDRP: 42\n",
            "Vector Forma: 64\n",
            "Vector HOG: 150\n",
            "Vector Histograma Color: 192\n",
            "Vector Sobel Histogram: 64\n",
            "Vector FFT Histogram: 64\n",
            "Vector Hu Moments (Normalizados): 7\n",
            "Vector Wavelet: 18\n",
            "largo_vector_concatenado 633\n",
            "1/1 [==============================] - 1s 820ms/step\n"
          ]
        },
        {
          "output_type": "stream",
          "name": "stderr",
          "text": [
            "\r 48%|████▊     | 87/180 [01:03<01:09,  1.33it/s]"
          ]
        },
        {
          "output_type": "stream",
          "name": "stdout",
          "text": [
            "Vector Color DCD: 32\n",
            "Vector Textura LDRP: 42\n",
            "Vector Forma: 64\n",
            "Vector HOG: 150\n",
            "Vector Histograma Color: 192\n",
            "Vector Sobel Histogram: 64\n",
            "Vector FFT Histogram: 64\n",
            "Vector Hu Moments (Normalizados): 7\n",
            "Vector Wavelet: 18\n",
            "largo_vector_concatenado 633\n",
            "1/1 [==============================] - 1s 840ms/step\n"
          ]
        },
        {
          "output_type": "stream",
          "name": "stderr",
          "text": [
            "\r 49%|████▉     | 88/180 [01:04<01:16,  1.20it/s]"
          ]
        },
        {
          "output_type": "stream",
          "name": "stdout",
          "text": [
            "Vector Color DCD: 32\n",
            "Vector Textura LDRP: 42\n",
            "Vector Forma: 64\n",
            "Vector HOG: 150\n",
            "Vector Histograma Color: 192\n",
            "Vector Sobel Histogram: 64\n",
            "Vector FFT Histogram: 64\n",
            "Vector Hu Moments (Normalizados): 7\n",
            "Vector Wavelet: 18\n",
            "largo_vector_concatenado 633\n",
            "1/1 [==============================] - 1s 888ms/step\n"
          ]
        },
        {
          "output_type": "stream",
          "name": "stderr",
          "text": [
            "\r 49%|████▉     | 89/180 [01:05<01:21,  1.11it/s]"
          ]
        },
        {
          "output_type": "stream",
          "name": "stdout",
          "text": [
            "Vector Color DCD: 32\n",
            "Vector Textura LDRP: 42\n",
            "Vector Forma: 64\n",
            "Vector HOG: 150\n",
            "Vector Histograma Color: 192\n",
            "Vector Sobel Histogram: 64\n",
            "Vector FFT Histogram: 64\n",
            "Vector Hu Moments (Normalizados): 7\n",
            "Vector Wavelet: 18\n",
            "largo_vector_concatenado 633\n",
            "1/1 [==============================] - 1s 845ms/step\n"
          ]
        },
        {
          "output_type": "stream",
          "name": "stderr",
          "text": [
            "\r 50%|█████     | 90/180 [01:06<01:24,  1.06it/s]"
          ]
        },
        {
          "output_type": "stream",
          "name": "stdout",
          "text": [
            "Vector Color DCD: 32\n",
            "Vector Textura LDRP: 42\n",
            "Vector Forma: 64\n",
            "Vector HOG: 150\n",
            "Vector Histograma Color: 192\n",
            "Vector Sobel Histogram: 64\n",
            "Vector FFT Histogram: 64\n",
            "Vector Hu Moments (Normalizados): 7\n",
            "Vector Wavelet: 18\n",
            "largo_vector_concatenado 633\n",
            "1/1 [==============================] - 1s 659ms/step\n"
          ]
        },
        {
          "output_type": "stream",
          "name": "stderr",
          "text": [
            "\r 51%|█████     | 91/180 [01:07<01:22,  1.08it/s]"
          ]
        },
        {
          "output_type": "stream",
          "name": "stdout",
          "text": [
            "Vector Color DCD: 32\n",
            "Vector Textura LDRP: 42\n",
            "Vector Forma: 64\n",
            "Vector HOG: 150\n",
            "Vector Histograma Color: 192\n",
            "Vector Sobel Histogram: 64\n",
            "Vector FFT Histogram: 64\n",
            "Vector Hu Moments (Normalizados): 7\n",
            "Vector Wavelet: 18\n",
            "largo_vector_concatenado 633\n",
            "1/1 [==============================] - 1s 838ms/step\n"
          ]
        },
        {
          "output_type": "stream",
          "name": "stderr",
          "text": [
            "\r 51%|█████     | 92/180 [01:08<01:22,  1.07it/s]"
          ]
        },
        {
          "output_type": "stream",
          "name": "stdout",
          "text": [
            "Vector Color DCD: 32\n",
            "Vector Textura LDRP: 42\n",
            "Vector Forma: 64\n",
            "Vector HOG: 150\n",
            "Vector Histograma Color: 192\n",
            "Vector Sobel Histogram: 64\n",
            "Vector FFT Histogram: 64\n",
            "Vector Hu Moments (Normalizados): 7\n",
            "Vector Wavelet: 18\n",
            "largo_vector_concatenado 633\n",
            "1/1 [==============================] - 0s 475ms/step\n"
          ]
        },
        {
          "output_type": "stream",
          "name": "stderr",
          "text": [
            "\r 52%|█████▏    | 93/180 [01:09<01:12,  1.20it/s]"
          ]
        },
        {
          "output_type": "stream",
          "name": "stdout",
          "text": [
            "Vector Color DCD: 32\n",
            "Vector Textura LDRP: 42\n",
            "Vector Forma: 64\n",
            "Vector HOG: 150\n",
            "Vector Histograma Color: 192\n",
            "Vector Sobel Histogram: 64\n",
            "Vector FFT Histogram: 64\n",
            "Vector Hu Moments (Normalizados): 7\n",
            "Vector Wavelet: 18\n",
            "largo_vector_concatenado 633\n",
            "1/1 [==============================] - 0s 497ms/step\n"
          ]
        },
        {
          "output_type": "stream",
          "name": "stderr",
          "text": [
            "\r 52%|█████▏    | 94/180 [01:09<01:06,  1.30it/s]"
          ]
        },
        {
          "output_type": "stream",
          "name": "stdout",
          "text": [
            "Vector Color DCD: 32\n",
            "Vector Textura LDRP: 42\n",
            "Vector Forma: 64\n",
            "Vector HOG: 150\n",
            "Vector Histograma Color: 192\n",
            "Vector Sobel Histogram: 64\n",
            "Vector FFT Histogram: 64\n",
            "Vector Hu Moments (Normalizados): 7\n",
            "Vector Wavelet: 18\n",
            "largo_vector_concatenado 633\n",
            "1/1 [==============================] - 0s 472ms/step\n"
          ]
        },
        {
          "output_type": "stream",
          "name": "stderr",
          "text": [
            "\r 53%|█████▎    | 95/180 [01:10<01:00,  1.39it/s]"
          ]
        },
        {
          "output_type": "stream",
          "name": "stdout",
          "text": [
            "Vector Color DCD: 32\n",
            "Vector Textura LDRP: 42\n",
            "Vector Forma: 64\n",
            "Vector HOG: 150\n",
            "Vector Histograma Color: 192\n",
            "Vector Sobel Histogram: 64\n",
            "Vector FFT Histogram: 64\n",
            "Vector Hu Moments (Normalizados): 7\n",
            "Vector Wavelet: 18\n",
            "largo_vector_concatenado 633\n",
            "1/1 [==============================] - 0s 494ms/step\n"
          ]
        },
        {
          "output_type": "stream",
          "name": "stderr",
          "text": [
            "\r 53%|█████▎    | 96/180 [01:10<00:57,  1.46it/s]"
          ]
        },
        {
          "output_type": "stream",
          "name": "stdout",
          "text": [
            "Vector Color DCD: 32\n",
            "Vector Textura LDRP: 42\n",
            "Vector Forma: 64\n",
            "Vector HOG: 150\n",
            "Vector Histograma Color: 192\n",
            "Vector Sobel Histogram: 64\n",
            "Vector FFT Histogram: 64\n",
            "Vector Hu Moments (Normalizados): 7\n",
            "Vector Wavelet: 18\n",
            "largo_vector_concatenado 633\n",
            "1/1 [==============================] - 0s 478ms/step\n"
          ]
        },
        {
          "output_type": "stream",
          "name": "stderr",
          "text": [
            "\r 54%|█████▍    | 97/180 [01:11<00:54,  1.52it/s]"
          ]
        },
        {
          "output_type": "stream",
          "name": "stdout",
          "text": [
            "Vector Color DCD: 32\n",
            "Vector Textura LDRP: 42\n",
            "Vector Forma: 64\n",
            "Vector HOG: 150\n",
            "Vector Histograma Color: 192\n",
            "Vector Sobel Histogram: 64\n",
            "Vector FFT Histogram: 64\n",
            "Vector Hu Moments (Normalizados): 7\n",
            "Vector Wavelet: 18\n",
            "largo_vector_concatenado 633\n",
            "1/1 [==============================] - 0s 485ms/step\n"
          ]
        },
        {
          "output_type": "stream",
          "name": "stderr",
          "text": [
            "\r 54%|█████▍    | 98/180 [01:12<00:53,  1.55it/s]"
          ]
        },
        {
          "output_type": "stream",
          "name": "stdout",
          "text": [
            "Vector Color DCD: 32\n",
            "Vector Textura LDRP: 42\n",
            "Vector Forma: 64\n",
            "Vector HOG: 150\n",
            "Vector Histograma Color: 192\n",
            "Vector Sobel Histogram: 64\n",
            "Vector FFT Histogram: 64\n",
            "Vector Hu Moments (Normalizados): 7\n",
            "Vector Wavelet: 18\n",
            "largo_vector_concatenado 633\n",
            "1/1 [==============================] - 1s 504ms/step\n"
          ]
        },
        {
          "output_type": "stream",
          "name": "stderr",
          "text": [
            "\r 55%|█████▌    | 99/180 [01:12<00:51,  1.56it/s]"
          ]
        },
        {
          "output_type": "stream",
          "name": "stdout",
          "text": [
            "Vector Color DCD: 32\n",
            "Vector Textura LDRP: 42\n",
            "Vector Forma: 64\n",
            "Vector HOG: 150\n",
            "Vector Histograma Color: 192\n",
            "Vector Sobel Histogram: 64\n",
            "Vector FFT Histogram: 64\n",
            "Vector Hu Moments (Normalizados): 7\n",
            "Vector Wavelet: 18\n",
            "largo_vector_concatenado 633\n",
            "1/1 [==============================] - 0s 476ms/step\n"
          ]
        },
        {
          "output_type": "stream",
          "name": "stderr",
          "text": [
            "\r 56%|█████▌    | 100/180 [01:13<00:50,  1.59it/s]"
          ]
        },
        {
          "output_type": "stream",
          "name": "stdout",
          "text": [
            "Vector Color DCD: 32\n",
            "Vector Textura LDRP: 42\n",
            "Vector Forma: 64\n",
            "Vector HOG: 150\n",
            "Vector Histograma Color: 192\n",
            "Vector Sobel Histogram: 64\n",
            "Vector FFT Histogram: 64\n",
            "Vector Hu Moments (Normalizados): 7\n",
            "Vector Wavelet: 18\n",
            "largo_vector_concatenado 633\n",
            "1/1 [==============================] - 0s 492ms/step\n"
          ]
        },
        {
          "output_type": "stream",
          "name": "stderr",
          "text": [
            "\r 56%|█████▌    | 101/180 [01:14<00:49,  1.60it/s]"
          ]
        },
        {
          "output_type": "stream",
          "name": "stdout",
          "text": [
            "Vector Color DCD: 32\n",
            "Vector Textura LDRP: 42\n",
            "Vector Forma: 64\n",
            "Vector HOG: 150\n",
            "Vector Histograma Color: 192\n",
            "Vector Sobel Histogram: 64\n",
            "Vector FFT Histogram: 64\n",
            "Vector Hu Moments (Normalizados): 7\n",
            "Vector Wavelet: 18\n",
            "largo_vector_concatenado 633\n",
            "1/1 [==============================] - 0s 472ms/step\n"
          ]
        },
        {
          "output_type": "stream",
          "name": "stderr",
          "text": [
            "\r 57%|█████▋    | 102/180 [01:14<00:48,  1.62it/s]"
          ]
        },
        {
          "output_type": "stream",
          "name": "stdout",
          "text": [
            "Vector Color DCD: 32\n",
            "Vector Textura LDRP: 42\n",
            "Vector Forma: 64\n",
            "Vector HOG: 150\n",
            "Vector Histograma Color: 192\n",
            "Vector Sobel Histogram: 64\n",
            "Vector FFT Histogram: 64\n",
            "Vector Hu Moments (Normalizados): 7\n",
            "Vector Wavelet: 18\n",
            "largo_vector_concatenado 633\n",
            "1/1 [==============================] - 0s 478ms/step\n"
          ]
        },
        {
          "output_type": "stream",
          "name": "stderr",
          "text": [
            "\r 57%|█████▋    | 103/180 [01:15<00:47,  1.62it/s]"
          ]
        },
        {
          "output_type": "stream",
          "name": "stdout",
          "text": [
            "Vector Color DCD: 32\n",
            "Vector Textura LDRP: 42\n",
            "Vector Forma: 64\n",
            "Vector HOG: 150\n",
            "Vector Histograma Color: 192\n",
            "Vector Sobel Histogram: 64\n",
            "Vector FFT Histogram: 64\n",
            "Vector Hu Moments (Normalizados): 7\n",
            "Vector Wavelet: 18\n",
            "largo_vector_concatenado 633\n",
            "1/1 [==============================] - 0s 497ms/step\n"
          ]
        },
        {
          "output_type": "stream",
          "name": "stderr",
          "text": [
            "\r 58%|█████▊    | 104/180 [01:15<00:46,  1.62it/s]"
          ]
        },
        {
          "output_type": "stream",
          "name": "stdout",
          "text": [
            "Vector Color DCD: 32\n",
            "Vector Textura LDRP: 42\n",
            "Vector Forma: 64\n",
            "Vector HOG: 150\n",
            "Vector Histograma Color: 192\n",
            "Vector Sobel Histogram: 64\n",
            "Vector FFT Histogram: 64\n",
            "Vector Hu Moments (Normalizados): 7\n",
            "Vector Wavelet: 18\n",
            "largo_vector_concatenado 633\n",
            "1/1 [==============================] - 0s 482ms/step\n"
          ]
        },
        {
          "output_type": "stream",
          "name": "stderr",
          "text": [
            "\r 58%|█████▊    | 105/180 [01:16<00:45,  1.64it/s]"
          ]
        },
        {
          "output_type": "stream",
          "name": "stdout",
          "text": [
            "Vector Color DCD: 32\n",
            "Vector Textura LDRP: 42\n",
            "Vector Forma: 64\n",
            "Vector HOG: 150\n",
            "Vector Histograma Color: 192\n",
            "Vector Sobel Histogram: 64\n",
            "Vector FFT Histogram: 64\n",
            "Vector Hu Moments (Normalizados): 7\n",
            "Vector Wavelet: 18\n",
            "largo_vector_concatenado 633\n",
            "1/1 [==============================] - 0s 495ms/step\n"
          ]
        },
        {
          "output_type": "stream",
          "name": "stderr",
          "text": [
            "\r 59%|█████▉    | 106/180 [01:17<00:45,  1.63it/s]"
          ]
        },
        {
          "output_type": "stream",
          "name": "stdout",
          "text": [
            "Vector Color DCD: 32\n",
            "Vector Textura LDRP: 42\n",
            "Vector Forma: 64\n",
            "Vector HOG: 150\n",
            "Vector Histograma Color: 192\n",
            "Vector Sobel Histogram: 64\n",
            "Vector FFT Histogram: 64\n",
            "Vector Hu Moments (Normalizados): 7\n",
            "Vector Wavelet: 18\n",
            "largo_vector_concatenado 633\n",
            "1/1 [==============================] - 1s 671ms/step\n"
          ]
        },
        {
          "output_type": "stream",
          "name": "stderr",
          "text": [
            "\r 59%|█████▉    | 107/180 [01:17<00:48,  1.50it/s]"
          ]
        },
        {
          "output_type": "stream",
          "name": "stdout",
          "text": [
            "Vector Color DCD: 32\n",
            "Vector Textura LDRP: 42\n",
            "Vector Forma: 64\n",
            "Vector HOG: 150\n",
            "Vector Histograma Color: 192\n",
            "Vector Sobel Histogram: 64\n",
            "Vector FFT Histogram: 64\n",
            "Vector Hu Moments (Normalizados): 7\n",
            "Vector Wavelet: 18\n",
            "largo_vector_concatenado 633\n",
            "1/1 [==============================] - 1s 892ms/step\n"
          ]
        },
        {
          "output_type": "stream",
          "name": "stderr",
          "text": [
            "\r 60%|██████    | 108/180 [01:18<00:56,  1.27it/s]"
          ]
        },
        {
          "output_type": "stream",
          "name": "stdout",
          "text": [
            "Vector Color DCD: 32\n",
            "Vector Textura LDRP: 42\n",
            "Vector Forma: 64\n",
            "Vector HOG: 150\n",
            "Vector Histograma Color: 192\n",
            "Vector Sobel Histogram: 64\n",
            "Vector FFT Histogram: 64\n",
            "Vector Hu Moments (Normalizados): 7\n",
            "Vector Wavelet: 18\n",
            "largo_vector_concatenado 633\n",
            "1/1 [==============================] - 1s 872ms/step\n"
          ]
        },
        {
          "output_type": "stream",
          "name": "stderr",
          "text": [
            "\r 61%|██████    | 109/180 [01:19<01:01,  1.16it/s]"
          ]
        },
        {
          "output_type": "stream",
          "name": "stdout",
          "text": [
            "Vector Color DCD: 32\n",
            "Vector Textura LDRP: 42\n",
            "Vector Forma: 64\n",
            "Vector HOG: 150\n",
            "Vector Histograma Color: 192\n",
            "Vector Sobel Histogram: 64\n",
            "Vector FFT Histogram: 64\n",
            "Vector Hu Moments (Normalizados): 7\n",
            "Vector Wavelet: 18\n",
            "largo_vector_concatenado 633\n",
            "1/1 [==============================] - 1s 854ms/step\n"
          ]
        },
        {
          "output_type": "stream",
          "name": "stderr",
          "text": [
            "\r 61%|██████    | 110/180 [01:21<01:03,  1.09it/s]"
          ]
        },
        {
          "output_type": "stream",
          "name": "stdout",
          "text": [
            "Vector Color DCD: 32\n",
            "Vector Textura LDRP: 42\n",
            "Vector Forma: 64\n",
            "Vector HOG: 150\n",
            "Vector Histograma Color: 192\n",
            "Vector Sobel Histogram: 64\n",
            "Vector FFT Histogram: 64\n",
            "Vector Hu Moments (Normalizados): 7\n",
            "Vector Wavelet: 18\n",
            "largo_vector_concatenado 633\n",
            "1/1 [==============================] - 1s 994ms/step\n"
          ]
        },
        {
          "output_type": "stream",
          "name": "stderr",
          "text": [
            "\r 62%|██████▏   | 111/180 [01:22<01:08,  1.01it/s]"
          ]
        },
        {
          "output_type": "stream",
          "name": "stdout",
          "text": [
            "Vector Color DCD: 32\n",
            "Vector Textura LDRP: 42\n",
            "Vector Forma: 64\n",
            "Vector HOG: 150\n",
            "Vector Histograma Color: 192\n",
            "Vector Sobel Histogram: 64\n",
            "Vector FFT Histogram: 64\n",
            "Vector Hu Moments (Normalizados): 7\n",
            "Vector Wavelet: 18\n",
            "largo_vector_concatenado 633\n",
            "1/1 [==============================] - 1s 611ms/step\n"
          ]
        },
        {
          "output_type": "stream",
          "name": "stderr",
          "text": [
            "\r 62%|██████▏   | 112/180 [01:23<01:04,  1.06it/s]"
          ]
        },
        {
          "output_type": "stream",
          "name": "stdout",
          "text": [
            "Vector Color DCD: 32\n",
            "Vector Textura LDRP: 42\n",
            "Vector Forma: 64\n",
            "Vector HOG: 150\n",
            "Vector Histograma Color: 192\n",
            "Vector Sobel Histogram: 64\n",
            "Vector FFT Histogram: 64\n",
            "Vector Hu Moments (Normalizados): 7\n",
            "Vector Wavelet: 18\n",
            "largo_vector_concatenado 633\n",
            "1/1 [==============================] - 0s 483ms/step\n"
          ]
        },
        {
          "output_type": "stream",
          "name": "stderr",
          "text": [
            "\r 63%|██████▎   | 113/180 [01:23<00:56,  1.18it/s]"
          ]
        },
        {
          "output_type": "stream",
          "name": "stdout",
          "text": [
            "Vector Color DCD: 32\n",
            "Vector Textura LDRP: 42\n",
            "Vector Forma: 64\n",
            "Vector HOG: 150\n",
            "Vector Histograma Color: 192\n",
            "Vector Sobel Histogram: 64\n",
            "Vector FFT Histogram: 64\n",
            "Vector Hu Moments (Normalizados): 7\n",
            "Vector Wavelet: 18\n",
            "largo_vector_concatenado 633\n",
            "1/1 [==============================] - 0s 494ms/step\n"
          ]
        },
        {
          "output_type": "stream",
          "name": "stderr",
          "text": [
            "\r 63%|██████▎   | 114/180 [01:24<00:51,  1.28it/s]"
          ]
        },
        {
          "output_type": "stream",
          "name": "stdout",
          "text": [
            "Vector Color DCD: 32\n",
            "Vector Textura LDRP: 42\n",
            "Vector Forma: 64\n",
            "Vector HOG: 150\n",
            "Vector Histograma Color: 192\n",
            "Vector Sobel Histogram: 64\n",
            "Vector FFT Histogram: 64\n",
            "Vector Hu Moments (Normalizados): 7\n",
            "Vector Wavelet: 18\n",
            "largo_vector_concatenado 633\n",
            "1/1 [==============================] - 0s 486ms/step\n"
          ]
        },
        {
          "output_type": "stream",
          "name": "stderr",
          "text": [
            "\r 64%|██████▍   | 115/180 [01:24<00:47,  1.37it/s]"
          ]
        },
        {
          "output_type": "stream",
          "name": "stdout",
          "text": [
            "Vector Color DCD: 32\n",
            "Vector Textura LDRP: 42\n",
            "Vector Forma: 64\n",
            "Vector HOG: 150\n",
            "Vector Histograma Color: 192\n",
            "Vector Sobel Histogram: 64\n",
            "Vector FFT Histogram: 64\n",
            "Vector Hu Moments (Normalizados): 7\n",
            "Vector Wavelet: 18\n",
            "largo_vector_concatenado 633\n",
            "1/1 [==============================] - 0s 489ms/step\n"
          ]
        },
        {
          "output_type": "stream",
          "name": "stderr",
          "text": [
            "\r 64%|██████▍   | 116/180 [01:25<00:44,  1.44it/s]"
          ]
        },
        {
          "output_type": "stream",
          "name": "stdout",
          "text": [
            "Vector Color DCD: 32\n",
            "Vector Textura LDRP: 42\n",
            "Vector Forma: 64\n",
            "Vector HOG: 150\n",
            "Vector Histograma Color: 192\n",
            "Vector Sobel Histogram: 64\n",
            "Vector FFT Histogram: 64\n",
            "Vector Hu Moments (Normalizados): 7\n",
            "Vector Wavelet: 18\n",
            "largo_vector_concatenado 633\n",
            "1/1 [==============================] - 0s 479ms/step\n"
          ]
        },
        {
          "output_type": "stream",
          "name": "stderr",
          "text": [
            "\r 65%|██████▌   | 117/180 [01:26<00:42,  1.50it/s]"
          ]
        },
        {
          "output_type": "stream",
          "name": "stdout",
          "text": [
            "Vector Color DCD: 32\n",
            "Vector Textura LDRP: 42\n",
            "Vector Forma: 64\n",
            "Vector HOG: 150\n",
            "Vector Histograma Color: 192\n",
            "Vector Sobel Histogram: 64\n",
            "Vector FFT Histogram: 64\n",
            "Vector Hu Moments (Normalizados): 7\n",
            "Vector Wavelet: 18\n",
            "largo_vector_concatenado 633\n",
            "1/1 [==============================] - 0s 476ms/step\n"
          ]
        },
        {
          "output_type": "stream",
          "name": "stderr",
          "text": [
            "\r 66%|██████▌   | 118/180 [01:26<00:40,  1.53it/s]"
          ]
        },
        {
          "output_type": "stream",
          "name": "stdout",
          "text": [
            "Vector Color DCD: 32\n",
            "Vector Textura LDRP: 42\n",
            "Vector Forma: 64\n",
            "Vector HOG: 150\n",
            "Vector Histograma Color: 192\n",
            "Vector Sobel Histogram: 64\n",
            "Vector FFT Histogram: 64\n",
            "Vector Hu Moments (Normalizados): 7\n",
            "Vector Wavelet: 18\n",
            "largo_vector_concatenado 633\n",
            "1/1 [==============================] - 0s 492ms/step\n"
          ]
        },
        {
          "output_type": "stream",
          "name": "stderr",
          "text": [
            "\r 66%|██████▌   | 119/180 [01:27<00:39,  1.55it/s]"
          ]
        },
        {
          "output_type": "stream",
          "name": "stdout",
          "text": [
            "Vector Color DCD: 32\n",
            "Vector Textura LDRP: 42\n",
            "Vector Forma: 64\n",
            "Vector HOG: 150\n",
            "Vector Histograma Color: 192\n",
            "Vector Sobel Histogram: 64\n",
            "Vector FFT Histogram: 64\n",
            "Vector Hu Moments (Normalizados): 7\n",
            "Vector Wavelet: 18\n",
            "largo_vector_concatenado 633\n",
            "1/1 [==============================] - 0s 485ms/step\n"
          ]
        },
        {
          "output_type": "stream",
          "name": "stderr",
          "text": [
            "\r 67%|██████▋   | 120/180 [01:27<00:38,  1.57it/s]"
          ]
        },
        {
          "output_type": "stream",
          "name": "stdout",
          "text": [
            "Vector Color DCD: 32\n",
            "Vector Textura LDRP: 42\n",
            "Vector Forma: 64\n",
            "Vector HOG: 150\n",
            "Vector Histograma Color: 192\n",
            "Vector Sobel Histogram: 64\n",
            "Vector FFT Histogram: 64\n",
            "Vector Hu Moments (Normalizados): 7\n",
            "Vector Wavelet: 18\n",
            "largo_vector_concatenado 633\n",
            "1/1 [==============================] - 0s 493ms/step\n"
          ]
        },
        {
          "output_type": "stream",
          "name": "stderr",
          "text": [
            "\r 67%|██████▋   | 121/180 [01:28<00:37,  1.59it/s]"
          ]
        },
        {
          "output_type": "stream",
          "name": "stdout",
          "text": [
            "Vector Color DCD: 32\n",
            "Vector Textura LDRP: 42\n",
            "Vector Forma: 64\n",
            "Vector HOG: 150\n",
            "Vector Histograma Color: 192\n",
            "Vector Sobel Histogram: 64\n",
            "Vector FFT Histogram: 64\n",
            "Vector Hu Moments (Normalizados): 7\n",
            "Vector Wavelet: 18\n",
            "largo_vector_concatenado 633\n",
            "1/1 [==============================] - 0s 484ms/step\n"
          ]
        },
        {
          "output_type": "stream",
          "name": "stderr",
          "text": [
            "\r 68%|██████▊   | 122/180 [01:29<00:36,  1.60it/s]"
          ]
        },
        {
          "output_type": "stream",
          "name": "stdout",
          "text": [
            "Vector Color DCD: 32\n",
            "Vector Textura LDRP: 42\n",
            "Vector Forma: 64\n",
            "Vector HOG: 150\n",
            "Vector Histograma Color: 192\n",
            "Vector Sobel Histogram: 64\n",
            "Vector FFT Histogram: 64\n",
            "Vector Hu Moments (Normalizados): 7\n",
            "Vector Wavelet: 18\n",
            "largo_vector_concatenado 633\n",
            "1/1 [==============================] - 0s 481ms/step\n"
          ]
        },
        {
          "output_type": "stream",
          "name": "stderr",
          "text": [
            "\r 68%|██████▊   | 123/180 [01:29<00:35,  1.61it/s]"
          ]
        },
        {
          "output_type": "stream",
          "name": "stdout",
          "text": [
            "Vector Color DCD: 32\n",
            "Vector Textura LDRP: 42\n",
            "Vector Forma: 64\n",
            "Vector HOG: 150\n",
            "Vector Histograma Color: 192\n",
            "Vector Sobel Histogram: 64\n",
            "Vector FFT Histogram: 64\n",
            "Vector Hu Moments (Normalizados): 7\n",
            "Vector Wavelet: 18\n",
            "largo_vector_concatenado 633\n",
            "1/1 [==============================] - 0s 489ms/step\n"
          ]
        },
        {
          "output_type": "stream",
          "name": "stderr",
          "text": [
            "\r 69%|██████▉   | 124/180 [01:30<00:34,  1.61it/s]"
          ]
        },
        {
          "output_type": "stream",
          "name": "stdout",
          "text": [
            "Vector Color DCD: 32\n",
            "Vector Textura LDRP: 42\n",
            "Vector Forma: 64\n",
            "Vector HOG: 150\n",
            "Vector Histograma Color: 192\n",
            "Vector Sobel Histogram: 64\n",
            "Vector FFT Histogram: 64\n",
            "Vector Hu Moments (Normalizados): 7\n",
            "Vector Wavelet: 18\n",
            "largo_vector_concatenado 633\n",
            "1/1 [==============================] - 0s 497ms/step\n"
          ]
        },
        {
          "output_type": "stream",
          "name": "stderr",
          "text": [
            "\r 69%|██████▉   | 125/180 [01:31<00:34,  1.61it/s]"
          ]
        },
        {
          "output_type": "stream",
          "name": "stdout",
          "text": [
            "Vector Color DCD: 32\n",
            "Vector Textura LDRP: 42\n",
            "Vector Forma: 64\n",
            "Vector HOG: 150\n",
            "Vector Histograma Color: 192\n",
            "Vector Sobel Histogram: 64\n",
            "Vector FFT Histogram: 64\n",
            "Vector Hu Moments (Normalizados): 7\n",
            "Vector Wavelet: 18\n",
            "largo_vector_concatenado 633\n",
            "1/1 [==============================] - 0s 491ms/step\n"
          ]
        },
        {
          "output_type": "stream",
          "name": "stderr",
          "text": [
            "\r 70%|███████   | 126/180 [01:31<00:33,  1.62it/s]"
          ]
        },
        {
          "output_type": "stream",
          "name": "stdout",
          "text": [
            "Vector Color DCD: 32\n",
            "Vector Textura LDRP: 42\n",
            "Vector Forma: 64\n",
            "Vector HOG: 150\n",
            "Vector Histograma Color: 192\n",
            "Vector Sobel Histogram: 64\n",
            "Vector FFT Histogram: 64\n",
            "Vector Hu Moments (Normalizados): 7\n",
            "Vector Wavelet: 18\n",
            "largo_vector_concatenado 633\n",
            "1/1 [==============================] - 1s 507ms/step\n"
          ]
        },
        {
          "output_type": "stream",
          "name": "stderr",
          "text": [
            "\r 71%|███████   | 127/180 [01:32<00:33,  1.60it/s]"
          ]
        },
        {
          "output_type": "stream",
          "name": "stdout",
          "text": [
            "Vector Color DCD: 32\n",
            "Vector Textura LDRP: 42\n",
            "Vector Forma: 64\n",
            "Vector HOG: 150\n",
            "Vector Histograma Color: 192\n",
            "Vector Sobel Histogram: 64\n",
            "Vector FFT Histogram: 64\n",
            "Vector Hu Moments (Normalizados): 7\n",
            "Vector Wavelet: 18\n",
            "largo_vector_concatenado 633\n",
            "1/1 [==============================] - 1s 572ms/step\n"
          ]
        },
        {
          "output_type": "stream",
          "name": "stderr",
          "text": [
            "\r 71%|███████   | 128/180 [01:32<00:33,  1.55it/s]"
          ]
        },
        {
          "output_type": "stream",
          "name": "stdout",
          "text": [
            "Vector Color DCD: 32\n",
            "Vector Textura LDRP: 42\n",
            "Vector Forma: 64\n",
            "Vector HOG: 150\n",
            "Vector Histograma Color: 192\n",
            "Vector Sobel Histogram: 64\n",
            "Vector FFT Histogram: 64\n",
            "Vector Hu Moments (Normalizados): 7\n",
            "Vector Wavelet: 18\n",
            "largo_vector_concatenado 633\n",
            "1/1 [==============================] - 1s 843ms/step\n"
          ]
        },
        {
          "output_type": "stream",
          "name": "stderr",
          "text": [
            "\r 72%|███████▏  | 129/180 [01:34<00:38,  1.31it/s]"
          ]
        },
        {
          "output_type": "stream",
          "name": "stdout",
          "text": [
            "Vector Color DCD: 32\n",
            "Vector Textura LDRP: 42\n",
            "Vector Forma: 64\n",
            "Vector HOG: 150\n",
            "Vector Histograma Color: 192\n",
            "Vector Sobel Histogram: 64\n",
            "Vector FFT Histogram: 64\n",
            "Vector Hu Moments (Normalizados): 7\n",
            "Vector Wavelet: 18\n",
            "largo_vector_concatenado 633\n",
            "1/1 [==============================] - 1s 838ms/step\n"
          ]
        },
        {
          "output_type": "stream",
          "name": "stderr",
          "text": [
            "\r 72%|███████▏  | 130/180 [01:35<00:42,  1.19it/s]"
          ]
        },
        {
          "output_type": "stream",
          "name": "stdout",
          "text": [
            "Vector Color DCD: 32\n",
            "Vector Textura LDRP: 42\n",
            "Vector Forma: 64\n",
            "Vector HOG: 150\n",
            "Vector Histograma Color: 192\n",
            "Vector Sobel Histogram: 64\n",
            "Vector FFT Histogram: 64\n",
            "Vector Hu Moments (Normalizados): 7\n",
            "Vector Wavelet: 18\n",
            "largo_vector_concatenado 633\n",
            "1/1 [==============================] - 1s 874ms/step\n"
          ]
        },
        {
          "output_type": "stream",
          "name": "stderr",
          "text": [
            "\r 73%|███████▎  | 131/180 [01:36<00:44,  1.11it/s]"
          ]
        },
        {
          "output_type": "stream",
          "name": "stdout",
          "text": [
            "Vector Color DCD: 32\n",
            "Vector Textura LDRP: 42\n",
            "Vector Forma: 64\n",
            "Vector HOG: 150\n",
            "Vector Histograma Color: 192\n",
            "Vector Sobel Histogram: 64\n",
            "Vector FFT Histogram: 64\n",
            "Vector Hu Moments (Normalizados): 7\n",
            "Vector Wavelet: 18\n",
            "largo_vector_concatenado 633\n",
            "1/1 [==============================] - 1s 816ms/step\n"
          ]
        },
        {
          "output_type": "stream",
          "name": "stderr",
          "text": [
            "\r 73%|███████▎  | 132/180 [01:37<00:44,  1.07it/s]"
          ]
        },
        {
          "output_type": "stream",
          "name": "stdout",
          "text": [
            "Vector Color DCD: 32\n",
            "Vector Textura LDRP: 42\n",
            "Vector Forma: 64\n",
            "Vector HOG: 150\n",
            "Vector Histograma Color: 192\n",
            "Vector Sobel Histogram: 64\n",
            "Vector FFT Histogram: 64\n",
            "Vector Hu Moments (Normalizados): 7\n",
            "Vector Wavelet: 18\n",
            "largo_vector_concatenado 633\n",
            "1/1 [==============================] - 1s 738ms/step\n"
          ]
        },
        {
          "output_type": "stream",
          "name": "stderr",
          "text": [
            "\r 74%|███████▍  | 133/180 [01:38<00:44,  1.07it/s]"
          ]
        },
        {
          "output_type": "stream",
          "name": "stdout",
          "text": [
            "Vector Color DCD: 32\n",
            "Vector Textura LDRP: 42\n",
            "Vector Forma: 64\n",
            "Vector HOG: 150\n",
            "Vector Histograma Color: 192\n",
            "Vector Sobel Histogram: 64\n",
            "Vector FFT Histogram: 64\n",
            "Vector Hu Moments (Normalizados): 7\n",
            "Vector Wavelet: 18\n",
            "largo_vector_concatenado 633\n",
            "1/1 [==============================] - 0s 474ms/step\n"
          ]
        },
        {
          "output_type": "stream",
          "name": "stderr",
          "text": [
            "\r 74%|███████▍  | 134/180 [01:38<00:38,  1.20it/s]"
          ]
        },
        {
          "output_type": "stream",
          "name": "stdout",
          "text": [
            "Vector Color DCD: 32\n",
            "Vector Textura LDRP: 42\n",
            "Vector Forma: 64\n",
            "Vector HOG: 150\n",
            "Vector Histograma Color: 192\n",
            "Vector Sobel Histogram: 64\n",
            "Vector FFT Histogram: 64\n",
            "Vector Hu Moments (Normalizados): 7\n",
            "Vector Wavelet: 18\n",
            "largo_vector_concatenado 633\n",
            "1/1 [==============================] - 0s 473ms/step\n"
          ]
        },
        {
          "output_type": "stream",
          "name": "stderr",
          "text": [
            "\r 75%|███████▌  | 135/180 [01:39<00:34,  1.30it/s]"
          ]
        },
        {
          "output_type": "stream",
          "name": "stdout",
          "text": [
            "Vector Color DCD: 32\n",
            "Vector Textura LDRP: 42\n",
            "Vector Forma: 64\n",
            "Vector HOG: 150\n",
            "Vector Histograma Color: 192\n",
            "Vector Sobel Histogram: 64\n",
            "Vector FFT Histogram: 64\n",
            "Vector Hu Moments (Normalizados): 7\n",
            "Vector Wavelet: 18\n",
            "largo_vector_concatenado 633\n",
            "1/1 [==============================] - 0s 500ms/step\n"
          ]
        },
        {
          "output_type": "stream",
          "name": "stderr",
          "text": [
            "\r 76%|███████▌  | 136/180 [01:39<00:32,  1.37it/s]"
          ]
        },
        {
          "output_type": "stream",
          "name": "stdout",
          "text": [
            "Vector Color DCD: 32\n",
            "Vector Textura LDRP: 42\n",
            "Vector Forma: 64\n",
            "Vector HOG: 150\n",
            "Vector Histograma Color: 192\n",
            "Vector Sobel Histogram: 64\n",
            "Vector FFT Histogram: 64\n",
            "Vector Hu Moments (Normalizados): 7\n",
            "Vector Wavelet: 18\n",
            "largo_vector_concatenado 633\n",
            "1/1 [==============================] - 0s 471ms/step\n"
          ]
        },
        {
          "output_type": "stream",
          "name": "stderr",
          "text": [
            "\r 76%|███████▌  | 137/180 [01:40<00:29,  1.46it/s]"
          ]
        },
        {
          "output_type": "stream",
          "name": "stdout",
          "text": [
            "Vector Color DCD: 32\n",
            "Vector Textura LDRP: 42\n",
            "Vector Forma: 64\n",
            "Vector HOG: 150\n",
            "Vector Histograma Color: 192\n",
            "Vector Sobel Histogram: 64\n",
            "Vector FFT Histogram: 64\n",
            "Vector Hu Moments (Normalizados): 7\n",
            "Vector Wavelet: 18\n",
            "largo_vector_concatenado 633\n",
            "1/1 [==============================] - 1s 501ms/step\n"
          ]
        },
        {
          "output_type": "stream",
          "name": "stderr",
          "text": [
            "\r 77%|███████▋  | 138/180 [01:41<00:28,  1.49it/s]"
          ]
        },
        {
          "output_type": "stream",
          "name": "stdout",
          "text": [
            "Vector Color DCD: 32\n",
            "Vector Textura LDRP: 42\n",
            "Vector Forma: 64\n",
            "Vector HOG: 150\n",
            "Vector Histograma Color: 192\n",
            "Vector Sobel Histogram: 64\n",
            "Vector FFT Histogram: 64\n",
            "Vector Hu Moments (Normalizados): 7\n",
            "Vector Wavelet: 18\n",
            "largo_vector_concatenado 633\n",
            "1/1 [==============================] - 0s 476ms/step\n"
          ]
        },
        {
          "output_type": "stream",
          "name": "stderr",
          "text": [
            "\r 77%|███████▋  | 139/180 [01:41<00:26,  1.54it/s]"
          ]
        },
        {
          "output_type": "stream",
          "name": "stdout",
          "text": [
            "Vector Color DCD: 32\n",
            "Vector Textura LDRP: 42\n",
            "Vector Forma: 64\n",
            "Vector HOG: 150\n",
            "Vector Histograma Color: 192\n",
            "Vector Sobel Histogram: 64\n",
            "Vector FFT Histogram: 64\n",
            "Vector Hu Moments (Normalizados): 7\n",
            "Vector Wavelet: 18\n",
            "largo_vector_concatenado 633\n",
            "1/1 [==============================] - 0s 474ms/step\n"
          ]
        },
        {
          "output_type": "stream",
          "name": "stderr",
          "text": [
            "\r 78%|███████▊  | 140/180 [01:42<00:25,  1.56it/s]"
          ]
        },
        {
          "output_type": "stream",
          "name": "stdout",
          "text": [
            "Vector Color DCD: 32\n",
            "Vector Textura LDRP: 42\n",
            "Vector Forma: 64\n",
            "Vector HOG: 150\n",
            "Vector Histograma Color: 192\n",
            "Vector Sobel Histogram: 64\n",
            "Vector FFT Histogram: 64\n",
            "Vector Hu Moments (Normalizados): 7\n",
            "Vector Wavelet: 18\n",
            "largo_vector_concatenado 633\n",
            "1/1 [==============================] - 0s 499ms/step\n"
          ]
        },
        {
          "output_type": "stream",
          "name": "stderr",
          "text": [
            "\r 78%|███████▊  | 141/180 [01:42<00:24,  1.57it/s]"
          ]
        },
        {
          "output_type": "stream",
          "name": "stdout",
          "text": [
            "Vector Color DCD: 32\n",
            "Vector Textura LDRP: 42\n",
            "Vector Forma: 64\n",
            "Vector HOG: 150\n",
            "Vector Histograma Color: 192\n",
            "Vector Sobel Histogram: 64\n",
            "Vector FFT Histogram: 64\n",
            "Vector Hu Moments (Normalizados): 7\n",
            "Vector Wavelet: 18\n",
            "largo_vector_concatenado 633\n",
            "1/1 [==============================] - 0s 478ms/step\n"
          ]
        },
        {
          "output_type": "stream",
          "name": "stderr",
          "text": [
            "\r 79%|███████▉  | 142/180 [01:43<00:23,  1.60it/s]"
          ]
        },
        {
          "output_type": "stream",
          "name": "stdout",
          "text": [
            "Vector Color DCD: 32\n",
            "Vector Textura LDRP: 42\n",
            "Vector Forma: 64\n",
            "Vector HOG: 150\n",
            "Vector Histograma Color: 192\n",
            "Vector Sobel Histogram: 64\n",
            "Vector FFT Histogram: 64\n",
            "Vector Hu Moments (Normalizados): 7\n",
            "Vector Wavelet: 18\n",
            "largo_vector_concatenado 633\n",
            "1/1 [==============================] - 0s 499ms/step\n"
          ]
        },
        {
          "output_type": "stream",
          "name": "stderr",
          "text": [
            "\r 79%|███████▉  | 143/180 [01:44<00:23,  1.60it/s]"
          ]
        },
        {
          "output_type": "stream",
          "name": "stdout",
          "text": [
            "Vector Color DCD: 32\n",
            "Vector Textura LDRP: 42\n",
            "Vector Forma: 64\n",
            "Vector HOG: 150\n",
            "Vector Histograma Color: 192\n",
            "Vector Sobel Histogram: 64\n",
            "Vector FFT Histogram: 64\n",
            "Vector Hu Moments (Normalizados): 7\n",
            "Vector Wavelet: 18\n",
            "largo_vector_concatenado 633\n",
            "1/1 [==============================] - 0s 486ms/step\n"
          ]
        },
        {
          "output_type": "stream",
          "name": "stderr",
          "text": [
            "\r 80%|████████  | 144/180 [01:44<00:22,  1.61it/s]"
          ]
        },
        {
          "output_type": "stream",
          "name": "stdout",
          "text": [
            "Vector Color DCD: 32\n",
            "Vector Textura LDRP: 42\n",
            "Vector Forma: 64\n",
            "Vector HOG: 150\n",
            "Vector Histograma Color: 192\n",
            "Vector Sobel Histogram: 64\n",
            "Vector FFT Histogram: 64\n",
            "Vector Hu Moments (Normalizados): 7\n",
            "Vector Wavelet: 18\n",
            "largo_vector_concatenado 633\n",
            "1/1 [==============================] - 0s 481ms/step\n"
          ]
        },
        {
          "output_type": "stream",
          "name": "stderr",
          "text": [
            "\r 81%|████████  | 145/180 [01:45<00:23,  1.50it/s]"
          ]
        },
        {
          "output_type": "stream",
          "name": "stdout",
          "text": [
            "Vector Color DCD: 32\n",
            "Vector Textura LDRP: 42\n",
            "Vector Forma: 64\n",
            "Vector HOG: 150\n",
            "Vector Histograma Color: 192\n",
            "Vector Sobel Histogram: 64\n",
            "Vector FFT Histogram: 64\n",
            "Vector Hu Moments (Normalizados): 7\n",
            "Vector Wavelet: 18\n",
            "largo_vector_concatenado 633\n",
            "1/1 [==============================] - 0s 497ms/step\n"
          ]
        },
        {
          "output_type": "stream",
          "name": "stderr",
          "text": [
            "\r 81%|████████  | 146/180 [01:46<00:22,  1.54it/s]"
          ]
        },
        {
          "output_type": "stream",
          "name": "stdout",
          "text": [
            "Vector Color DCD: 32\n",
            "Vector Textura LDRP: 42\n",
            "Vector Forma: 64\n",
            "Vector HOG: 150\n",
            "Vector Histograma Color: 192\n",
            "Vector Sobel Histogram: 64\n",
            "Vector FFT Histogram: 64\n",
            "Vector Hu Moments (Normalizados): 7\n",
            "Vector Wavelet: 18\n",
            "largo_vector_concatenado 633\n",
            "1/1 [==============================] - 0s 481ms/step\n"
          ]
        },
        {
          "output_type": "stream",
          "name": "stderr",
          "text": [
            "\r 82%|████████▏ | 147/180 [01:46<00:21,  1.57it/s]"
          ]
        },
        {
          "output_type": "stream",
          "name": "stdout",
          "text": [
            "Vector Color DCD: 32\n",
            "Vector Textura LDRP: 42\n",
            "Vector Forma: 64\n",
            "Vector HOG: 150\n",
            "Vector Histograma Color: 192\n",
            "Vector Sobel Histogram: 64\n",
            "Vector FFT Histogram: 64\n",
            "Vector Hu Moments (Normalizados): 7\n",
            "Vector Wavelet: 18\n",
            "largo_vector_concatenado 633\n",
            "1/1 [==============================] - 0s 493ms/step\n"
          ]
        },
        {
          "output_type": "stream",
          "name": "stderr",
          "text": [
            "\r 82%|████████▏ | 148/180 [01:47<00:20,  1.59it/s]"
          ]
        },
        {
          "output_type": "stream",
          "name": "stdout",
          "text": [
            "Vector Color DCD: 32\n",
            "Vector Textura LDRP: 42\n",
            "Vector Forma: 64\n",
            "Vector HOG: 150\n",
            "Vector Histograma Color: 192\n",
            "Vector Sobel Histogram: 64\n",
            "Vector FFT Histogram: 64\n",
            "Vector Hu Moments (Normalizados): 7\n",
            "Vector Wavelet: 18\n",
            "largo_vector_concatenado 633\n",
            "1/1 [==============================] - 1s 548ms/step\n"
          ]
        },
        {
          "output_type": "stream",
          "name": "stderr",
          "text": [
            "\r 83%|████████▎ | 149/180 [01:48<00:19,  1.55it/s]"
          ]
        },
        {
          "output_type": "stream",
          "name": "stdout",
          "text": [
            "Vector Color DCD: 32\n",
            "Vector Textura LDRP: 42\n",
            "Vector Forma: 64\n",
            "Vector HOG: 150\n",
            "Vector Histograma Color: 192\n",
            "Vector Sobel Histogram: 64\n",
            "Vector FFT Histogram: 64\n",
            "Vector Hu Moments (Normalizados): 7\n",
            "Vector Wavelet: 18\n",
            "largo_vector_concatenado 633\n",
            "1/1 [==============================] - 1s 816ms/step\n"
          ]
        },
        {
          "output_type": "stream",
          "name": "stderr",
          "text": [
            "\r 83%|████████▎ | 150/180 [01:49<00:22,  1.33it/s]"
          ]
        },
        {
          "output_type": "stream",
          "name": "stdout",
          "text": [
            "Vector Color DCD: 32\n",
            "Vector Textura LDRP: 42\n",
            "Vector Forma: 64\n",
            "Vector HOG: 150\n",
            "Vector Histograma Color: 192\n",
            "Vector Sobel Histogram: 64\n",
            "Vector FFT Histogram: 64\n",
            "Vector Hu Moments (Normalizados): 7\n",
            "Vector Wavelet: 18\n",
            "largo_vector_concatenado 633\n",
            "1/1 [==============================] - 1s 819ms/step\n"
          ]
        },
        {
          "output_type": "stream",
          "name": "stderr",
          "text": [
            "\r 84%|████████▍ | 151/180 [01:50<00:24,  1.21it/s]"
          ]
        },
        {
          "output_type": "stream",
          "name": "stdout",
          "text": [
            "Vector Color DCD: 32\n",
            "Vector Textura LDRP: 42\n",
            "Vector Forma: 64\n",
            "Vector HOG: 150\n",
            "Vector Histograma Color: 192\n",
            "Vector Sobel Histogram: 64\n",
            "Vector FFT Histogram: 64\n",
            "Vector Hu Moments (Normalizados): 7\n",
            "Vector Wavelet: 18\n",
            "largo_vector_concatenado 633\n",
            "1/1 [==============================] - 2s 2s/step\n"
          ]
        },
        {
          "output_type": "stream",
          "name": "stderr",
          "text": [
            "\r 84%|████████▍ | 152/180 [01:52<00:39,  1.43s/it]"
          ]
        },
        {
          "output_type": "stream",
          "name": "stdout",
          "text": [
            "Vector Color DCD: 32\n",
            "Vector Textura LDRP: 42\n",
            "Vector Forma: 64\n",
            "Vector HOG: 150\n",
            "Vector Histograma Color: 192\n",
            "Vector Sobel Histogram: 64\n",
            "Vector FFT Histogram: 64\n",
            "Vector Hu Moments (Normalizados): 7\n",
            "Vector Wavelet: 18\n",
            "largo_vector_concatenado 633\n",
            "1/1 [==============================] - 1s 688ms/step\n"
          ]
        },
        {
          "output_type": "stream",
          "name": "stderr",
          "text": [
            "\r 85%|████████▌ | 153/180 [01:53<00:34,  1.29s/it]"
          ]
        },
        {
          "output_type": "stream",
          "name": "stdout",
          "text": [
            "Vector Color DCD: 32\n",
            "Vector Textura LDRP: 42\n",
            "Vector Forma: 64\n",
            "Vector HOG: 150\n",
            "Vector Histograma Color: 192\n",
            "Vector Sobel Histogram: 64\n",
            "Vector FFT Histogram: 64\n",
            "Vector Hu Moments (Normalizados): 7\n",
            "Vector Wavelet: 18\n",
            "largo_vector_concatenado 633\n",
            "1/1 [==============================] - 0s 499ms/step\n"
          ]
        },
        {
          "output_type": "stream",
          "name": "stderr",
          "text": [
            "\r 86%|████████▌ | 154/180 [01:54<00:29,  1.13s/it]"
          ]
        },
        {
          "output_type": "stream",
          "name": "stdout",
          "text": [
            "Vector Color DCD: 32\n",
            "Vector Textura LDRP: 42\n",
            "Vector Forma: 64\n",
            "Vector HOG: 150\n",
            "Vector Histograma Color: 192\n",
            "Vector Sobel Histogram: 64\n",
            "Vector FFT Histogram: 64\n",
            "Vector Hu Moments (Normalizados): 7\n",
            "Vector Wavelet: 18\n",
            "largo_vector_concatenado 633\n",
            "1/1 [==============================] - 0s 481ms/step\n"
          ]
        },
        {
          "output_type": "stream",
          "name": "stderr",
          "text": [
            "\r 86%|████████▌ | 155/180 [01:55<00:24,  1.03it/s]"
          ]
        },
        {
          "output_type": "stream",
          "name": "stdout",
          "text": [
            "Vector Color DCD: 32\n",
            "Vector Textura LDRP: 42\n",
            "Vector Forma: 64\n",
            "Vector HOG: 150\n",
            "Vector Histograma Color: 192\n",
            "Vector Sobel Histogram: 64\n",
            "Vector FFT Histogram: 64\n",
            "Vector Hu Moments (Normalizados): 7\n",
            "Vector Wavelet: 18\n",
            "largo_vector_concatenado 633\n",
            "1/1 [==============================] - 0s 497ms/step\n"
          ]
        },
        {
          "output_type": "stream",
          "name": "stderr",
          "text": [
            "\r 87%|████████▋ | 156/180 [01:55<00:20,  1.15it/s]"
          ]
        },
        {
          "output_type": "stream",
          "name": "stdout",
          "text": [
            "Vector Color DCD: 32\n",
            "Vector Textura LDRP: 42\n",
            "Vector Forma: 64\n",
            "Vector HOG: 150\n",
            "Vector Histograma Color: 192\n",
            "Vector Sobel Histogram: 64\n",
            "Vector FFT Histogram: 64\n",
            "Vector Hu Moments (Normalizados): 7\n",
            "Vector Wavelet: 18\n",
            "largo_vector_concatenado 633\n",
            "1/1 [==============================] - 0s 491ms/step\n"
          ]
        },
        {
          "output_type": "stream",
          "name": "stderr",
          "text": [
            "\r 87%|████████▋ | 157/180 [01:56<00:18,  1.26it/s]"
          ]
        },
        {
          "output_type": "stream",
          "name": "stdout",
          "text": [
            "Vector Color DCD: 32\n",
            "Vector Textura LDRP: 42\n",
            "Vector Forma: 64\n",
            "Vector HOG: 150\n",
            "Vector Histograma Color: 192\n",
            "Vector Sobel Histogram: 64\n",
            "Vector FFT Histogram: 64\n",
            "Vector Hu Moments (Normalizados): 7\n",
            "Vector Wavelet: 18\n",
            "largo_vector_concatenado 633\n",
            "1/1 [==============================] - 0s 486ms/step\n"
          ]
        },
        {
          "output_type": "stream",
          "name": "stderr",
          "text": [
            "\r 88%|████████▊ | 158/180 [01:57<00:16,  1.35it/s]"
          ]
        },
        {
          "output_type": "stream",
          "name": "stdout",
          "text": [
            "Vector Color DCD: 32\n",
            "Vector Textura LDRP: 42\n",
            "Vector Forma: 64\n",
            "Vector HOG: 150\n",
            "Vector Histograma Color: 192\n",
            "Vector Sobel Histogram: 64\n",
            "Vector FFT Histogram: 64\n",
            "Vector Hu Moments (Normalizados): 7\n",
            "Vector Wavelet: 18\n",
            "largo_vector_concatenado 633\n",
            "1/1 [==============================] - 1s 501ms/step\n"
          ]
        },
        {
          "output_type": "stream",
          "name": "stderr",
          "text": [
            "\r 88%|████████▊ | 159/180 [01:57<00:14,  1.42it/s]"
          ]
        },
        {
          "output_type": "stream",
          "name": "stdout",
          "text": [
            "Vector Color DCD: 32\n",
            "Vector Textura LDRP: 42\n",
            "Vector Forma: 64\n",
            "Vector HOG: 150\n",
            "Vector Histograma Color: 192\n",
            "Vector Sobel Histogram: 64\n",
            "Vector FFT Histogram: 64\n",
            "Vector Hu Moments (Normalizados): 7\n",
            "Vector Wavelet: 18\n",
            "largo_vector_concatenado 633\n",
            "1/1 [==============================] - 0s 485ms/step\n"
          ]
        },
        {
          "output_type": "stream",
          "name": "stderr",
          "text": [
            "\r 89%|████████▉ | 160/180 [01:58<00:13,  1.47it/s]"
          ]
        },
        {
          "output_type": "stream",
          "name": "stdout",
          "text": [
            "Vector Color DCD: 32\n",
            "Vector Textura LDRP: 42\n",
            "Vector Forma: 64\n",
            "Vector HOG: 150\n",
            "Vector Histograma Color: 192\n",
            "Vector Sobel Histogram: 64\n",
            "Vector FFT Histogram: 64\n",
            "Vector Hu Moments (Normalizados): 7\n",
            "Vector Wavelet: 18\n",
            "largo_vector_concatenado 633\n",
            "1/1 [==============================] - 0s 494ms/step\n"
          ]
        },
        {
          "output_type": "stream",
          "name": "stderr",
          "text": [
            "\r 89%|████████▉ | 161/180 [01:58<00:12,  1.51it/s]"
          ]
        },
        {
          "output_type": "stream",
          "name": "stdout",
          "text": [
            "Vector Color DCD: 32\n",
            "Vector Textura LDRP: 42\n",
            "Vector Forma: 64\n",
            "Vector HOG: 150\n",
            "Vector Histograma Color: 192\n",
            "Vector Sobel Histogram: 64\n",
            "Vector FFT Histogram: 64\n",
            "Vector Hu Moments (Normalizados): 7\n",
            "Vector Wavelet: 18\n",
            "largo_vector_concatenado 633\n",
            "1/1 [==============================] - 1s 503ms/step\n"
          ]
        },
        {
          "output_type": "stream",
          "name": "stderr",
          "text": [
            "\r 90%|█████████ | 162/180 [01:59<00:11,  1.53it/s]"
          ]
        },
        {
          "output_type": "stream",
          "name": "stdout",
          "text": [
            "Vector Color DCD: 32\n",
            "Vector Textura LDRP: 42\n",
            "Vector Forma: 64\n",
            "Vector HOG: 150\n",
            "Vector Histograma Color: 192\n",
            "Vector Sobel Histogram: 64\n",
            "Vector FFT Histogram: 64\n",
            "Vector Hu Moments (Normalizados): 7\n",
            "Vector Wavelet: 18\n",
            "largo_vector_concatenado 633\n",
            "1/1 [==============================] - 0s 492ms/step\n"
          ]
        },
        {
          "output_type": "stream",
          "name": "stderr",
          "text": [
            "\r 91%|█████████ | 163/180 [02:00<00:10,  1.56it/s]"
          ]
        },
        {
          "output_type": "stream",
          "name": "stdout",
          "text": [
            "Vector Color DCD: 32\n",
            "Vector Textura LDRP: 42\n",
            "Vector Forma: 64\n",
            "Vector HOG: 150\n",
            "Vector Histograma Color: 192\n",
            "Vector Sobel Histogram: 64\n",
            "Vector FFT Histogram: 64\n",
            "Vector Hu Moments (Normalizados): 7\n",
            "Vector Wavelet: 18\n",
            "largo_vector_concatenado 633\n",
            "1/1 [==============================] - 0s 497ms/step\n"
          ]
        },
        {
          "output_type": "stream",
          "name": "stderr",
          "text": [
            "\r 91%|█████████ | 164/180 [02:00<00:10,  1.58it/s]"
          ]
        },
        {
          "output_type": "stream",
          "name": "stdout",
          "text": [
            "Vector Color DCD: 32\n",
            "Vector Textura LDRP: 42\n",
            "Vector Forma: 64\n",
            "Vector HOG: 150\n",
            "Vector Histograma Color: 192\n",
            "Vector Sobel Histogram: 64\n",
            "Vector FFT Histogram: 64\n",
            "Vector Hu Moments (Normalizados): 7\n",
            "Vector Wavelet: 18\n",
            "largo_vector_concatenado 633\n",
            "1/1 [==============================] - 0s 480ms/step\n"
          ]
        },
        {
          "output_type": "stream",
          "name": "stderr",
          "text": [
            "\r 92%|█████████▏| 165/180 [02:01<00:09,  1.60it/s]"
          ]
        },
        {
          "output_type": "stream",
          "name": "stdout",
          "text": [
            "Vector Color DCD: 32\n",
            "Vector Textura LDRP: 42\n",
            "Vector Forma: 64\n",
            "Vector HOG: 150\n",
            "Vector Histograma Color: 192\n",
            "Vector Sobel Histogram: 64\n",
            "Vector FFT Histogram: 64\n",
            "Vector Hu Moments (Normalizados): 7\n",
            "Vector Wavelet: 18\n",
            "largo_vector_concatenado 633\n",
            "1/1 [==============================] - 1s 507ms/step\n"
          ]
        },
        {
          "output_type": "stream",
          "name": "stderr",
          "text": [
            "\r 92%|█████████▏| 166/180 [02:02<00:08,  1.60it/s]"
          ]
        },
        {
          "output_type": "stream",
          "name": "stdout",
          "text": [
            "Vector Color DCD: 32\n",
            "Vector Textura LDRP: 42\n",
            "Vector Forma: 64\n",
            "Vector HOG: 150\n",
            "Vector Histograma Color: 192\n",
            "Vector Sobel Histogram: 64\n",
            "Vector FFT Histogram: 64\n",
            "Vector Hu Moments (Normalizados): 7\n",
            "Vector Wavelet: 18\n",
            "largo_vector_concatenado 633\n",
            "1/1 [==============================] - 0s 484ms/step\n"
          ]
        },
        {
          "output_type": "stream",
          "name": "stderr",
          "text": [
            "\r 93%|█████████▎| 167/180 [02:02<00:08,  1.59it/s]"
          ]
        },
        {
          "output_type": "stream",
          "name": "stdout",
          "text": [
            "Vector Color DCD: 32\n",
            "Vector Textura LDRP: 42\n",
            "Vector Forma: 64\n",
            "Vector HOG: 150\n",
            "Vector Histograma Color: 192\n",
            "Vector Sobel Histogram: 64\n",
            "Vector FFT Histogram: 64\n",
            "Vector Hu Moments (Normalizados): 7\n",
            "Vector Wavelet: 18\n",
            "largo_vector_concatenado 633\n",
            "1/1 [==============================] - 0s 472ms/step\n"
          ]
        },
        {
          "output_type": "stream",
          "name": "stderr",
          "text": [
            "\r 93%|█████████▎| 168/180 [02:03<00:07,  1.60it/s]"
          ]
        },
        {
          "output_type": "stream",
          "name": "stdout",
          "text": [
            "Vector Color DCD: 32\n",
            "Vector Textura LDRP: 42\n",
            "Vector Forma: 64\n",
            "Vector HOG: 150\n",
            "Vector Histograma Color: 192\n",
            "Vector Sobel Histogram: 64\n",
            "Vector FFT Histogram: 64\n",
            "Vector Hu Moments (Normalizados): 7\n",
            "Vector Wavelet: 18\n",
            "largo_vector_concatenado 633\n",
            "1/1 [==============================] - 1s 621ms/step\n"
          ]
        },
        {
          "output_type": "stream",
          "name": "stderr",
          "text": [
            "\r 94%|█████████▍| 169/180 [02:04<00:07,  1.50it/s]"
          ]
        },
        {
          "output_type": "stream",
          "name": "stdout",
          "text": [
            "Vector Color DCD: 32\n",
            "Vector Textura LDRP: 42\n",
            "Vector Forma: 64\n",
            "Vector HOG: 150\n",
            "Vector Histograma Color: 192\n",
            "Vector Sobel Histogram: 64\n",
            "Vector FFT Histogram: 64\n",
            "Vector Hu Moments (Normalizados): 7\n",
            "Vector Wavelet: 18\n",
            "largo_vector_concatenado 633\n",
            "1/1 [==============================] - 1s 880ms/step\n"
          ]
        },
        {
          "output_type": "stream",
          "name": "stderr",
          "text": [
            "\r 94%|█████████▍| 170/180 [02:05<00:07,  1.27it/s]"
          ]
        },
        {
          "output_type": "stream",
          "name": "stdout",
          "text": [
            "Vector Color DCD: 32\n",
            "Vector Textura LDRP: 42\n",
            "Vector Forma: 64\n",
            "Vector HOG: 150\n",
            "Vector Histograma Color: 192\n",
            "Vector Sobel Histogram: 64\n",
            "Vector FFT Histogram: 64\n",
            "Vector Hu Moments (Normalizados): 7\n",
            "Vector Wavelet: 18\n",
            "largo_vector_concatenado 633\n",
            "1/1 [==============================] - 1s 874ms/step\n"
          ]
        },
        {
          "output_type": "stream",
          "name": "stderr",
          "text": [
            "\r 95%|█████████▌| 171/180 [02:06<00:07,  1.14it/s]"
          ]
        },
        {
          "output_type": "stream",
          "name": "stdout",
          "text": [
            "Vector Color DCD: 32\n",
            "Vector Textura LDRP: 42\n",
            "Vector Forma: 64\n",
            "Vector HOG: 150\n",
            "Vector Histograma Color: 192\n",
            "Vector Sobel Histogram: 64\n",
            "Vector FFT Histogram: 64\n",
            "Vector Hu Moments (Normalizados): 7\n",
            "Vector Wavelet: 18\n",
            "largo_vector_concatenado 633\n",
            "1/1 [==============================] - 1s 867ms/step\n"
          ]
        },
        {
          "output_type": "stream",
          "name": "stderr",
          "text": [
            "\r 96%|█████████▌| 172/180 [02:07<00:07,  1.08it/s]"
          ]
        },
        {
          "output_type": "stream",
          "name": "stdout",
          "text": [
            "Vector Color DCD: 32\n",
            "Vector Textura LDRP: 42\n",
            "Vector Forma: 64\n",
            "Vector HOG: 150\n",
            "Vector Histograma Color: 192\n",
            "Vector Sobel Histogram: 64\n",
            "Vector FFT Histogram: 64\n",
            "Vector Hu Moments (Normalizados): 7\n",
            "Vector Wavelet: 18\n",
            "largo_vector_concatenado 633\n",
            "1/1 [==============================] - 1s 930ms/step\n"
          ]
        },
        {
          "output_type": "stream",
          "name": "stderr",
          "text": [
            "\r 96%|█████████▌| 173/180 [02:08<00:06,  1.02it/s]"
          ]
        },
        {
          "output_type": "stream",
          "name": "stdout",
          "text": [
            "Vector Color DCD: 32\n",
            "Vector Textura LDRP: 42\n",
            "Vector Forma: 64\n",
            "Vector HOG: 150\n",
            "Vector Histograma Color: 192\n",
            "Vector Sobel Histogram: 64\n",
            "Vector FFT Histogram: 64\n",
            "Vector Hu Moments (Normalizados): 7\n",
            "Vector Wavelet: 18\n",
            "largo_vector_concatenado 633\n",
            "1/1 [==============================] - 1s 625ms/step\n"
          ]
        },
        {
          "output_type": "stream",
          "name": "stderr",
          "text": [
            "\r 97%|█████████▋| 174/180 [02:09<00:05,  1.06it/s]"
          ]
        },
        {
          "output_type": "stream",
          "name": "stdout",
          "text": [
            "Vector Color DCD: 32\n",
            "Vector Textura LDRP: 42\n",
            "Vector Forma: 64\n",
            "Vector HOG: 150\n",
            "Vector Histograma Color: 192\n",
            "Vector Sobel Histogram: 64\n",
            "Vector FFT Histogram: 64\n",
            "Vector Hu Moments (Normalizados): 7\n",
            "Vector Wavelet: 18\n",
            "largo_vector_concatenado 633\n",
            "1/1 [==============================] - 0s 485ms/step\n"
          ]
        },
        {
          "output_type": "stream",
          "name": "stderr",
          "text": [
            "\r 97%|█████████▋| 175/180 [02:09<00:04,  1.19it/s]"
          ]
        },
        {
          "output_type": "stream",
          "name": "stdout",
          "text": [
            "Vector Color DCD: 32\n",
            "Vector Textura LDRP: 42\n",
            "Vector Forma: 64\n",
            "Vector HOG: 150\n",
            "Vector Histograma Color: 192\n",
            "Vector Sobel Histogram: 64\n",
            "Vector FFT Histogram: 64\n",
            "Vector Hu Moments (Normalizados): 7\n",
            "Vector Wavelet: 18\n",
            "largo_vector_concatenado 633\n",
            "1/1 [==============================] - 0s 486ms/step\n"
          ]
        },
        {
          "output_type": "stream",
          "name": "stderr",
          "text": [
            "\r 98%|█████████▊| 176/180 [02:10<00:03,  1.29it/s]"
          ]
        },
        {
          "output_type": "stream",
          "name": "stdout",
          "text": [
            "Vector Color DCD: 32\n",
            "Vector Textura LDRP: 42\n",
            "Vector Forma: 64\n",
            "Vector HOG: 150\n",
            "Vector Histograma Color: 192\n",
            "Vector Sobel Histogram: 64\n",
            "Vector FFT Histogram: 64\n",
            "Vector Hu Moments (Normalizados): 7\n",
            "Vector Wavelet: 18\n",
            "largo_vector_concatenado 633\n",
            "1/1 [==============================] - 0s 497ms/step\n"
          ]
        },
        {
          "output_type": "stream",
          "name": "stderr",
          "text": [
            "\r 98%|█████████▊| 177/180 [02:11<00:02,  1.37it/s]"
          ]
        },
        {
          "output_type": "stream",
          "name": "stdout",
          "text": [
            "Vector Color DCD: 32\n",
            "Vector Textura LDRP: 42\n",
            "Vector Forma: 64\n",
            "Vector HOG: 150\n",
            "Vector Histograma Color: 192\n",
            "Vector Sobel Histogram: 64\n",
            "Vector FFT Histogram: 64\n",
            "Vector Hu Moments (Normalizados): 7\n",
            "Vector Wavelet: 18\n",
            "largo_vector_concatenado 633\n",
            "1/1 [==============================] - 0s 471ms/step\n"
          ]
        },
        {
          "output_type": "stream",
          "name": "stderr",
          "text": [
            "\r 99%|█████████▉| 178/180 [02:11<00:01,  1.45it/s]"
          ]
        },
        {
          "output_type": "stream",
          "name": "stdout",
          "text": [
            "Vector Color DCD: 32\n",
            "Vector Textura LDRP: 42\n",
            "Vector Forma: 64\n",
            "Vector HOG: 150\n",
            "Vector Histograma Color: 192\n",
            "Vector Sobel Histogram: 64\n",
            "Vector FFT Histogram: 64\n",
            "Vector Hu Moments (Normalizados): 7\n",
            "Vector Wavelet: 18\n",
            "largo_vector_concatenado 633\n",
            "1/1 [==============================] - 0s 490ms/step\n"
          ]
        },
        {
          "output_type": "stream",
          "name": "stderr",
          "text": [
            "\r 99%|█████████▉| 179/180 [02:12<00:00,  1.48it/s]"
          ]
        },
        {
          "output_type": "stream",
          "name": "stdout",
          "text": [
            "Vector Color DCD: 32\n",
            "Vector Textura LDRP: 42\n",
            "Vector Forma: 64\n",
            "Vector HOG: 150\n",
            "Vector Histograma Color: 192\n",
            "Vector Sobel Histogram: 64\n",
            "Vector FFT Histogram: 64\n",
            "Vector Hu Moments (Normalizados): 7\n",
            "Vector Wavelet: 18\n",
            "largo_vector_concatenado 633\n",
            "1/1 [==============================] - 0s 484ms/step\n"
          ]
        },
        {
          "output_type": "stream",
          "name": "stderr",
          "text": [
            "100%|██████████| 180/180 [02:12<00:00,  1.35it/s]\n"
          ]
        }
      ]
    },
    {
      "cell_type": "markdown",
      "source": [
        "## Normalización Global de Características Handcrafted"
      ],
      "metadata": {
        "id": "XU2S13kaWpOd"
      }
    },
    {
      "cell_type": "code",
      "source": [
        "# ---------------------------------------------\n",
        "# Bloque 7: Normalización Global de Características Handcrafted\n",
        "# ---------------------------------------------\n",
        "\n",
        "# Seleccionar la técnica de normalización\n",
        "scaler_handcrafted = StandardScaler()\n",
        "\n",
        "# Ajustar el escalador en todas las características Handcrafted\n",
        "scaler_handcrafted.fit(caracteristicas_handcrafted_np)\n",
        "\n",
        "# Transformar las características Handcrafted\n",
        "caracteristicas_handcrafted_normalizadas = scaler_handcrafted.transform(caracteristicas_handcrafted_np)\n",
        "\n",
        "# Guardar el escalador para uso futuro\n",
        "scaler_path = os.path.join(DB_PATH, 'scaler_handcrafted.pkl')\n",
        "joblib.dump(scaler_handcrafted, scaler_path)\n",
        "print(f\"Escalador Handcrafted guardado en {scaler_path}\")\n",
        "\n",
        "# Guardar las características Handcrafted normalizadas\n",
        "caracteristicas_normalizadas_path = os.path.join(DB_PATH, 'caracteristicas_handcrafted_normalizadas.npy')\n",
        "np.save(caracteristicas_normalizadas_path, caracteristicas_handcrafted_normalizadas)\n",
        "print(f\"Características Handcrafted normalizadas guardadas en {caracteristicas_normalizadas_path}\")\n",
        "\n",
        "# Verificar las estadísticas después de la normalización\n",
        "print(f\"Características Handcrafted normalizadas - min: {caracteristicas_handcrafted_normalizadas.min()}, \"\n",
        "      f\"max: {caracteristicas_handcrafted_normalizadas.max()}, \"\n",
        "      f\"mean: {caracteristicas_handcrafted_normalizadas.mean()}, \"\n",
        "      f\"std: {caracteristicas_handcrafted_normalizadas.std()}\")\n"
      ],
      "metadata": {
        "id": "wf1M5-DeWm8-",
        "colab": {
          "base_uri": "https://localhost:8080/"
        },
        "outputId": "946d4a05-097c-4bc1-d08f-62e6166c8cc5"
      },
      "execution_count": 100,
      "outputs": [
        {
          "output_type": "stream",
          "name": "stdout",
          "text": [
            "Escalador Handcrafted guardado en /content/indices/scaler_handcrafted.pkl\n",
            "Características Handcrafted normalizadas guardadas en /content/indices/caracteristicas_handcrafted_normalizadas.npy\n",
            "Características Handcrafted normalizadas - min: -12.277078628540039, max: 13.379088401794434, mean: -1.3391951436680927e-10, std: 0.9976274967193604\n"
          ]
        }
      ]
    },
    {
      "cell_type": "markdown",
      "source": [
        "## Crear y guardar Índices Faiss"
      ],
      "metadata": {
        "id": "P8zJ4sNDW-Mp"
      }
    },
    {
      "cell_type": "code",
      "source": [
        "# ---------------------------------------------\n",
        "# Bloque 7: crear y guardar indices\n",
        "# ---------------------------------------------\n",
        "\n",
        "# Crear índice FAISS para Handcrafted\n",
        "d_handcrafted = caracteristicas_handcrafted_normalizadas.shape[1]\n",
        "index_handcrafted = faiss.IndexFlatL2(d_handcrafted)\n",
        "index_handcrafted.add(caracteristicas_handcrafted_normalizadas)\n",
        "\n",
        "# Verificar que las características se han añadido correctamente\n",
        "print(f\"Índice Handcrafted - número de vectores añadidos: {index_handcrafted.ntotal}\")\n",
        "\n",
        "# Guardar el índice FAISS de Handcrafted\n",
        "index_handcrafted_path = os.path.join(DB_PATH, 'index_handcrafted.index')\n",
        "faiss.write_index(index_handcrafted, index_handcrafted_path)\n",
        "print(f\"Índice FAISS Handcrafted guardado en {index_handcrafted_path}\")\n",
        "\n",
        "# Crear índice FAISS para VGG16 (ya normalizados con L2)\n",
        "d_vgg16 = caracteristicas_vgg16_np.shape[1]\n",
        "index_vgg16 = faiss.IndexFlatL2(d_vgg16)\n",
        "index_vgg16.add(caracteristicas_vgg16_np)\n",
        "\n",
        "# Verificar que las características se han añadido correctamente\n",
        "print(f\"Índice VGG16 - número de vectores añadidos: {index_vgg16.ntotal}\")\n",
        "\n",
        "# Guardar el índice FAISS de VGG16\n",
        "index_vgg16_path = os.path.join(DB_PATH, 'index_vgg16.index')\n",
        "faiss.write_index(index_vgg16, index_vgg16_path)\n",
        "print(f\"Índice FAISS VGG16 guardado en {index_vgg16_path}\")\n",
        "\n",
        "print(f\"Dimensión de los vectores de características: {caracteristicas_handcrafted_np.shape}\")\n"
      ],
      "metadata": {
        "id": "xuRrdLY_XCCN",
        "colab": {
          "base_uri": "https://localhost:8080/"
        },
        "outputId": "b2710226-27aa-4395-8e8e-4c5b3ce63d7c"
      },
      "execution_count": 101,
      "outputs": [
        {
          "output_type": "stream",
          "name": "stdout",
          "text": [
            "Índice Handcrafted - número de vectores añadidos: 180\n",
            "Índice FAISS Handcrafted guardado en /content/indices/index_handcrafted.index\n",
            "Índice VGG16 - número de vectores añadidos: 180\n",
            "Índice FAISS VGG16 guardado en /content/indices/index_vgg16.index\n",
            "Dimensión de los vectores de características: (180, 633)\n"
          ]
        }
      ]
    },
    {
      "cell_type": "markdown",
      "source": [
        "## Guardar Etiquetas y rutas"
      ],
      "metadata": {
        "id": "KMAOkMQmXbUR"
      }
    },
    {
      "cell_type": "code",
      "source": [
        "# ---------------------------------------------\n",
        "# Bloque 10: Crear Archivo CSV con Nombre de Imagen y Label\n",
        "# ---------------------------------------------\n",
        "\n",
        "# Crear un DataFrame con nombre de imagen y etiqueta\n",
        "df_csv = pd.DataFrame({\n",
        "    'image_name': [os.path.basename(path) for path in all_image_paths],\n",
        "    'label': all_labels\n",
        "})\n",
        "\n",
        "# Definir la ruta para guardar el CSV\n",
        "csv_path = os.path.join(DB_PATH, 'images_labels.csv')\n",
        "\n",
        "# Guardar el DataFrame como CSV\n",
        "df_csv.to_csv(csv_path, index=False)\n",
        "print(f\"Archivo CSV creado en {csv_path}\")\n"
      ],
      "metadata": {
        "id": "ozAPsewsXiJQ",
        "colab": {
          "base_uri": "https://localhost:8080/"
        },
        "outputId": "3f68e75b-8588-46fe-ad23-40fa7d56bcb3"
      },
      "execution_count": 102,
      "outputs": [
        {
          "output_type": "stream",
          "name": "stdout",
          "text": [
            "Archivo CSV creado en /content/indices/images_labels.csv\n"
          ]
        }
      ]
    },
    {
      "cell_type": "code",
      "source": [
        "# ---------------------------------------------\n",
        "# Bloque 11: Copiar Índices y Datos a Google Drive\n",
        "# ---------------------------------------------\n",
        "\n",
        "# Lista de archivos a copiar\n",
        "archivos_a_copiar = [\n",
        "    'index_handcrafted.index',\n",
        "    'index_vgg16.index',\n",
        "    'scaler_handcrafted.pkl',\n",
        "    'images_labels.csv'\n",
        "]\n",
        "\n",
        "# Copiar cada archivo a Google Drive\n",
        "for archivo in archivos_a_copiar:\n",
        "    src = os.path.join(DB_PATH, archivo)\n",
        "    dst = os.path.join(drive_folder, archivo)\n",
        "    if os.path.exists(src):\n",
        "        !cp \"{src}\" \"{dst}\"\n",
        "        print(f\"Archivo copiado a Google Drive: {archivo}\")\n",
        "    else:\n",
        "        print(f\"El archivo no existe y no se pudo copiar: {archivo}\")\n"
      ],
      "metadata": {
        "id": "gbHR2kH9XkaT",
        "colab": {
          "base_uri": "https://localhost:8080/"
        },
        "outputId": "f0b71ae2-7720-417f-f7db-729ae85a04b1"
      },
      "execution_count": 103,
      "outputs": [
        {
          "output_type": "stream",
          "name": "stdout",
          "text": [
            "Archivo copiado a Google Drive: index_handcrafted.index\n",
            "Archivo copiado a Google Drive: index_vgg16.index\n",
            "Archivo copiado a Google Drive: scaler_handcrafted.pkl\n",
            "Archivo copiado a Google Drive: images_labels.csv\n"
          ]
        }
      ]
    },
    {
      "cell_type": "code",
      "source": [
        "# Información detallada del DataFrame\n",
        "print(\"\\nInformación del DataFrame:\")\n",
        "print(df.info())\n",
        "\n",
        "# Descripción estadística de las etiquetas\n",
        "print(\"\\nDistribución de etiquetas:\")\n",
        "print(df['label'].value_counts())\n"
      ],
      "metadata": {
        "id": "pkg7Wj2bbbWL",
        "colab": {
          "base_uri": "https://localhost:8080/"
        },
        "outputId": "59470c6a-5819-4d52-93e3-87efad37199c"
      },
      "execution_count": 104,
      "outputs": [
        {
          "output_type": "stream",
          "name": "stdout",
          "text": [
            "\n",
            "Información del DataFrame:\n",
            "<class 'pandas.core.frame.DataFrame'>\n",
            "RangeIndex: 180 entries, 0 to 179\n",
            "Data columns (total 2 columns):\n",
            " #   Column      Non-Null Count  Dtype \n",
            "---  ------      --------------  ----- \n",
            " 0   image_path  180 non-null    object\n",
            " 1   label       180 non-null    object\n",
            "dtypes: object(2)\n",
            "memory usage: 2.9+ KB\n",
            "None\n",
            "\n",
            "Distribución de etiquetas:\n",
            "label\n",
            "Montaña      30\n",
            "Oceano       30\n",
            "Bosque       30\n",
            "Glaciares    30\n",
            "Edificios    30\n",
            "Calles       30\n",
            "Name: count, dtype: int64\n"
          ]
        }
      ]
    },
    {
      "cell_type": "code",
      "source": [],
      "metadata": {
        "id": "kU-DY6QB5gOu"
      },
      "execution_count": 104,
      "outputs": []
    }
  ]
}